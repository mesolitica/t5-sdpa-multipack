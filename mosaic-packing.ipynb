{
 "cells": [
  {
   "cell_type": "code",
   "execution_count": 1,
   "id": "ba947cb9",
   "metadata": {},
   "outputs": [],
   "source": [
    "# !pip3.10 install --pre torch==2.5.0.dev20240912+cu121 --index-url https://download.pytorch.org/whl/nightly/cu121"
   ]
  },
  {
   "cell_type": "code",
   "execution_count": 2,
   "id": "b3a352af",
   "metadata": {},
   "outputs": [],
   "source": [
    "# !pip3.10 install torch -U"
   ]
  },
  {
   "cell_type": "code",
   "execution_count": 3,
   "id": "1da3bf03",
   "metadata": {},
   "outputs": [],
   "source": [
    "# !pip3.10 uninstall transformers -y"
   ]
  },
  {
   "cell_type": "code",
   "execution_count": 4,
   "id": "2f7a6217",
   "metadata": {},
   "outputs": [],
   "source": [
    "# !pip3.10 install -e . --no-deps"
   ]
  },
  {
   "cell_type": "code",
   "execution_count": 5,
   "id": "3e0b726d",
   "metadata": {},
   "outputs": [],
   "source": [
    "import json\n",
    "import torch\n",
    "import torch.nn.functional as F\n",
    "import math\n",
    "from glob import glob"
   ]
  },
  {
   "cell_type": "code",
   "execution_count": 6,
   "id": "a22bc36e",
   "metadata": {},
   "outputs": [
    {
     "name": "stderr",
     "output_type": "stream",
     "text": [
      "Special tokens have been added in the vocabulary, make sure the associated word embeddings are fine-tuned or trained.\n"
     ]
    }
   ],
   "source": [
    "from transformers import AutoTokenizer, T5ForConditionalGeneration\n",
    "\n",
    "tokenizer = AutoTokenizer.from_pretrained('mesolitica/nanot5-small-malaysian-cased', local_files_only = True)"
   ]
  },
  {
   "cell_type": "code",
   "execution_count": 7,
   "id": "2e029640",
   "metadata": {},
   "outputs": [],
   "source": [
    "model = T5ForConditionalGeneration.from_pretrained('mesolitica/nanot5-small-malaysian-translation-v2',\n",
    "                                                  attn_implementation = 'sdpa', local_files_only = True).to(torch.bfloat16)"
   ]
  },
  {
   "cell_type": "code",
   "execution_count": 8,
   "id": "6efb62bd",
   "metadata": {
    "scrolled": true
   },
   "outputs": [
    {
     "data": {
      "text/plain": [
       "<All keys matched successfully>"
      ]
     },
     "execution_count": 8,
     "metadata": {},
     "output_type": "execute_result"
    }
   ],
   "source": [
    "encoder_emb = torch.nn.Embedding(\n",
    "    model.config.relative_attention_num_buckets, \n",
    "    model.config.num_heads\n",
    ")\n",
    "encoder_emb.load_state_dict(\n",
    "    model.encoder.block[0].layer[0].SelfAttention.relative_attention_bias.state_dict()\n",
    ")\n",
    "\n",
    "decoder_emb = torch.nn.Embedding(\n",
    "    model.config.relative_attention_num_buckets, \n",
    "    model.config.num_heads\n",
    ")\n",
    "decoder_emb.load_state_dict(\n",
    "    model.decoder.block[0].layer[0].SelfAttention.relative_attention_bias.state_dict()\n",
    ")"
   ]
  },
  {
   "cell_type": "code",
   "execution_count": 9,
   "id": "44ec705e",
   "metadata": {},
   "outputs": [
    {
     "data": {
      "text/plain": [
       "68"
      ]
     },
     "execution_count": 9,
     "metadata": {},
     "output_type": "execute_result"
    }
   ],
   "source": [
    "files = glob('/home/husein/ssd3/translation/train.json*.splitted')\n",
    "len(files)"
   ]
  },
  {
   "cell_type": "code",
   "execution_count": 10,
   "id": "0bd31c24",
   "metadata": {},
   "outputs": [],
   "source": [
    "from streaming import MDSWriter\n",
    "from streaming.base.format.mds.encodings import Encoding, _encodings\n",
    "from streaming import LocalDataset\n",
    "import streaming\n",
    "import numpy as np\n",
    "from tqdm import tqdm\n",
    "from glob import glob\n",
    "import os\n",
    "import json\n",
    "\n",
    "class UInt32(Encoding):\n",
    "    def encode(self, obj) -> bytes:\n",
    "        return obj.tobytes()\n",
    "\n",
    "    def decode(self, data: bytes):\n",
    "        return np.frombuffer(data, np.uint32)\n",
    "\n",
    "_encodings['uint32'] = UInt32\n",
    "\n",
    "columns = {\n",
    "    'data': 'str',\n",
    "}\n",
    "hashes = 'sha1', 'xxh64'"
   ]
  },
  {
   "cell_type": "code",
   "execution_count": 12,
   "id": "6a492b56",
   "metadata": {},
   "outputs": [],
   "source": [
    "def _relative_position_bucket(relative_position, bidirectional=True, num_buckets=32, max_distance=128):\n",
    "    \"\"\"\n",
    "    Adapted from Mesh Tensorflow:\n",
    "    https://github.com/tensorflow/mesh/blob/0cb87fe07da627bf0b7e60475d59f95ed6b5be3d/mesh_tensorflow/transformer/transformer_layers.py#L593\n",
    "\n",
    "    Translate relative position to a bucket number for relative attention. The relative position is defined as\n",
    "    memory_position - query_position, i.e. the distance in tokens from the attending position to the attended-to\n",
    "    position. If bidirectional=False, then positive relative positions are invalid. We use smaller buckets for\n",
    "    small absolute relative_position and larger buckets for larger absolute relative_positions. All relative\n",
    "    positions >=max_distance map to the same bucket. All relative positions <=-max_distance map to the same bucket.\n",
    "    This should allow for more graceful generalization to longer sequences than the model has been trained on\n",
    "\n",
    "    Args:\n",
    "        relative_position: an int32 Tensor\n",
    "        bidirectional: a boolean - whether the attention is bidirectional\n",
    "        num_buckets: an integer\n",
    "        max_distance: an integer\n",
    "\n",
    "    Returns:\n",
    "        a Tensor with the same shape as relative_position, containing int32 values in the range [0, num_buckets)\n",
    "    \"\"\"\n",
    "    relative_buckets = 0\n",
    "    if bidirectional:\n",
    "        num_buckets //= 2\n",
    "        relative_buckets += (relative_position > 0).to(torch.long) * num_buckets\n",
    "        relative_position = torch.abs(relative_position)\n",
    "    else:\n",
    "        relative_position = -torch.min(relative_position, torch.zeros_like(relative_position))\n",
    "    # now relative_position is in the range [0, inf)\n",
    "\n",
    "    # half of the buckets are for exact increments in positions\n",
    "    max_exact = num_buckets // 2\n",
    "    is_small = relative_position < max_exact\n",
    "\n",
    "    # The other half of the buckets are for logarithmically bigger bins in positions up to max_distance\n",
    "    relative_position_if_large = max_exact + (\n",
    "        torch.log(relative_position.float() / max_exact)\n",
    "        / math.log(max_distance / max_exact)\n",
    "        * (num_buckets - max_exact)\n",
    "    ).to(torch.long)\n",
    "    relative_position_if_large = torch.min(\n",
    "        relative_position_if_large, torch.full_like(relative_position_if_large, num_buckets - 1)\n",
    "    )\n",
    "\n",
    "    relative_buckets += torch.where(is_small, relative_position, relative_position_if_large)\n",
    "    return relative_buckets\n",
    "\n",
    "def compute_bias(\n",
    "    query_length, \n",
    "    key_length,\n",
    "    relative_attention_bias,\n",
    "    bidirectional = True, \n",
    "    num_buckets = 32, \n",
    "    max_distance = 128, \n",
    "    device=None,\n",
    "):\n",
    "    \"\"\"Compute binned relative position bias\"\"\"\n",
    "    if device is None:\n",
    "        device = relative_attention_bias.weight.device\n",
    "    context_position = torch.arange(query_length, dtype=torch.long, device=device)[:, None]\n",
    "    memory_position = torch.arange(key_length, dtype=torch.long, device=device)[None, :]\n",
    "    relative_position = memory_position - context_position  # shape (query_length, key_length)\n",
    "    relative_position_bucket = _relative_position_bucket(\n",
    "        relative_position,  # shape (query_length, key_length)\n",
    "        bidirectional=bidirectional,\n",
    "        num_buckets=num_buckets,\n",
    "        max_distance=max_distance,\n",
    "    )\n",
    "    values = relative_attention_bias(relative_position_bucket)  # shape (query_length, key_length, num_heads)\n",
    "    values = values.permute([2, 0, 1]).unsqueeze(0)  # shape (1, num_heads, query_length, key_length)\n",
    "    return values\n",
    "\n",
    "def block_diagonal_concat_inverted(*masks, dtype=torch.bfloat16):\n",
    "    total_size = sum(mask.size(0) for mask in masks)\n",
    "    combined_mask = torch.zeros(total_size, total_size, dtype=dtype)\n",
    "\n",
    "    current_pos = 0\n",
    "\n",
    "    for mask in masks:\n",
    "        size = mask.size(0)\n",
    "        combined_mask[current_pos:current_pos + size, current_pos:current_pos + size] = mask\n",
    "        current_pos += size\n",
    "\n",
    "    min_value = torch.finfo(dtype).min if dtype.is_floating_point else torch.iinfo(dtype).min\n",
    "    inverted_mask = torch.where(combined_mask == 1, torch.tensor(0, dtype=dtype), min_value)\n",
    "    return inverted_mask.unsqueeze(0)\n",
    "\n",
    "def pad_attention_mask(attention_mask):\n",
    "    maxlen_right = max([attention_mask[i].shape[1] for i in range(len(attention_mask))])\n",
    "    maxlen_bottom = max([attention_mask[i].shape[0] for i in range(len(attention_mask))])\n",
    "    attention_mask = [\n",
    "        F.pad(\n",
    "            attention_mask[i],\n",
    "            (0, maxlen_right - attention_mask[i].shape[1], 0, maxlen_bottom - attention_mask[i].shape[0])) for i in range(\n",
    "            len(attention_mask))]\n",
    "    return torch.stack(attention_mask)\n",
    "\n",
    "def pad_attention_mask_4d(attention_mask):\n",
    "    maxlen_right = max([attention_mask[i].shape[-2] for i in range(len(attention_mask))])\n",
    "    maxlen_bottom = max([attention_mask[i].shape[-1] for i in range(len(attention_mask))])\n",
    "    attention_mask = [\n",
    "        F.pad(\n",
    "            attention_mask[i],\n",
    "            (0, maxlen_right - attention_mask[i].shape[-2], 0, maxlen_bottom - attention_mask[i].shape[-1])) for i in range(\n",
    "            len(attention_mask))]\n",
    "    return torch.stack(attention_mask)\n",
    "\n",
    "def block_diagonal_concat(*masks, dtype=torch.bfloat16):\n",
    "    total_size = sum(mask.size(0) for mask in masks)\n",
    "    combined_mask = torch.zeros(total_size, total_size, dtype=dtype)\n",
    "\n",
    "    current_pos = 0\n",
    "\n",
    "    for mask in masks:\n",
    "        size = mask.size(0)\n",
    "        combined_mask[current_pos:current_pos + size, current_pos:current_pos + size] = mask\n",
    "        current_pos += size\n",
    "\n",
    "    return combined_mask\n",
    "\n",
    "def block_diagonal_concat_4d(*masks, dtype=torch.bfloat16):\n",
    "    total_size = sum(mask.size(1) for mask in masks)\n",
    "    combined_mask = torch.zeros(masks[0].shape[0], \n",
    "                                total_size, total_size, dtype=dtype)\n",
    "\n",
    "    current_pos = 0\n",
    "\n",
    "    for mask in masks:\n",
    "        size = mask.size(1)\n",
    "        combined_mask[:, current_pos:current_pos + size, current_pos:current_pos + size] = mask\n",
    "        current_pos += size\n",
    "\n",
    "    return combined_mask\n",
    "\n",
    "def block_diagonal_concat_cross(*masks, dtype=torch.bfloat16):\n",
    "    total_rows = sum(mask.size(0) for mask in masks)\n",
    "    total_cols = sum(mask.size(1) for mask in masks)\n",
    "    \n",
    "    combined_mask = torch.zeros((total_rows, total_cols), dtype=dtype)\n",
    "    \n",
    "    current_row, current_col = 0, 0\n",
    "\n",
    "    for mask in masks:\n",
    "        rows, cols = mask.size()\n",
    "        combined_mask[current_row:current_row + rows, current_col:current_col + cols] = mask\n",
    "        current_row += rows\n",
    "        current_col += cols\n",
    "        \n",
    "    return combined_mask\n",
    "\n",
    "def multipack(input_ids, labels, lengths):\n",
    "    results = {\n",
    "        'input_ids': input_ids,\n",
    "        'labels': labels,\n",
    "    }\n",
    "    attention_mask = []\n",
    "    encoder_attention_mask = []\n",
    "    decoder_attention_mask = []\n",
    "    encoder_biases = []\n",
    "    decoder_biases = []\n",
    "    \n",
    "    for length in lengths:\n",
    "        left_len = length[0]\n",
    "        right_len = length[1]\n",
    "        \n",
    "        attention_mask.append(torch.ones(left_len, left_len))\n",
    "        encoder_attention_mask.append(torch.ones(right_len, left_len))\n",
    "        decoder_attention_mask.append(torch.tril(torch.ones(right_len, right_len)))\n",
    "        \n",
    "        encoder_bias = compute_bias(\n",
    "            left_len, left_len,\n",
    "            encoder_emb,\n",
    "            bidirectional=True,\n",
    "            num_buckets=model.config.relative_attention_num_buckets,\n",
    "            max_distance=model.config.relative_attention_max_distance,\n",
    "        )\n",
    "        encoder_biases.append(encoder_bias[0])\n",
    "        \n",
    "        decoder_bias = compute_bias(\n",
    "            right_len, right_len,\n",
    "            decoder_emb,\n",
    "            bidirectional=False,\n",
    "            num_buckets=model.config.relative_attention_num_buckets,\n",
    "            max_distance=model.config.relative_attention_max_distance,\n",
    "        )\n",
    "        decoder_biases.append(decoder_bias[0])\n",
    "        \n",
    "    results['attention_mask'] = block_diagonal_concat(*attention_mask)\n",
    "    results['encoder_attention_mask'] = block_diagonal_concat_cross(*encoder_attention_mask)\n",
    "    results['decoder_attention_mask'] = block_diagonal_concat(*decoder_attention_mask)\n",
    "    \n",
    "    results['position_bias'] = block_diagonal_concat_4d(*encoder_biases)\n",
    "    results['decoder_position_bias'] = block_diagonal_concat_4d(*decoder_biases)\n",
    "    \n",
    "    return results\n",
    "\n",
    "def collator(batch, pad_token_id = 1, label_pad = -100):\n",
    "    max_length = max(len(l['input_ids']) for l in batch)\n",
    "    results = {}\n",
    "    results['input_ids'] = [\n",
    "        b['input_ids'] + [pad_token_id] * (max_length - len(b['input_ids']))\n",
    "        for b in batch\n",
    "    ]\n",
    "    results['input_ids'] = torch.tensor(results['input_ids'], dtype = torch.int64)\n",
    "    \n",
    "    max_length = max(len(l['labels']) for l in batch)\n",
    "    results['labels'] = [\n",
    "        b['labels'] + [label_pad] * (max_length - len(b['labels']))\n",
    "        for b in batch\n",
    "    ]\n",
    "    results['labels'] = torch.tensor(results['labels'], dtype = torch.int64)\n",
    "    \n",
    "    results['position_bias'] = pad_attention_mask_4d([b['position_bias'] for b in batch])\n",
    "    results['decoder_position_bias'] = pad_attention_mask_4d([b['decoder_position_bias'] for b in batch])\n",
    "    \n",
    "    attention_mask = [b['attention_mask'] for b in batch]\n",
    "    results['attention_mask'] = pad_attention_mask(attention_mask)\n",
    "    encoder_attention_mask = [b['encoder_attention_mask'] for b in batch]\n",
    "    results['encoder_attention_mask'] = pad_attention_mask(encoder_attention_mask)\n",
    "    decoder_attention_mask = [b['decoder_attention_mask'] for b in batch]\n",
    "    results['decoder_attention_mask'] = pad_attention_mask(decoder_attention_mask)\n",
    "    \n",
    "    dtype = results['attention_mask'].dtype\n",
    "    encoder_extended_attention_mask = results['attention_mask'][:, None, :, :]\n",
    "    encoder_extended_attention_mask = encoder_extended_attention_mask\n",
    "    encoder_extended_attention_mask = (1.0 - encoder_extended_attention_mask) * torch.finfo(dtype).min\n",
    "    results['position_bias'] = results['position_bias'] + encoder_extended_attention_mask\n",
    "    \n",
    "    dtype = results['decoder_attention_mask'].dtype\n",
    "    encoder_extended_attention_mask = results['decoder_attention_mask'][:, None, :, :]\n",
    "    encoder_extended_attention_mask = encoder_extended_attention_mask\n",
    "    encoder_extended_attention_mask = (1.0 - encoder_extended_attention_mask) * torch.finfo(dtype).min\n",
    "    results['decoder_position_bias'] = results['decoder_position_bias'] + encoder_extended_attention_mask\n",
    "    \n",
    "    return results"
   ]
  },
  {
   "cell_type": "code",
   "execution_count": 27,
   "id": "a3b8ed3f",
   "metadata": {},
   "outputs": [],
   "source": [
    "!mkdir tokenized-4096"
   ]
  },
  {
   "cell_type": "code",
   "execution_count": 28,
   "id": "95e6f315",
   "metadata": {},
   "outputs": [],
   "source": [
    "def loop(files, block_size = 4096):\n",
    "    files, index = files\n",
    "    \n",
    "    out_root = f'tokenized-4096/tokenized-{index}'\n",
    "    os.system(f'rm -rf {out_root}')\n",
    "    \n",
    "    count_input_ids = 0\n",
    "    count_labels = 0\n",
    "    input_ids = []\n",
    "    labels = []\n",
    "    lengths = []\n",
    "    found = False\n",
    "    with MDSWriter(out=out_root, columns=columns, compression=None, hashes=hashes) as out:\n",
    "        for f in files:\n",
    "            with open(f) as fopen:\n",
    "                for l in tqdm(fopen):\n",
    "                    try:\n",
    "                        l = json.loads(l)['translation']\n",
    "                        left = l['prefix'] + l['src'] + tokenizer.eos_token\n",
    "                        right = l['tgt'] + tokenizer.eos_token\n",
    "\n",
    "                        left = tokenizer(left)['input_ids']\n",
    "                        right = tokenizer(right)['input_ids']\n",
    "                        \n",
    "                        if len(left) > block_size or len(right) > block_size:\n",
    "                            continue\n",
    "                    except:\n",
    "                        continue\n",
    "\n",
    "                    if count_input_ids + len(left) >= block_size or count_labels + len(left) >= block_size:\n",
    "                        \n",
    "                        if len(input_ids) and len(labels):\n",
    "                            d = {\n",
    "                                'input_ids': input_ids,\n",
    "                                'labels': labels,\n",
    "                                'lengths': lengths\n",
    "                            }\n",
    "                            count_input_ids = len(left)\n",
    "                            count_labels = len(right)\n",
    "                            input_ids = left\n",
    "                            labels = right\n",
    "                            lengths = [(len(left), len(right))]\n",
    "\n",
    "                            d = json.dumps(d)\n",
    "\n",
    "                            out.write({\n",
    "                                'data': d,\n",
    "                            })       \n",
    "\n",
    "                    else:\n",
    "                        count_input_ids += len(left)\n",
    "                        count_labels += len(right)\n",
    "                        input_ids.extend(left)\n",
    "                        labels.extend(right)\n",
    "                        lengths.append((len(left), len(right)))"
   ]
  },
  {
   "cell_type": "code",
   "execution_count": 29,
   "id": "205eec9c",
   "metadata": {},
   "outputs": [],
   "source": [
    "# !wget https://gist.githubusercontent.com/huseinzol05/98974ae8c6c7a65d4bc0af9f5003786a/raw/2e06e71ef7349a57bc58cc9913ae6bae1f9f8447/mp.py"
   ]
  },
  {
   "cell_type": "code",
   "execution_count": 30,
   "id": "2d9688c4",
   "metadata": {},
   "outputs": [],
   "source": [
    "import mp"
   ]
  },
  {
   "cell_type": "code",
   "execution_count": null,
   "id": "baa99e45",
   "metadata": {
    "scrolled": true
   },
   "outputs": [
    {
     "name": "stderr",
     "output_type": "stream",
     "text": [
      "1000000it [03:49, 4366.66it/s]\n",
      "1000000it [04:02, 4131.46it/s]\n",
      "1000000it [04:04, 4085.34it/s]\n",
      "1000000it [04:35, 3632.01it/s]\n",
      "1000000it [05:16, 3157.30it/s]\n",
      "1000000it [05:18, 3136.65it/s]\n",
      "1000000it [05:38, 2955.02it/s]\n",
      "1000000it [06:00, 2774.71it/s]\n",
      "1000000it [06:14, 2669.13it/s]\n",
      "1000000it [06:15, 2660.57it/s]\n",
      "1000000it [06:45, 2467.39it/s]\n",
      "1000000it [07:11, 2316.30it/s]\n",
      "1000000it [07:16, 2289.88it/s]\n",
      "1000000it [04:02, 4118.25it/s]\n",
      "1000000it [04:24, 3784.81it/s]\n",
      "1000000it [04:31, 3688.85it/s]\n",
      "1000000it [08:57, 1861.66it/s]\n",
      "1000000it [02:42, 6164.25it/s]\n",
      "1000000it [04:25, 3772.05it/s]\n",
      "1000000it [03:17, 5062.00it/s]\n",
      "1000000it [10:12, 1631.59it/s]\n",
      "1000000it [05:10, 3216.73it/s]\n",
      "1000000it [03:24, 4887.27it/s]\n",
      "1000000it [05:27, 3055.80it/s]\n",
      "1000000it [04:17, 3879.38it/s]\n",
      "1000000it [05:26, 3065.65it/s]\n",
      "1000000it [03:35, 4643.63it/s]\n",
      "1000000it [02:53, 5773.68it/s]\n",
      "1000000it [02:52, 5803.79it/s]\n",
      "1000000it [03:53, 4274.86it/s]\n",
      "1000000it [03:37, 4604.60it/s]\n",
      "1000000it [02:41, 6200.34it/s]\n",
      "1000000it [02:57, 5640.44it/s]\n",
      "1000000it [03:30, 4742.31it/s]\n",
      "1000000it [03:37, 4600.64it/s]\n",
      "1000000it [03:32, 4713.47it/s]\n",
      "1000000it [03:05, 5386.61it/s]\n",
      "1000000it [03:39, 4556.77it/s]\n",
      "1000000it [03:46, 4417.46it/s]\n",
      "1000000it [10:41, 1558.17it/s]\n",
      "1000000it [07:30, 2220.85it/s]\n",
      "1000000it [03:12, 5191.67it/s]\n",
      "1000000it [03:54, 4258.70it/s]\n",
      "1000000it [11:36, 1436.18it/s]\n",
      "774065it [01:54, 6775.77it/s]\n",
      "1000000it [05:26, 3064.01it/s]\n",
      "1000000it [05:55, 2812.94it/s]\n",
      "1000000it [05:27, 3053.59it/s]\n",
      "1000000it [03:12, 5205.56it/s]\n",
      "1000000it [05:12, 3202.42it/s]\n",
      "1000000it [02:13, 7467.34it/s]\n",
      "1000000it [02:01, 8207.39it/s]\n",
      "1000000it [03:01, 5504.45it/s]\n",
      "1000000it [08:11, 2034.97it/s]\n",
      "1000000it [03:38, 4583.35it/s]\n",
      "1000000it [03:08, 5311.59it/s]\n",
      "1000000it [01:56, 8605.05it/s]\n",
      "1000000it [01:51, 8942.81it/s]\n",
      "1000000it [03:09, 5266.92it/s]\n",
      "1000000it [02:28, 6726.95it/s]\n",
      "1000000it [03:28, 4792.22it/s]\n",
      "1000000it [09:26, 1764.12it/s]\n",
      "1000000it [04:42, 3534.14it/s]\n",
      "1000000it [15:13, 1094.86it/s]\n",
      "1000000it [05:25, 3068.46it/s]\n",
      "1000000it [10:24, 1602.10it/s]\n",
      "959376it [02:35, 7753.81it/s]"
     ]
    }
   ],
   "source": [
    "mp.multiprocessing(files, loop, cores = 15, returned = False)"
   ]
  },
  {
   "cell_type": "code",
   "execution_count": 18,
   "id": "cb405c37",
   "metadata": {},
   "outputs": [
    {
     "data": {
      "text/plain": [
       "['tokenized/tokenized-0',\n",
       " 'tokenized/tokenized-1',\n",
       " 'tokenized/tokenized-2',\n",
       " 'tokenized/tokenized-3',\n",
       " 'tokenized/tokenized-4',\n",
       " 'tokenized/tokenized-5',\n",
       " 'tokenized/tokenized-6',\n",
       " 'tokenized/tokenized-7',\n",
       " 'tokenized/tokenized-8',\n",
       " 'tokenized/tokenized-9',\n",
       " 'tokenized/tokenized-10',\n",
       " 'tokenized/tokenized-11',\n",
       " 'tokenized/tokenized-12',\n",
       " 'tokenized/tokenized-13',\n",
       " 'tokenized/tokenized-14',\n",
       " 'tokenized/tokenized-15',\n",
       " 'tokenized/tokenized-16']"
      ]
     },
     "execution_count": 18,
     "metadata": {},
     "output_type": "execute_result"
    }
   ],
   "source": [
    "folders = sorted(glob('tokenized/tokenized-*'), key = lambda x: int(x.split('-')[-1]))\n",
    "folders"
   ]
  },
  {
   "cell_type": "code",
   "execution_count": 19,
   "id": "c097d884",
   "metadata": {
    "scrolled": true
   },
   "outputs": [],
   "source": [
    "!rm -rf packing"
   ]
  },
  {
   "cell_type": "code",
   "execution_count": 20,
   "id": "c654363e",
   "metadata": {},
   "outputs": [
    {
     "name": "stderr",
     "output_type": "stream",
     "text": [
      "100%|██████████████████████████████████████████████████████████████████████████████████| 119879/119879 [00:06<00:00, 19764.24it/s]\n",
      "100%|██████████████████████████████████████████████████████████████████████████████████| 211190/211190 [00:08<00:00, 24475.58it/s]\n",
      "100%|████████████████████████████████████████████████████████████████████████████████████| 90072/90072 [00:05<00:00, 17532.17it/s]\n",
      "100%|█████████████████████████████████████████████████████████████████████████████████████| 75698/75698 [00:07<00:00, 9632.93it/s]\n",
      "100%|██████████████████████████████████████████████████████████████████████████████████| 181973/181973 [00:08<00:00, 22571.91it/s]\n",
      "100%|███████████████████████████████████████████████████████████████████████████████████| 158549/158549 [00:23<00:00, 6682.83it/s]\n",
      "100%|██████████████████████████████████████████████████████████████████████████████████| 160069/160069 [00:08<00:00, 18060.45it/s]\n",
      "100%|█████████████████████████████████████████████████████████████████████████████████████| 85090/85090 [00:13<00:00, 6215.97it/s]\n",
      "100%|█████████████████████████████████████████████████████████████████████████████████████| 97055/97055 [00:10<00:00, 9477.58it/s]\n",
      "100%|██████████████████████████████████████████████████████████████████████████████████| 103753/103753 [00:05<00:00, 17784.00it/s]\n",
      "100%|███████████████████████████████████████████████████████████████████████████████████| 165180/165180 [00:21<00:00, 7514.07it/s]\n",
      "100%|██████████████████████████████████████████████████████████████████████████████████| 180362/180362 [00:08<00:00, 20201.09it/s]\n",
      "100%|███████████████████████████████████████████████████████████████████████████████████| 156577/156577 [00:17<00:00, 8991.27it/s]\n",
      "100%|████████████████████████████████████████████████████████████████████████████████████| 72075/72075 [00:03<00:00, 18462.36it/s]\n",
      "100%|█████████████████████████████████████████████████████████████████████████████████████| 74364/74364 [00:13<00:00, 5517.51it/s]\n",
      "100%|██████████████████████████████████████████████████████████████████████████████████| 267130/267130 [00:23<00:00, 11170.85it/s]\n",
      "100%|███████████████████████████████████████████████████████████████████████████████████| 191841/191841 [00:21<00:00, 8797.53it/s]\n"
     ]
    }
   ],
   "source": [
    "with MDSWriter(out='packing', columns=columns, compression=None, hashes=hashes) as out:\n",
    "    for f in folders:\n",
    "        try:\n",
    "            dataset = LocalDataset(local=f)\n",
    "            for i in tqdm(range(len(dataset))):\n",
    "                out.write(dataset[i])\n",
    "        except Exception as e:\n",
    "            print(e)\n",
    "            pass"
   ]
  },
  {
   "cell_type": "code",
   "execution_count": 21,
   "id": "212bffdb",
   "metadata": {},
   "outputs": [],
   "source": [
    "dataset = LocalDataset('/home/husein/mesolitica/t5-sdpa-multipack/packing')"
   ]
  },
  {
   "cell_type": "code",
   "execution_count": 22,
   "id": "ad45eb8c",
   "metadata": {},
   "outputs": [
    {
     "data": {
      "text/plain": [
       "2390857"
      ]
     },
     "execution_count": 22,
     "metadata": {},
     "output_type": "execute_result"
    }
   ],
   "source": [
    "len(dataset)"
   ]
  },
  {
   "cell_type": "code",
   "execution_count": 23,
   "id": "1076c5a0",
   "metadata": {},
   "outputs": [],
   "source": [
    "d = json.loads(dataset[0]['data'])\n",
    "b = multipack(**d)\n",
    "d = json.loads(dataset[1]['data'])\n",
    "b1 = multipack(**d)"
   ]
  },
  {
   "cell_type": "code",
   "execution_count": 24,
   "id": "6a38a9f0",
   "metadata": {
    "scrolled": true
   },
   "outputs": [
    {
     "name": "stdout",
     "output_type": "stream",
     "text": [
      "CPU times: user 1.44 s, sys: 95.5 ms, total: 1.53 s\n",
      "Wall time: 163 ms\n"
     ]
    }
   ],
   "source": [
    "%%time\n",
    "\n",
    "input_ids = collator([b])"
   ]
  },
  {
   "cell_type": "code",
   "execution_count": 26,
   "id": "60a73f39",
   "metadata": {},
   "outputs": [
    {
     "data": {
      "text/plain": [
       "torch.Size([1, 2001])"
      ]
     },
     "execution_count": 26,
     "metadata": {},
     "output_type": "execute_result"
    }
   ],
   "source": [
    "input_ids['input_ids'].shape"
   ]
  },
  {
   "cell_type": "code",
   "execution_count": 2,
   "id": "c8493ed0",
   "metadata": {},
   "outputs": [
    {
     "data": {
      "text/plain": [
       "RepoUrl('https://huggingface.co/datasets/mesolitica/malaysian-translation-v2-multipack-2048', endpoint='https://huggingface.co', repo_type='dataset', repo_id='mesolitica/malaysian-translation-v2-multipack-2048')"
      ]
     },
     "execution_count": 2,
     "metadata": {},
     "output_type": "execute_result"
    }
   ],
   "source": [
    "from huggingface_hub import create_repo, delete_repo\n",
    "\n",
    "try:\n",
    "    delete_repo(repo_id=\"mesolitica/malaysian-translation-v2-multipack-2048\", repo_type=\"dataset\")\n",
    "except:\n",
    "    pass\n",
    "create_repo(\"mesolitica/malaysian-translation-v2-multipack-2048\", repo_type=\"dataset\", private = True)"
   ]
  },
  {
   "cell_type": "code",
   "execution_count": 6,
   "id": "327c86f5",
   "metadata": {},
   "outputs": [
    {
     "name": "stdout",
     "output_type": "stream",
     "text": [
      "43G\tpacking\r\n"
     ]
    }
   ],
   "source": [
    "!du -hs packing"
   ]
  },
  {
   "cell_type": "code",
   "execution_count": 7,
   "id": "0d2ef89a",
   "metadata": {},
   "outputs": [
    {
     "data": {
      "application/vnd.jupyter.widget-view+json": {
       "model_id": "fdcd39dc482e408da2f819ffd10663c4",
       "version_major": 2,
       "version_minor": 0
      },
      "text/plain": [
       "shard.00003.mds:   0%|          | 0.00/67.1M [00:00<?, ?B/s]"
      ]
     },
     "metadata": {},
     "output_type": "display_data"
    },
    {
     "data": {
      "application/vnd.jupyter.widget-view+json": {
       "model_id": "506ca6886456489ea59348f05d6e325b",
       "version_major": 2,
       "version_minor": 0
      },
      "text/plain": [
       "shard.00001.mds:   0%|          | 0.00/67.1M [00:00<?, ?B/s]"
      ]
     },
     "metadata": {},
     "output_type": "display_data"
    },
    {
     "data": {
      "application/vnd.jupyter.widget-view+json": {
       "model_id": "e19b5fc5453845d1b02616f2b2c16e84",
       "version_major": 2,
       "version_minor": 0
      },
      "text/plain": [
       "shard.00002.mds:   0%|          | 0.00/67.1M [00:00<?, ?B/s]"
      ]
     },
     "metadata": {},
     "output_type": "display_data"
    },
    {
     "data": {
      "application/vnd.jupyter.widget-view+json": {
       "model_id": "5385dc09e2e6479fb1d83abb444c4c8d",
       "version_major": 2,
       "version_minor": 0
      },
      "text/plain": [
       "Upload 682 LFS files:   0%|          | 0/682 [00:00<?, ?it/s]"
      ]
     },
     "metadata": {},
     "output_type": "display_data"
    },
    {
     "data": {
      "application/vnd.jupyter.widget-view+json": {
       "model_id": "bdb96edbd44943e19cf9034c0423fc70",
       "version_major": 2,
       "version_minor": 0
      },
      "text/plain": [
       "shard.00004.mds:   0%|          | 0.00/67.1M [00:00<?, ?B/s]"
      ]
     },
     "metadata": {},
     "output_type": "display_data"
    },
    {
     "data": {
      "application/vnd.jupyter.widget-view+json": {
       "model_id": "8a9b72e2dd9742378259ef75dc8ee69e",
       "version_major": 2,
       "version_minor": 0
      },
      "text/plain": [
       "shard.00000.mds:   0%|          | 0.00/67.1M [00:00<?, ?B/s]"
      ]
     },
     "metadata": {},
     "output_type": "display_data"
    },
    {
     "data": {
      "application/vnd.jupyter.widget-view+json": {
       "model_id": "d8078d98761741feb562dcf053006ef7",
       "version_major": 2,
       "version_minor": 0
      },
      "text/plain": [
       "shard.00005.mds:   0%|          | 0.00/67.1M [00:00<?, ?B/s]"
      ]
     },
     "metadata": {},
     "output_type": "display_data"
    },
    {
     "data": {
      "application/vnd.jupyter.widget-view+json": {
       "model_id": "1c9f4904eba9431ea5063963639335e8",
       "version_major": 2,
       "version_minor": 0
      },
      "text/plain": [
       "shard.00006.mds:   0%|          | 0.00/67.1M [00:00<?, ?B/s]"
      ]
     },
     "metadata": {},
     "output_type": "display_data"
    },
    {
     "data": {
      "application/vnd.jupyter.widget-view+json": {
       "model_id": "62428cb266154f7cabf9409978904d67",
       "version_major": 2,
       "version_minor": 0
      },
      "text/plain": [
       "shard.00007.mds:   0%|          | 0.00/67.1M [00:00<?, ?B/s]"
      ]
     },
     "metadata": {},
     "output_type": "display_data"
    },
    {
     "data": {
      "application/vnd.jupyter.widget-view+json": {
       "model_id": "b56f52cfa39f4691a4642cc4edd0c8be",
       "version_major": 2,
       "version_minor": 0
      },
      "text/plain": [
       "shard.00008.mds:   0%|          | 0.00/67.1M [00:00<?, ?B/s]"
      ]
     },
     "metadata": {},
     "output_type": "display_data"
    },
    {
     "data": {
      "application/vnd.jupyter.widget-view+json": {
       "model_id": "18c32bbbad014acb81a5fd4c73e79ffc",
       "version_major": 2,
       "version_minor": 0
      },
      "text/plain": [
       "shard.00009.mds:   0%|          | 0.00/67.1M [00:00<?, ?B/s]"
      ]
     },
     "metadata": {},
     "output_type": "display_data"
    },
    {
     "data": {
      "application/vnd.jupyter.widget-view+json": {
       "model_id": "6c76b62b679e4e7d998f0c6545985a0e",
       "version_major": 2,
       "version_minor": 0
      },
      "text/plain": [
       "shard.00010.mds:   0%|          | 0.00/67.1M [00:00<?, ?B/s]"
      ]
     },
     "metadata": {},
     "output_type": "display_data"
    },
    {
     "data": {
      "application/vnd.jupyter.widget-view+json": {
       "model_id": "5cf2600c3f264913800b3438d44481d8",
       "version_major": 2,
       "version_minor": 0
      },
      "text/plain": [
       "shard.00011.mds:   0%|          | 0.00/67.1M [00:00<?, ?B/s]"
      ]
     },
     "metadata": {},
     "output_type": "display_data"
    },
    {
     "data": {
      "application/vnd.jupyter.widget-view+json": {
       "model_id": "a19fde59a4ae4df7b3e2540d80b1f371",
       "version_major": 2,
       "version_minor": 0
      },
      "text/plain": [
       "shard.00012.mds:   0%|          | 0.00/67.1M [00:00<?, ?B/s]"
      ]
     },
     "metadata": {},
     "output_type": "display_data"
    },
    {
     "data": {
      "application/vnd.jupyter.widget-view+json": {
       "model_id": "abe885d8d2f74a9182d55d8c472ffddc",
       "version_major": 2,
       "version_minor": 0
      },
      "text/plain": [
       "shard.00013.mds:   0%|          | 0.00/67.1M [00:00<?, ?B/s]"
      ]
     },
     "metadata": {},
     "output_type": "display_data"
    },
    {
     "data": {
      "application/vnd.jupyter.widget-view+json": {
       "model_id": "6d1142df2c274b5c9e840ff77a7b1ae3",
       "version_major": 2,
       "version_minor": 0
      },
      "text/plain": [
       "shard.00014.mds:   0%|          | 0.00/67.1M [00:00<?, ?B/s]"
      ]
     },
     "metadata": {},
     "output_type": "display_data"
    },
    {
     "data": {
      "application/vnd.jupyter.widget-view+json": {
       "model_id": "e2022ffc58a843b19ed6a7b60306fa02",
       "version_major": 2,
       "version_minor": 0
      },
      "text/plain": [
       "shard.00015.mds:   0%|          | 0.00/67.1M [00:00<?, ?B/s]"
      ]
     },
     "metadata": {},
     "output_type": "display_data"
    },
    {
     "data": {
      "application/vnd.jupyter.widget-view+json": {
       "model_id": "1cddfa6b825d4026b761c649593bafcf",
       "version_major": 2,
       "version_minor": 0
      },
      "text/plain": [
       "shard.00016.mds:   0%|          | 0.00/67.1M [00:00<?, ?B/s]"
      ]
     },
     "metadata": {},
     "output_type": "display_data"
    },
    {
     "data": {
      "application/vnd.jupyter.widget-view+json": {
       "model_id": "25764905606d4c01a84f6ec0c1fea9d0",
       "version_major": 2,
       "version_minor": 0
      },
      "text/plain": [
       "shard.00017.mds:   0%|          | 0.00/67.1M [00:00<?, ?B/s]"
      ]
     },
     "metadata": {},
     "output_type": "display_data"
    },
    {
     "data": {
      "application/vnd.jupyter.widget-view+json": {
       "model_id": "2e76a74453ab4586b40e22d37fc8915b",
       "version_major": 2,
       "version_minor": 0
      },
      "text/plain": [
       "shard.00018.mds:   0%|          | 0.00/67.1M [00:00<?, ?B/s]"
      ]
     },
     "metadata": {},
     "output_type": "display_data"
    },
    {
     "data": {
      "application/vnd.jupyter.widget-view+json": {
       "model_id": "72e57fbf7f5843559985d57f61065986",
       "version_major": 2,
       "version_minor": 0
      },
      "text/plain": [
       "shard.00019.mds:   0%|          | 0.00/67.1M [00:00<?, ?B/s]"
      ]
     },
     "metadata": {},
     "output_type": "display_data"
    },
    {
     "data": {
      "application/vnd.jupyter.widget-view+json": {
       "model_id": "1f8ee9d1d84940a394a5580cf27a0102",
       "version_major": 2,
       "version_minor": 0
      },
      "text/plain": [
       "shard.00020.mds:   0%|          | 0.00/67.1M [00:00<?, ?B/s]"
      ]
     },
     "metadata": {},
     "output_type": "display_data"
    },
    {
     "data": {
      "application/vnd.jupyter.widget-view+json": {
       "model_id": "796d27ea70114550b6b88cdde534b5f7",
       "version_major": 2,
       "version_minor": 0
      },
      "text/plain": [
       "shard.00021.mds:   0%|          | 0.00/67.1M [00:00<?, ?B/s]"
      ]
     },
     "metadata": {},
     "output_type": "display_data"
    },
    {
     "data": {
      "application/vnd.jupyter.widget-view+json": {
       "model_id": "fc9194410ef347c2973fc4944c4b5995",
       "version_major": 2,
       "version_minor": 0
      },
      "text/plain": [
       "shard.00022.mds:   0%|          | 0.00/67.1M [00:00<?, ?B/s]"
      ]
     },
     "metadata": {},
     "output_type": "display_data"
    },
    {
     "data": {
      "application/vnd.jupyter.widget-view+json": {
       "model_id": "3df4b2dc82c240f69e24c1d8739b2752",
       "version_major": 2,
       "version_minor": 0
      },
      "text/plain": [
       "shard.00023.mds:   0%|          | 0.00/67.1M [00:00<?, ?B/s]"
      ]
     },
     "metadata": {},
     "output_type": "display_data"
    },
    {
     "data": {
      "application/vnd.jupyter.widget-view+json": {
       "model_id": "64dde1caa75f4239af5a7ad9d1aa377e",
       "version_major": 2,
       "version_minor": 0
      },
      "text/plain": [
       "shard.00024.mds:   0%|          | 0.00/67.1M [00:00<?, ?B/s]"
      ]
     },
     "metadata": {},
     "output_type": "display_data"
    },
    {
     "data": {
      "application/vnd.jupyter.widget-view+json": {
       "model_id": "1bf69da899e44c4f9d91d871e067ac4d",
       "version_major": 2,
       "version_minor": 0
      },
      "text/plain": [
       "shard.00025.mds:   0%|          | 0.00/67.1M [00:00<?, ?B/s]"
      ]
     },
     "metadata": {},
     "output_type": "display_data"
    },
    {
     "data": {
      "application/vnd.jupyter.widget-view+json": {
       "model_id": "71e6b038262f47e094b98b32a3902769",
       "version_major": 2,
       "version_minor": 0
      },
      "text/plain": [
       "shard.00026.mds:   0%|          | 0.00/67.1M [00:00<?, ?B/s]"
      ]
     },
     "metadata": {},
     "output_type": "display_data"
    },
    {
     "data": {
      "application/vnd.jupyter.widget-view+json": {
       "model_id": "86320e29136f4861a74d5759ddd37e62",
       "version_major": 2,
       "version_minor": 0
      },
      "text/plain": [
       "shard.00027.mds:   0%|          | 0.00/67.1M [00:00<?, ?B/s]"
      ]
     },
     "metadata": {},
     "output_type": "display_data"
    },
    {
     "data": {
      "application/vnd.jupyter.widget-view+json": {
       "model_id": "c39be1e4c696453d8ebae6c84e6c08bc",
       "version_major": 2,
       "version_minor": 0
      },
      "text/plain": [
       "shard.00028.mds:   0%|          | 0.00/67.1M [00:00<?, ?B/s]"
      ]
     },
     "metadata": {},
     "output_type": "display_data"
    },
    {
     "data": {
      "application/vnd.jupyter.widget-view+json": {
       "model_id": "060f547e965d4159b3e437652e339346",
       "version_major": 2,
       "version_minor": 0
      },
      "text/plain": [
       "shard.00029.mds:   0%|          | 0.00/67.1M [00:00<?, ?B/s]"
      ]
     },
     "metadata": {},
     "output_type": "display_data"
    },
    {
     "data": {
      "application/vnd.jupyter.widget-view+json": {
       "model_id": "1b4b90c5b21a4bd7972c80ff13239fd8",
       "version_major": 2,
       "version_minor": 0
      },
      "text/plain": [
       "shard.00030.mds:   0%|          | 0.00/67.1M [00:00<?, ?B/s]"
      ]
     },
     "metadata": {},
     "output_type": "display_data"
    },
    {
     "data": {
      "application/vnd.jupyter.widget-view+json": {
       "model_id": "5e174da6a8b74a6194cfd56d68ea20b8",
       "version_major": 2,
       "version_minor": 0
      },
      "text/plain": [
       "shard.00031.mds:   0%|          | 0.00/67.1M [00:00<?, ?B/s]"
      ]
     },
     "metadata": {},
     "output_type": "display_data"
    },
    {
     "data": {
      "application/vnd.jupyter.widget-view+json": {
       "model_id": "9e7cfd6dfbca41b08fda3180c498156c",
       "version_major": 2,
       "version_minor": 0
      },
      "text/plain": [
       "shard.00032.mds:   0%|          | 0.00/67.1M [00:00<?, ?B/s]"
      ]
     },
     "metadata": {},
     "output_type": "display_data"
    },
    {
     "data": {
      "application/vnd.jupyter.widget-view+json": {
       "model_id": "4f77506b3050413fa726771eda5b1581",
       "version_major": 2,
       "version_minor": 0
      },
      "text/plain": [
       "shard.00033.mds:   0%|          | 0.00/67.1M [00:00<?, ?B/s]"
      ]
     },
     "metadata": {},
     "output_type": "display_data"
    },
    {
     "data": {
      "application/vnd.jupyter.widget-view+json": {
       "model_id": "e62d3e57f700421eb3976e55aad6e971",
       "version_major": 2,
       "version_minor": 0
      },
      "text/plain": [
       "shard.00034.mds:   0%|          | 0.00/67.1M [00:00<?, ?B/s]"
      ]
     },
     "metadata": {},
     "output_type": "display_data"
    },
    {
     "data": {
      "application/vnd.jupyter.widget-view+json": {
       "model_id": "9d34fc323d3d4292b254bfdf848954dc",
       "version_major": 2,
       "version_minor": 0
      },
      "text/plain": [
       "shard.00035.mds:   0%|          | 0.00/67.1M [00:00<?, ?B/s]"
      ]
     },
     "metadata": {},
     "output_type": "display_data"
    },
    {
     "data": {
      "application/vnd.jupyter.widget-view+json": {
       "model_id": "0ef444406b224a84aa0738a3d07dbfdb",
       "version_major": 2,
       "version_minor": 0
      },
      "text/plain": [
       "shard.00036.mds:   0%|          | 0.00/67.1M [00:00<?, ?B/s]"
      ]
     },
     "metadata": {},
     "output_type": "display_data"
    },
    {
     "data": {
      "application/vnd.jupyter.widget-view+json": {
       "model_id": "2f19ed63de2e47549477f9032095cd49",
       "version_major": 2,
       "version_minor": 0
      },
      "text/plain": [
       "shard.00037.mds:   0%|          | 0.00/67.1M [00:00<?, ?B/s]"
      ]
     },
     "metadata": {},
     "output_type": "display_data"
    },
    {
     "data": {
      "application/vnd.jupyter.widget-view+json": {
       "model_id": "a9692c957a9a415f830587bd4acd0c59",
       "version_major": 2,
       "version_minor": 0
      },
      "text/plain": [
       "shard.00038.mds:   0%|          | 0.00/67.1M [00:00<?, ?B/s]"
      ]
     },
     "metadata": {},
     "output_type": "display_data"
    },
    {
     "data": {
      "application/vnd.jupyter.widget-view+json": {
       "model_id": "96bbec2668e846c896c30aa6439fc26d",
       "version_major": 2,
       "version_minor": 0
      },
      "text/plain": [
       "shard.00039.mds:   0%|          | 0.00/67.1M [00:00<?, ?B/s]"
      ]
     },
     "metadata": {},
     "output_type": "display_data"
    },
    {
     "data": {
      "application/vnd.jupyter.widget-view+json": {
       "model_id": "68237b1c8a344ab691c9cfb060c7e2c0",
       "version_major": 2,
       "version_minor": 0
      },
      "text/plain": [
       "shard.00040.mds:   0%|          | 0.00/67.1M [00:00<?, ?B/s]"
      ]
     },
     "metadata": {},
     "output_type": "display_data"
    },
    {
     "data": {
      "application/vnd.jupyter.widget-view+json": {
       "model_id": "93ec10606a5a42f0a0d1f00918c4399d",
       "version_major": 2,
       "version_minor": 0
      },
      "text/plain": [
       "shard.00041.mds:   0%|          | 0.00/67.1M [00:00<?, ?B/s]"
      ]
     },
     "metadata": {},
     "output_type": "display_data"
    },
    {
     "data": {
      "application/vnd.jupyter.widget-view+json": {
       "model_id": "34ef7f75754e4770bcd74f09749d045e",
       "version_major": 2,
       "version_minor": 0
      },
      "text/plain": [
       "shard.00042.mds:   0%|          | 0.00/67.1M [00:00<?, ?B/s]"
      ]
     },
     "metadata": {},
     "output_type": "display_data"
    },
    {
     "data": {
      "application/vnd.jupyter.widget-view+json": {
       "model_id": "6487b488eb0d4314b69ffc18b47eccbc",
       "version_major": 2,
       "version_minor": 0
      },
      "text/plain": [
       "shard.00043.mds:   0%|          | 0.00/67.1M [00:00<?, ?B/s]"
      ]
     },
     "metadata": {},
     "output_type": "display_data"
    },
    {
     "data": {
      "application/vnd.jupyter.widget-view+json": {
       "model_id": "af1d88f90ec34e5ba2bfa51206e31326",
       "version_major": 2,
       "version_minor": 0
      },
      "text/plain": [
       "shard.00044.mds:   0%|          | 0.00/67.1M [00:00<?, ?B/s]"
      ]
     },
     "metadata": {},
     "output_type": "display_data"
    },
    {
     "data": {
      "application/vnd.jupyter.widget-view+json": {
       "model_id": "ccd68c6fbc0e4f219d498fd4cc55cbe4",
       "version_major": 2,
       "version_minor": 0
      },
      "text/plain": [
       "shard.00045.mds:   0%|          | 0.00/67.1M [00:00<?, ?B/s]"
      ]
     },
     "metadata": {},
     "output_type": "display_data"
    },
    {
     "data": {
      "application/vnd.jupyter.widget-view+json": {
       "model_id": "014f898b3ee044928d60ed7e1e88f7db",
       "version_major": 2,
       "version_minor": 0
      },
      "text/plain": [
       "shard.00046.mds:   0%|          | 0.00/67.1M [00:00<?, ?B/s]"
      ]
     },
     "metadata": {},
     "output_type": "display_data"
    },
    {
     "data": {
      "application/vnd.jupyter.widget-view+json": {
       "model_id": "f8f187984cad42d7bc118b6231ea62cd",
       "version_major": 2,
       "version_minor": 0
      },
      "text/plain": [
       "shard.00047.mds:   0%|          | 0.00/67.1M [00:00<?, ?B/s]"
      ]
     },
     "metadata": {},
     "output_type": "display_data"
    },
    {
     "data": {
      "application/vnd.jupyter.widget-view+json": {
       "model_id": "47e7ff8371eb42a5b0bd489c6af7df48",
       "version_major": 2,
       "version_minor": 0
      },
      "text/plain": [
       "shard.00048.mds:   0%|          | 0.00/67.1M [00:00<?, ?B/s]"
      ]
     },
     "metadata": {},
     "output_type": "display_data"
    },
    {
     "data": {
      "application/vnd.jupyter.widget-view+json": {
       "model_id": "98688476f91f4dd586dbedcd73d4f4d6",
       "version_major": 2,
       "version_minor": 0
      },
      "text/plain": [
       "shard.00049.mds:   0%|          | 0.00/67.1M [00:00<?, ?B/s]"
      ]
     },
     "metadata": {},
     "output_type": "display_data"
    },
    {
     "data": {
      "application/vnd.jupyter.widget-view+json": {
       "model_id": "68007269802f48ac95a42d23e5da25ad",
       "version_major": 2,
       "version_minor": 0
      },
      "text/plain": [
       "shard.00050.mds:   0%|          | 0.00/67.1M [00:00<?, ?B/s]"
      ]
     },
     "metadata": {},
     "output_type": "display_data"
    },
    {
     "data": {
      "application/vnd.jupyter.widget-view+json": {
       "model_id": "60b00f6dee24490ab9579f50e9fae93a",
       "version_major": 2,
       "version_minor": 0
      },
      "text/plain": [
       "shard.00051.mds:   0%|          | 0.00/67.1M [00:00<?, ?B/s]"
      ]
     },
     "metadata": {},
     "output_type": "display_data"
    },
    {
     "data": {
      "application/vnd.jupyter.widget-view+json": {
       "model_id": "77bd584a989b4ee9baa4212fac9f49a0",
       "version_major": 2,
       "version_minor": 0
      },
      "text/plain": [
       "shard.00052.mds:   0%|          | 0.00/67.1M [00:00<?, ?B/s]"
      ]
     },
     "metadata": {},
     "output_type": "display_data"
    },
    {
     "data": {
      "application/vnd.jupyter.widget-view+json": {
       "model_id": "ef59f432e3f84d00ba404e5ee55a15c8",
       "version_major": 2,
       "version_minor": 0
      },
      "text/plain": [
       "shard.00053.mds:   0%|          | 0.00/67.1M [00:00<?, ?B/s]"
      ]
     },
     "metadata": {},
     "output_type": "display_data"
    },
    {
     "data": {
      "application/vnd.jupyter.widget-view+json": {
       "model_id": "dbe2e3d0cb644571b5b1a9e58e047626",
       "version_major": 2,
       "version_minor": 0
      },
      "text/plain": [
       "shard.00054.mds:   0%|          | 0.00/67.1M [00:00<?, ?B/s]"
      ]
     },
     "metadata": {},
     "output_type": "display_data"
    },
    {
     "data": {
      "application/vnd.jupyter.widget-view+json": {
       "model_id": "681d5f76f5c94df591c192ff9fe915c0",
       "version_major": 2,
       "version_minor": 0
      },
      "text/plain": [
       "shard.00055.mds:   0%|          | 0.00/67.1M [00:00<?, ?B/s]"
      ]
     },
     "metadata": {},
     "output_type": "display_data"
    },
    {
     "data": {
      "application/vnd.jupyter.widget-view+json": {
       "model_id": "481415a80a7248e993b1856f812e6ebb",
       "version_major": 2,
       "version_minor": 0
      },
      "text/plain": [
       "shard.00056.mds:   0%|          | 0.00/67.1M [00:00<?, ?B/s]"
      ]
     },
     "metadata": {},
     "output_type": "display_data"
    },
    {
     "data": {
      "application/vnd.jupyter.widget-view+json": {
       "model_id": "7d528352a7ae4df1adbda7c29a64e8bf",
       "version_major": 2,
       "version_minor": 0
      },
      "text/plain": [
       "shard.00057.mds:   0%|          | 0.00/67.1M [00:00<?, ?B/s]"
      ]
     },
     "metadata": {},
     "output_type": "display_data"
    },
    {
     "data": {
      "application/vnd.jupyter.widget-view+json": {
       "model_id": "6cabd8d850bb4b98af117a4507c7cc8f",
       "version_major": 2,
       "version_minor": 0
      },
      "text/plain": [
       "shard.00058.mds:   0%|          | 0.00/67.1M [00:00<?, ?B/s]"
      ]
     },
     "metadata": {},
     "output_type": "display_data"
    },
    {
     "data": {
      "application/vnd.jupyter.widget-view+json": {
       "model_id": "860b96c1d8a64c1cbf0be568915b93bd",
       "version_major": 2,
       "version_minor": 0
      },
      "text/plain": [
       "shard.00059.mds:   0%|          | 0.00/67.1M [00:00<?, ?B/s]"
      ]
     },
     "metadata": {},
     "output_type": "display_data"
    },
    {
     "data": {
      "application/vnd.jupyter.widget-view+json": {
       "model_id": "81d4440ddaf447cbb8ba5c739c05d1e4",
       "version_major": 2,
       "version_minor": 0
      },
      "text/plain": [
       "shard.00060.mds:   0%|          | 0.00/67.1M [00:00<?, ?B/s]"
      ]
     },
     "metadata": {},
     "output_type": "display_data"
    },
    {
     "data": {
      "application/vnd.jupyter.widget-view+json": {
       "model_id": "f676fd871b054280a52214ed5c55b670",
       "version_major": 2,
       "version_minor": 0
      },
      "text/plain": [
       "shard.00061.mds:   0%|          | 0.00/67.1M [00:00<?, ?B/s]"
      ]
     },
     "metadata": {},
     "output_type": "display_data"
    },
    {
     "data": {
      "application/vnd.jupyter.widget-view+json": {
       "model_id": "955d70f0d0f54da396d5bf2e3e3c6b16",
       "version_major": 2,
       "version_minor": 0
      },
      "text/plain": [
       "shard.00062.mds:   0%|          | 0.00/67.1M [00:00<?, ?B/s]"
      ]
     },
     "metadata": {},
     "output_type": "display_data"
    },
    {
     "data": {
      "application/vnd.jupyter.widget-view+json": {
       "model_id": "01c1d9c7aa564e7eae9a52bbd2756d69",
       "version_major": 2,
       "version_minor": 0
      },
      "text/plain": [
       "shard.00063.mds:   0%|          | 0.00/67.1M [00:00<?, ?B/s]"
      ]
     },
     "metadata": {},
     "output_type": "display_data"
    },
    {
     "data": {
      "application/vnd.jupyter.widget-view+json": {
       "model_id": "798e8b2cf18d4750bd82a8fee91d81f4",
       "version_major": 2,
       "version_minor": 0
      },
      "text/plain": [
       "shard.00064.mds:   0%|          | 0.00/67.1M [00:00<?, ?B/s]"
      ]
     },
     "metadata": {},
     "output_type": "display_data"
    },
    {
     "data": {
      "application/vnd.jupyter.widget-view+json": {
       "model_id": "02f4c75894a24af8bab993c8e592b0f6",
       "version_major": 2,
       "version_minor": 0
      },
      "text/plain": [
       "shard.00065.mds:   0%|          | 0.00/67.1M [00:00<?, ?B/s]"
      ]
     },
     "metadata": {},
     "output_type": "display_data"
    },
    {
     "data": {
      "application/vnd.jupyter.widget-view+json": {
       "model_id": "c23824a8b505408293dcdf4e5f4a7214",
       "version_major": 2,
       "version_minor": 0
      },
      "text/plain": [
       "shard.00066.mds:   0%|          | 0.00/67.1M [00:00<?, ?B/s]"
      ]
     },
     "metadata": {},
     "output_type": "display_data"
    },
    {
     "data": {
      "application/vnd.jupyter.widget-view+json": {
       "model_id": "f2e9a8ef6d594453bd9b9a077d681178",
       "version_major": 2,
       "version_minor": 0
      },
      "text/plain": [
       "shard.00067.mds:   0%|          | 0.00/67.1M [00:00<?, ?B/s]"
      ]
     },
     "metadata": {},
     "output_type": "display_data"
    },
    {
     "data": {
      "application/vnd.jupyter.widget-view+json": {
       "model_id": "8fdaa803c7d9430a99faf493c24f68c5",
       "version_major": 2,
       "version_minor": 0
      },
      "text/plain": [
       "shard.00068.mds:   0%|          | 0.00/67.1M [00:00<?, ?B/s]"
      ]
     },
     "metadata": {},
     "output_type": "display_data"
    },
    {
     "data": {
      "application/vnd.jupyter.widget-view+json": {
       "model_id": "b5666e6d8e0c461eb99e4697b0e3b415",
       "version_major": 2,
       "version_minor": 0
      },
      "text/plain": [
       "shard.00069.mds:   0%|          | 0.00/67.1M [00:00<?, ?B/s]"
      ]
     },
     "metadata": {},
     "output_type": "display_data"
    },
    {
     "data": {
      "application/vnd.jupyter.widget-view+json": {
       "model_id": "cd5e0815a75a4f0d9557de535ac2926e",
       "version_major": 2,
       "version_minor": 0
      },
      "text/plain": [
       "shard.00070.mds:   0%|          | 0.00/67.1M [00:00<?, ?B/s]"
      ]
     },
     "metadata": {},
     "output_type": "display_data"
    },
    {
     "data": {
      "application/vnd.jupyter.widget-view+json": {
       "model_id": "a0a0f25ea8824586aa457720117d760b",
       "version_major": 2,
       "version_minor": 0
      },
      "text/plain": [
       "shard.00071.mds:   0%|          | 0.00/67.1M [00:00<?, ?B/s]"
      ]
     },
     "metadata": {},
     "output_type": "display_data"
    },
    {
     "data": {
      "application/vnd.jupyter.widget-view+json": {
       "model_id": "ae82c47885554a3d916eed005c20462e",
       "version_major": 2,
       "version_minor": 0
      },
      "text/plain": [
       "shard.00072.mds:   0%|          | 0.00/67.1M [00:00<?, ?B/s]"
      ]
     },
     "metadata": {},
     "output_type": "display_data"
    },
    {
     "data": {
      "application/vnd.jupyter.widget-view+json": {
       "model_id": "f01a541f9419490cb7a1707bf0cc8575",
       "version_major": 2,
       "version_minor": 0
      },
      "text/plain": [
       "shard.00073.mds:   0%|          | 0.00/67.1M [00:00<?, ?B/s]"
      ]
     },
     "metadata": {},
     "output_type": "display_data"
    },
    {
     "data": {
      "application/vnd.jupyter.widget-view+json": {
       "model_id": "ee7f0c5d1f1f4a508dc51b78b6f09f4d",
       "version_major": 2,
       "version_minor": 0
      },
      "text/plain": [
       "shard.00074.mds:   0%|          | 0.00/67.1M [00:00<?, ?B/s]"
      ]
     },
     "metadata": {},
     "output_type": "display_data"
    },
    {
     "data": {
      "application/vnd.jupyter.widget-view+json": {
       "model_id": "b6e99567df65487a8d244242497b8b35",
       "version_major": 2,
       "version_minor": 0
      },
      "text/plain": [
       "shard.00075.mds:   0%|          | 0.00/67.1M [00:00<?, ?B/s]"
      ]
     },
     "metadata": {},
     "output_type": "display_data"
    },
    {
     "data": {
      "application/vnd.jupyter.widget-view+json": {
       "model_id": "0c3a15b54ebd4135b03a7ad1ccf744d5",
       "version_major": 2,
       "version_minor": 0
      },
      "text/plain": [
       "shard.00076.mds:   0%|          | 0.00/67.1M [00:00<?, ?B/s]"
      ]
     },
     "metadata": {},
     "output_type": "display_data"
    },
    {
     "data": {
      "application/vnd.jupyter.widget-view+json": {
       "model_id": "11914ed8ba844a999c2d8d3b8831bcfb",
       "version_major": 2,
       "version_minor": 0
      },
      "text/plain": [
       "shard.00077.mds:   0%|          | 0.00/67.1M [00:00<?, ?B/s]"
      ]
     },
     "metadata": {},
     "output_type": "display_data"
    },
    {
     "data": {
      "application/vnd.jupyter.widget-view+json": {
       "model_id": "626a6c31636d49979380e0beeb9745bc",
       "version_major": 2,
       "version_minor": 0
      },
      "text/plain": [
       "shard.00078.mds:   0%|          | 0.00/67.1M [00:00<?, ?B/s]"
      ]
     },
     "metadata": {},
     "output_type": "display_data"
    },
    {
     "data": {
      "application/vnd.jupyter.widget-view+json": {
       "model_id": "5a173a57bf4745b1bf9e7c371e55d275",
       "version_major": 2,
       "version_minor": 0
      },
      "text/plain": [
       "shard.00079.mds:   0%|          | 0.00/67.1M [00:00<?, ?B/s]"
      ]
     },
     "metadata": {},
     "output_type": "display_data"
    },
    {
     "data": {
      "application/vnd.jupyter.widget-view+json": {
       "model_id": "42a4e8f74c204bb1b5dcda75f339600c",
       "version_major": 2,
       "version_minor": 0
      },
      "text/plain": [
       "shard.00080.mds:   0%|          | 0.00/67.1M [00:00<?, ?B/s]"
      ]
     },
     "metadata": {},
     "output_type": "display_data"
    },
    {
     "data": {
      "application/vnd.jupyter.widget-view+json": {
       "model_id": "7c293484ce404d58853cb16c931bfc96",
       "version_major": 2,
       "version_minor": 0
      },
      "text/plain": [
       "shard.00081.mds:   0%|          | 0.00/67.1M [00:00<?, ?B/s]"
      ]
     },
     "metadata": {},
     "output_type": "display_data"
    },
    {
     "data": {
      "application/vnd.jupyter.widget-view+json": {
       "model_id": "c30f4a39762340d9816e6b190d21a25c",
       "version_major": 2,
       "version_minor": 0
      },
      "text/plain": [
       "shard.00082.mds:   0%|          | 0.00/67.1M [00:00<?, ?B/s]"
      ]
     },
     "metadata": {},
     "output_type": "display_data"
    },
    {
     "data": {
      "application/vnd.jupyter.widget-view+json": {
       "model_id": "aac2150dd87d45b0a6dcdc47c7ad32f1",
       "version_major": 2,
       "version_minor": 0
      },
      "text/plain": [
       "shard.00083.mds:   0%|          | 0.00/67.1M [00:00<?, ?B/s]"
      ]
     },
     "metadata": {},
     "output_type": "display_data"
    },
    {
     "data": {
      "application/vnd.jupyter.widget-view+json": {
       "model_id": "40bf3a44643440fd8dee0fd10a2de175",
       "version_major": 2,
       "version_minor": 0
      },
      "text/plain": [
       "shard.00084.mds:   0%|          | 0.00/67.1M [00:00<?, ?B/s]"
      ]
     },
     "metadata": {},
     "output_type": "display_data"
    },
    {
     "data": {
      "application/vnd.jupyter.widget-view+json": {
       "model_id": "05e8444c57b147d4b1b7cf57506f0fdd",
       "version_major": 2,
       "version_minor": 0
      },
      "text/plain": [
       "shard.00085.mds:   0%|          | 0.00/67.1M [00:00<?, ?B/s]"
      ]
     },
     "metadata": {},
     "output_type": "display_data"
    },
    {
     "data": {
      "application/vnd.jupyter.widget-view+json": {
       "model_id": "676870b9932e462fb71c36134c092684",
       "version_major": 2,
       "version_minor": 0
      },
      "text/plain": [
       "shard.00086.mds:   0%|          | 0.00/67.1M [00:00<?, ?B/s]"
      ]
     },
     "metadata": {},
     "output_type": "display_data"
    },
    {
     "data": {
      "application/vnd.jupyter.widget-view+json": {
       "model_id": "cd190cca68694751a592556a23b9761b",
       "version_major": 2,
       "version_minor": 0
      },
      "text/plain": [
       "shard.00087.mds:   0%|          | 0.00/67.1M [00:00<?, ?B/s]"
      ]
     },
     "metadata": {},
     "output_type": "display_data"
    },
    {
     "data": {
      "application/vnd.jupyter.widget-view+json": {
       "model_id": "5596cae842b64626b8bdaccaeab3cc4a",
       "version_major": 2,
       "version_minor": 0
      },
      "text/plain": [
       "shard.00088.mds:   0%|          | 0.00/67.1M [00:00<?, ?B/s]"
      ]
     },
     "metadata": {},
     "output_type": "display_data"
    },
    {
     "data": {
      "application/vnd.jupyter.widget-view+json": {
       "model_id": "a83f3cd821b74777ad7b92370491d858",
       "version_major": 2,
       "version_minor": 0
      },
      "text/plain": [
       "shard.00089.mds:   0%|          | 0.00/67.1M [00:00<?, ?B/s]"
      ]
     },
     "metadata": {},
     "output_type": "display_data"
    },
    {
     "data": {
      "application/vnd.jupyter.widget-view+json": {
       "model_id": "390a8fc54ae849be8c38f9677d9ff32c",
       "version_major": 2,
       "version_minor": 0
      },
      "text/plain": [
       "shard.00090.mds:   0%|          | 0.00/67.1M [00:00<?, ?B/s]"
      ]
     },
     "metadata": {},
     "output_type": "display_data"
    },
    {
     "data": {
      "application/vnd.jupyter.widget-view+json": {
       "model_id": "ccef89efa7bb471497c1dc5b0fdca37a",
       "version_major": 2,
       "version_minor": 0
      },
      "text/plain": [
       "shard.00091.mds:   0%|          | 0.00/67.1M [00:00<?, ?B/s]"
      ]
     },
     "metadata": {},
     "output_type": "display_data"
    },
    {
     "data": {
      "application/vnd.jupyter.widget-view+json": {
       "model_id": "41decc6df7c744eab4701c082b80c8bd",
       "version_major": 2,
       "version_minor": 0
      },
      "text/plain": [
       "shard.00092.mds:   0%|          | 0.00/67.1M [00:00<?, ?B/s]"
      ]
     },
     "metadata": {},
     "output_type": "display_data"
    },
    {
     "data": {
      "application/vnd.jupyter.widget-view+json": {
       "model_id": "da99d0690c6441229163aa4dd9b268ed",
       "version_major": 2,
       "version_minor": 0
      },
      "text/plain": [
       "shard.00093.mds:   0%|          | 0.00/67.1M [00:00<?, ?B/s]"
      ]
     },
     "metadata": {},
     "output_type": "display_data"
    },
    {
     "data": {
      "application/vnd.jupyter.widget-view+json": {
       "model_id": "3591c58ca2d3407882f237d8e9f20e30",
       "version_major": 2,
       "version_minor": 0
      },
      "text/plain": [
       "shard.00094.mds:   0%|          | 0.00/67.1M [00:00<?, ?B/s]"
      ]
     },
     "metadata": {},
     "output_type": "display_data"
    },
    {
     "data": {
      "application/vnd.jupyter.widget-view+json": {
       "model_id": "f077a69e6cb548d89afad62e1ec1f572",
       "version_major": 2,
       "version_minor": 0
      },
      "text/plain": [
       "shard.00095.mds:   0%|          | 0.00/67.1M [00:00<?, ?B/s]"
      ]
     },
     "metadata": {},
     "output_type": "display_data"
    },
    {
     "data": {
      "application/vnd.jupyter.widget-view+json": {
       "model_id": "f993a363b8e74dfa9b5345f496fed490",
       "version_major": 2,
       "version_minor": 0
      },
      "text/plain": [
       "shard.00096.mds:   0%|          | 0.00/67.1M [00:00<?, ?B/s]"
      ]
     },
     "metadata": {},
     "output_type": "display_data"
    },
    {
     "data": {
      "application/vnd.jupyter.widget-view+json": {
       "model_id": "d4ab710b13f340ea9c02a3e9b331e0f7",
       "version_major": 2,
       "version_minor": 0
      },
      "text/plain": [
       "shard.00097.mds:   0%|          | 0.00/67.1M [00:00<?, ?B/s]"
      ]
     },
     "metadata": {},
     "output_type": "display_data"
    },
    {
     "data": {
      "application/vnd.jupyter.widget-view+json": {
       "model_id": "41dcc328be054cae9e7596f6833d52fa",
       "version_major": 2,
       "version_minor": 0
      },
      "text/plain": [
       "shard.00098.mds:   0%|          | 0.00/67.1M [00:00<?, ?B/s]"
      ]
     },
     "metadata": {},
     "output_type": "display_data"
    },
    {
     "data": {
      "application/vnd.jupyter.widget-view+json": {
       "model_id": "e714c3735619407d921608f93520941c",
       "version_major": 2,
       "version_minor": 0
      },
      "text/plain": [
       "shard.00099.mds:   0%|          | 0.00/67.1M [00:00<?, ?B/s]"
      ]
     },
     "metadata": {},
     "output_type": "display_data"
    },
    {
     "data": {
      "application/vnd.jupyter.widget-view+json": {
       "model_id": "9bd5c23697944e32a145bb190f5ab0b0",
       "version_major": 2,
       "version_minor": 0
      },
      "text/plain": [
       "shard.00100.mds:   0%|          | 0.00/67.1M [00:00<?, ?B/s]"
      ]
     },
     "metadata": {},
     "output_type": "display_data"
    },
    {
     "data": {
      "application/vnd.jupyter.widget-view+json": {
       "model_id": "7136a585630e41498bdf2c943590f22b",
       "version_major": 2,
       "version_minor": 0
      },
      "text/plain": [
       "shard.00101.mds:   0%|          | 0.00/67.1M [00:00<?, ?B/s]"
      ]
     },
     "metadata": {},
     "output_type": "display_data"
    },
    {
     "data": {
      "application/vnd.jupyter.widget-view+json": {
       "model_id": "cd1bf6bd4cf44baab00b5bb21c7dc3ad",
       "version_major": 2,
       "version_minor": 0
      },
      "text/plain": [
       "shard.00102.mds:   0%|          | 0.00/67.1M [00:00<?, ?B/s]"
      ]
     },
     "metadata": {},
     "output_type": "display_data"
    },
    {
     "data": {
      "application/vnd.jupyter.widget-view+json": {
       "model_id": "98b5a41e53664dd39c500420ec055fb1",
       "version_major": 2,
       "version_minor": 0
      },
      "text/plain": [
       "shard.00103.mds:   0%|          | 0.00/67.1M [00:00<?, ?B/s]"
      ]
     },
     "metadata": {},
     "output_type": "display_data"
    },
    {
     "data": {
      "application/vnd.jupyter.widget-view+json": {
       "model_id": "3a9f992aa615400395510efc0943a46f",
       "version_major": 2,
       "version_minor": 0
      },
      "text/plain": [
       "shard.00104.mds:   0%|          | 0.00/67.1M [00:00<?, ?B/s]"
      ]
     },
     "metadata": {},
     "output_type": "display_data"
    },
    {
     "data": {
      "application/vnd.jupyter.widget-view+json": {
       "model_id": "a3825da87d6d44dc9dbf2031f332f404",
       "version_major": 2,
       "version_minor": 0
      },
      "text/plain": [
       "shard.00105.mds:   0%|          | 0.00/67.1M [00:00<?, ?B/s]"
      ]
     },
     "metadata": {},
     "output_type": "display_data"
    },
    {
     "data": {
      "application/vnd.jupyter.widget-view+json": {
       "model_id": "26adb3f212b9481ba2789dd6d367545d",
       "version_major": 2,
       "version_minor": 0
      },
      "text/plain": [
       "shard.00106.mds:   0%|          | 0.00/67.1M [00:00<?, ?B/s]"
      ]
     },
     "metadata": {},
     "output_type": "display_data"
    },
    {
     "data": {
      "application/vnd.jupyter.widget-view+json": {
       "model_id": "45cbf91f8d6d408ebb887773d3b1fc04",
       "version_major": 2,
       "version_minor": 0
      },
      "text/plain": [
       "shard.00107.mds:   0%|          | 0.00/67.1M [00:00<?, ?B/s]"
      ]
     },
     "metadata": {},
     "output_type": "display_data"
    },
    {
     "data": {
      "application/vnd.jupyter.widget-view+json": {
       "model_id": "2e0c1fd2bdf94e0aa24663a0a7973aa4",
       "version_major": 2,
       "version_minor": 0
      },
      "text/plain": [
       "shard.00108.mds:   0%|          | 0.00/67.1M [00:00<?, ?B/s]"
      ]
     },
     "metadata": {},
     "output_type": "display_data"
    },
    {
     "data": {
      "application/vnd.jupyter.widget-view+json": {
       "model_id": "602916c01e7e4001b93a3690606609ad",
       "version_major": 2,
       "version_minor": 0
      },
      "text/plain": [
       "shard.00109.mds:   0%|          | 0.00/67.1M [00:00<?, ?B/s]"
      ]
     },
     "metadata": {},
     "output_type": "display_data"
    },
    {
     "data": {
      "application/vnd.jupyter.widget-view+json": {
       "model_id": "acf9e6bb9ec6480f8c56a2c60403f0c4",
       "version_major": 2,
       "version_minor": 0
      },
      "text/plain": [
       "shard.00110.mds:   0%|          | 0.00/67.1M [00:00<?, ?B/s]"
      ]
     },
     "metadata": {},
     "output_type": "display_data"
    },
    {
     "data": {
      "application/vnd.jupyter.widget-view+json": {
       "model_id": "652cb688e465454288c52ccfca2ff36c",
       "version_major": 2,
       "version_minor": 0
      },
      "text/plain": [
       "shard.00111.mds:   0%|          | 0.00/67.1M [00:00<?, ?B/s]"
      ]
     },
     "metadata": {},
     "output_type": "display_data"
    },
    {
     "data": {
      "application/vnd.jupyter.widget-view+json": {
       "model_id": "494eb3e95a544e73add1461f7d9a677b",
       "version_major": 2,
       "version_minor": 0
      },
      "text/plain": [
       "shard.00112.mds:   0%|          | 0.00/67.1M [00:00<?, ?B/s]"
      ]
     },
     "metadata": {},
     "output_type": "display_data"
    },
    {
     "data": {
      "application/vnd.jupyter.widget-view+json": {
       "model_id": "a8b1734376f8449c96038a5e001a6a28",
       "version_major": 2,
       "version_minor": 0
      },
      "text/plain": [
       "shard.00113.mds:   0%|          | 0.00/67.1M [00:00<?, ?B/s]"
      ]
     },
     "metadata": {},
     "output_type": "display_data"
    },
    {
     "data": {
      "application/vnd.jupyter.widget-view+json": {
       "model_id": "91e29ee920994b89be102a35c6910dd1",
       "version_major": 2,
       "version_minor": 0
      },
      "text/plain": [
       "shard.00114.mds:   0%|          | 0.00/67.1M [00:00<?, ?B/s]"
      ]
     },
     "metadata": {},
     "output_type": "display_data"
    },
    {
     "data": {
      "application/vnd.jupyter.widget-view+json": {
       "model_id": "33933d4f51cb4d3590cae33a3316e4a7",
       "version_major": 2,
       "version_minor": 0
      },
      "text/plain": [
       "shard.00115.mds:   0%|          | 0.00/67.1M [00:00<?, ?B/s]"
      ]
     },
     "metadata": {},
     "output_type": "display_data"
    },
    {
     "data": {
      "application/vnd.jupyter.widget-view+json": {
       "model_id": "a1e5f16edb1144e1bfdebf87c4479859",
       "version_major": 2,
       "version_minor": 0
      },
      "text/plain": [
       "shard.00116.mds:   0%|          | 0.00/67.1M [00:00<?, ?B/s]"
      ]
     },
     "metadata": {},
     "output_type": "display_data"
    },
    {
     "data": {
      "application/vnd.jupyter.widget-view+json": {
       "model_id": "211b4918e1f14d01b5010a03584c217e",
       "version_major": 2,
       "version_minor": 0
      },
      "text/plain": [
       "shard.00117.mds:   0%|          | 0.00/67.1M [00:00<?, ?B/s]"
      ]
     },
     "metadata": {},
     "output_type": "display_data"
    },
    {
     "data": {
      "application/vnd.jupyter.widget-view+json": {
       "model_id": "3617e4f17b1f4fed828872b3941e5af9",
       "version_major": 2,
       "version_minor": 0
      },
      "text/plain": [
       "shard.00118.mds:   0%|          | 0.00/67.1M [00:00<?, ?B/s]"
      ]
     },
     "metadata": {},
     "output_type": "display_data"
    },
    {
     "data": {
      "application/vnd.jupyter.widget-view+json": {
       "model_id": "76074f822b8f4242856aacf12816c0f1",
       "version_major": 2,
       "version_minor": 0
      },
      "text/plain": [
       "shard.00119.mds:   0%|          | 0.00/67.1M [00:00<?, ?B/s]"
      ]
     },
     "metadata": {},
     "output_type": "display_data"
    },
    {
     "data": {
      "application/vnd.jupyter.widget-view+json": {
       "model_id": "270c19d710194a13ab6b8334dfbd0ea7",
       "version_major": 2,
       "version_minor": 0
      },
      "text/plain": [
       "shard.00120.mds:   0%|          | 0.00/67.1M [00:00<?, ?B/s]"
      ]
     },
     "metadata": {},
     "output_type": "display_data"
    },
    {
     "data": {
      "application/vnd.jupyter.widget-view+json": {
       "model_id": "ee43335cd82c4aeb9940a235108a9bb0",
       "version_major": 2,
       "version_minor": 0
      },
      "text/plain": [
       "shard.00121.mds:   0%|          | 0.00/67.1M [00:00<?, ?B/s]"
      ]
     },
     "metadata": {},
     "output_type": "display_data"
    },
    {
     "data": {
      "application/vnd.jupyter.widget-view+json": {
       "model_id": "1759cf11d527415c860f37f8e8c44980",
       "version_major": 2,
       "version_minor": 0
      },
      "text/plain": [
       "shard.00122.mds:   0%|          | 0.00/67.1M [00:00<?, ?B/s]"
      ]
     },
     "metadata": {},
     "output_type": "display_data"
    },
    {
     "data": {
      "application/vnd.jupyter.widget-view+json": {
       "model_id": "8284b0af665041e287d5c65c894a8385",
       "version_major": 2,
       "version_minor": 0
      },
      "text/plain": [
       "shard.00123.mds:   0%|          | 0.00/67.1M [00:00<?, ?B/s]"
      ]
     },
     "metadata": {},
     "output_type": "display_data"
    },
    {
     "data": {
      "application/vnd.jupyter.widget-view+json": {
       "model_id": "6926e175f47345879ca9fc8cf0f46396",
       "version_major": 2,
       "version_minor": 0
      },
      "text/plain": [
       "shard.00124.mds:   0%|          | 0.00/67.1M [00:00<?, ?B/s]"
      ]
     },
     "metadata": {},
     "output_type": "display_data"
    },
    {
     "data": {
      "application/vnd.jupyter.widget-view+json": {
       "model_id": "bdac72bd73b3423d83970c2049a2b893",
       "version_major": 2,
       "version_minor": 0
      },
      "text/plain": [
       "shard.00125.mds:   0%|          | 0.00/67.1M [00:00<?, ?B/s]"
      ]
     },
     "metadata": {},
     "output_type": "display_data"
    },
    {
     "data": {
      "application/vnd.jupyter.widget-view+json": {
       "model_id": "4d14824eceeb4809a12211d6d1c45027",
       "version_major": 2,
       "version_minor": 0
      },
      "text/plain": [
       "shard.00126.mds:   0%|          | 0.00/67.1M [00:00<?, ?B/s]"
      ]
     },
     "metadata": {},
     "output_type": "display_data"
    },
    {
     "data": {
      "application/vnd.jupyter.widget-view+json": {
       "model_id": "111fb18dcb084bb4bbb9abec96d64440",
       "version_major": 2,
       "version_minor": 0
      },
      "text/plain": [
       "shard.00127.mds:   0%|          | 0.00/67.1M [00:00<?, ?B/s]"
      ]
     },
     "metadata": {},
     "output_type": "display_data"
    },
    {
     "data": {
      "application/vnd.jupyter.widget-view+json": {
       "model_id": "614a9b52c5b149bc971c07cf5b08eadc",
       "version_major": 2,
       "version_minor": 0
      },
      "text/plain": [
       "shard.00128.mds:   0%|          | 0.00/67.1M [00:00<?, ?B/s]"
      ]
     },
     "metadata": {},
     "output_type": "display_data"
    },
    {
     "data": {
      "application/vnd.jupyter.widget-view+json": {
       "model_id": "4cd416b2420b4885a9a0e74c0a35e74c",
       "version_major": 2,
       "version_minor": 0
      },
      "text/plain": [
       "shard.00129.mds:   0%|          | 0.00/67.1M [00:00<?, ?B/s]"
      ]
     },
     "metadata": {},
     "output_type": "display_data"
    },
    {
     "data": {
      "application/vnd.jupyter.widget-view+json": {
       "model_id": "54d3eef5da374c659e5b925761ad8eb7",
       "version_major": 2,
       "version_minor": 0
      },
      "text/plain": [
       "shard.00130.mds:   0%|          | 0.00/67.1M [00:00<?, ?B/s]"
      ]
     },
     "metadata": {},
     "output_type": "display_data"
    },
    {
     "data": {
      "application/vnd.jupyter.widget-view+json": {
       "model_id": "7ffaf74b92d1408ba1d80ef0e8106f74",
       "version_major": 2,
       "version_minor": 0
      },
      "text/plain": [
       "shard.00131.mds:   0%|          | 0.00/67.1M [00:00<?, ?B/s]"
      ]
     },
     "metadata": {},
     "output_type": "display_data"
    },
    {
     "data": {
      "application/vnd.jupyter.widget-view+json": {
       "model_id": "9d479b14a74148deaaacb1be6d87db7b",
       "version_major": 2,
       "version_minor": 0
      },
      "text/plain": [
       "shard.00132.mds:   0%|          | 0.00/67.1M [00:00<?, ?B/s]"
      ]
     },
     "metadata": {},
     "output_type": "display_data"
    },
    {
     "data": {
      "application/vnd.jupyter.widget-view+json": {
       "model_id": "5f4ea534b62b4e0c816c7c4fb664f4c0",
       "version_major": 2,
       "version_minor": 0
      },
      "text/plain": [
       "shard.00133.mds:   0%|          | 0.00/67.1M [00:00<?, ?B/s]"
      ]
     },
     "metadata": {},
     "output_type": "display_data"
    },
    {
     "data": {
      "application/vnd.jupyter.widget-view+json": {
       "model_id": "155c387d057a4e0982fd354e7fbb4141",
       "version_major": 2,
       "version_minor": 0
      },
      "text/plain": [
       "shard.00134.mds:   0%|          | 0.00/67.1M [00:00<?, ?B/s]"
      ]
     },
     "metadata": {},
     "output_type": "display_data"
    },
    {
     "data": {
      "application/vnd.jupyter.widget-view+json": {
       "model_id": "214703c162cd4e3fa04cd75f605a5582",
       "version_major": 2,
       "version_minor": 0
      },
      "text/plain": [
       "shard.00135.mds:   0%|          | 0.00/67.1M [00:00<?, ?B/s]"
      ]
     },
     "metadata": {},
     "output_type": "display_data"
    },
    {
     "data": {
      "application/vnd.jupyter.widget-view+json": {
       "model_id": "662af61633e444eb8069d2fe65fba8fc",
       "version_major": 2,
       "version_minor": 0
      },
      "text/plain": [
       "shard.00136.mds:   0%|          | 0.00/67.1M [00:00<?, ?B/s]"
      ]
     },
     "metadata": {},
     "output_type": "display_data"
    },
    {
     "data": {
      "application/vnd.jupyter.widget-view+json": {
       "model_id": "d3bab83ac7a04d3186178566af01e678",
       "version_major": 2,
       "version_minor": 0
      },
      "text/plain": [
       "shard.00137.mds:   0%|          | 0.00/67.1M [00:00<?, ?B/s]"
      ]
     },
     "metadata": {},
     "output_type": "display_data"
    },
    {
     "data": {
      "application/vnd.jupyter.widget-view+json": {
       "model_id": "90c5c3d7a74d48f98a8def3e1e219499",
       "version_major": 2,
       "version_minor": 0
      },
      "text/plain": [
       "shard.00138.mds:   0%|          | 0.00/67.1M [00:00<?, ?B/s]"
      ]
     },
     "metadata": {},
     "output_type": "display_data"
    },
    {
     "data": {
      "application/vnd.jupyter.widget-view+json": {
       "model_id": "104ab702a48d491fb02572bcfd65376d",
       "version_major": 2,
       "version_minor": 0
      },
      "text/plain": [
       "shard.00139.mds:   0%|          | 0.00/67.1M [00:00<?, ?B/s]"
      ]
     },
     "metadata": {},
     "output_type": "display_data"
    },
    {
     "data": {
      "application/vnd.jupyter.widget-view+json": {
       "model_id": "48986b33d06043eab8c71af5ca22b7ae",
       "version_major": 2,
       "version_minor": 0
      },
      "text/plain": [
       "shard.00140.mds:   0%|          | 0.00/67.1M [00:00<?, ?B/s]"
      ]
     },
     "metadata": {},
     "output_type": "display_data"
    },
    {
     "data": {
      "application/vnd.jupyter.widget-view+json": {
       "model_id": "2574a1a1270c43bb87cbb4bd17cd4e3c",
       "version_major": 2,
       "version_minor": 0
      },
      "text/plain": [
       "shard.00141.mds:   0%|          | 0.00/67.1M [00:00<?, ?B/s]"
      ]
     },
     "metadata": {},
     "output_type": "display_data"
    },
    {
     "data": {
      "application/vnd.jupyter.widget-view+json": {
       "model_id": "36370b3185de4a51913ce666c2297ef6",
       "version_major": 2,
       "version_minor": 0
      },
      "text/plain": [
       "shard.00142.mds:   0%|          | 0.00/67.1M [00:00<?, ?B/s]"
      ]
     },
     "metadata": {},
     "output_type": "display_data"
    },
    {
     "data": {
      "application/vnd.jupyter.widget-view+json": {
       "model_id": "9c57c7aba4324aa1af8b44d69c529fa9",
       "version_major": 2,
       "version_minor": 0
      },
      "text/plain": [
       "shard.00143.mds:   0%|          | 0.00/67.1M [00:00<?, ?B/s]"
      ]
     },
     "metadata": {},
     "output_type": "display_data"
    },
    {
     "data": {
      "application/vnd.jupyter.widget-view+json": {
       "model_id": "b2be3ff583c84cfba757e532b6c0121d",
       "version_major": 2,
       "version_minor": 0
      },
      "text/plain": [
       "shard.00144.mds:   0%|          | 0.00/67.1M [00:00<?, ?B/s]"
      ]
     },
     "metadata": {},
     "output_type": "display_data"
    },
    {
     "data": {
      "application/vnd.jupyter.widget-view+json": {
       "model_id": "6ce77e8007bf423c8fc707247ccd4518",
       "version_major": 2,
       "version_minor": 0
      },
      "text/plain": [
       "shard.00145.mds:   0%|          | 0.00/67.1M [00:00<?, ?B/s]"
      ]
     },
     "metadata": {},
     "output_type": "display_data"
    },
    {
     "data": {
      "application/vnd.jupyter.widget-view+json": {
       "model_id": "572cec4fbbe54a6daddbe077f16eb31d",
       "version_major": 2,
       "version_minor": 0
      },
      "text/plain": [
       "shard.00146.mds:   0%|          | 0.00/67.1M [00:00<?, ?B/s]"
      ]
     },
     "metadata": {},
     "output_type": "display_data"
    },
    {
     "data": {
      "application/vnd.jupyter.widget-view+json": {
       "model_id": "b732c101183a4f00bdf198b2c73c7299",
       "version_major": 2,
       "version_minor": 0
      },
      "text/plain": [
       "shard.00147.mds:   0%|          | 0.00/67.1M [00:00<?, ?B/s]"
      ]
     },
     "metadata": {},
     "output_type": "display_data"
    },
    {
     "data": {
      "application/vnd.jupyter.widget-view+json": {
       "model_id": "cea3222f83d14f67b96820d5bc24f5b6",
       "version_major": 2,
       "version_minor": 0
      },
      "text/plain": [
       "shard.00148.mds:   0%|          | 0.00/67.1M [00:00<?, ?B/s]"
      ]
     },
     "metadata": {},
     "output_type": "display_data"
    },
    {
     "data": {
      "application/vnd.jupyter.widget-view+json": {
       "model_id": "2eeffb2ea39345318e442eaef644b4fa",
       "version_major": 2,
       "version_minor": 0
      },
      "text/plain": [
       "shard.00149.mds:   0%|          | 0.00/67.1M [00:00<?, ?B/s]"
      ]
     },
     "metadata": {},
     "output_type": "display_data"
    },
    {
     "data": {
      "application/vnd.jupyter.widget-view+json": {
       "model_id": "bf3b88a24737454bacf06431c454067f",
       "version_major": 2,
       "version_minor": 0
      },
      "text/plain": [
       "shard.00150.mds:   0%|          | 0.00/67.1M [00:00<?, ?B/s]"
      ]
     },
     "metadata": {},
     "output_type": "display_data"
    },
    {
     "data": {
      "application/vnd.jupyter.widget-view+json": {
       "model_id": "4f3faa309cde424ebcfd366c08c94605",
       "version_major": 2,
       "version_minor": 0
      },
      "text/plain": [
       "shard.00151.mds:   0%|          | 0.00/67.1M [00:00<?, ?B/s]"
      ]
     },
     "metadata": {},
     "output_type": "display_data"
    },
    {
     "data": {
      "application/vnd.jupyter.widget-view+json": {
       "model_id": "f521b27400bf4e1194f765629d2b3ac2",
       "version_major": 2,
       "version_minor": 0
      },
      "text/plain": [
       "shard.00152.mds:   0%|          | 0.00/67.1M [00:00<?, ?B/s]"
      ]
     },
     "metadata": {},
     "output_type": "display_data"
    },
    {
     "data": {
      "application/vnd.jupyter.widget-view+json": {
       "model_id": "f193068250054c4d891e09a766a5232b",
       "version_major": 2,
       "version_minor": 0
      },
      "text/plain": [
       "shard.00153.mds:   0%|          | 0.00/67.1M [00:00<?, ?B/s]"
      ]
     },
     "metadata": {},
     "output_type": "display_data"
    },
    {
     "data": {
      "application/vnd.jupyter.widget-view+json": {
       "model_id": "813224cd1a16443fabcc9a00c0819b20",
       "version_major": 2,
       "version_minor": 0
      },
      "text/plain": [
       "shard.00154.mds:   0%|          | 0.00/67.1M [00:00<?, ?B/s]"
      ]
     },
     "metadata": {},
     "output_type": "display_data"
    },
    {
     "data": {
      "application/vnd.jupyter.widget-view+json": {
       "model_id": "2efea1653fe24c989586cdc047fc3535",
       "version_major": 2,
       "version_minor": 0
      },
      "text/plain": [
       "shard.00155.mds:   0%|          | 0.00/67.1M [00:00<?, ?B/s]"
      ]
     },
     "metadata": {},
     "output_type": "display_data"
    },
    {
     "data": {
      "application/vnd.jupyter.widget-view+json": {
       "model_id": "85ed1edcd23c45b2a34456dcf6f4862d",
       "version_major": 2,
       "version_minor": 0
      },
      "text/plain": [
       "shard.00156.mds:   0%|          | 0.00/67.1M [00:00<?, ?B/s]"
      ]
     },
     "metadata": {},
     "output_type": "display_data"
    },
    {
     "data": {
      "application/vnd.jupyter.widget-view+json": {
       "model_id": "3b74e75bf106455988c703b764bb0303",
       "version_major": 2,
       "version_minor": 0
      },
      "text/plain": [
       "shard.00157.mds:   0%|          | 0.00/67.1M [00:00<?, ?B/s]"
      ]
     },
     "metadata": {},
     "output_type": "display_data"
    },
    {
     "data": {
      "application/vnd.jupyter.widget-view+json": {
       "model_id": "ef970adb94b648579ca7a678ce55dae1",
       "version_major": 2,
       "version_minor": 0
      },
      "text/plain": [
       "shard.00158.mds:   0%|          | 0.00/67.1M [00:00<?, ?B/s]"
      ]
     },
     "metadata": {},
     "output_type": "display_data"
    },
    {
     "data": {
      "application/vnd.jupyter.widget-view+json": {
       "model_id": "70905eb4bedd4045ac6b085d75564cf0",
       "version_major": 2,
       "version_minor": 0
      },
      "text/plain": [
       "shard.00159.mds:   0%|          | 0.00/67.1M [00:00<?, ?B/s]"
      ]
     },
     "metadata": {},
     "output_type": "display_data"
    },
    {
     "data": {
      "application/vnd.jupyter.widget-view+json": {
       "model_id": "7fbdfc86ea114532b92a83e7e66ed9dc",
       "version_major": 2,
       "version_minor": 0
      },
      "text/plain": [
       "shard.00160.mds:   0%|          | 0.00/67.1M [00:00<?, ?B/s]"
      ]
     },
     "metadata": {},
     "output_type": "display_data"
    },
    {
     "data": {
      "application/vnd.jupyter.widget-view+json": {
       "model_id": "bfc45549cfe147f694af0e8cd62ecb68",
       "version_major": 2,
       "version_minor": 0
      },
      "text/plain": [
       "shard.00161.mds:   0%|          | 0.00/67.1M [00:00<?, ?B/s]"
      ]
     },
     "metadata": {},
     "output_type": "display_data"
    },
    {
     "data": {
      "application/vnd.jupyter.widget-view+json": {
       "model_id": "1b90742ef5724628b9a06afb2c2df597",
       "version_major": 2,
       "version_minor": 0
      },
      "text/plain": [
       "shard.00162.mds:   0%|          | 0.00/67.1M [00:00<?, ?B/s]"
      ]
     },
     "metadata": {},
     "output_type": "display_data"
    },
    {
     "data": {
      "application/vnd.jupyter.widget-view+json": {
       "model_id": "26ce8127a047422fa484ba49702b3f6c",
       "version_major": 2,
       "version_minor": 0
      },
      "text/plain": [
       "shard.00163.mds:   0%|          | 0.00/67.1M [00:00<?, ?B/s]"
      ]
     },
     "metadata": {},
     "output_type": "display_data"
    },
    {
     "data": {
      "application/vnd.jupyter.widget-view+json": {
       "model_id": "c3bd2141a0174ad0b4adfc2da287cd65",
       "version_major": 2,
       "version_minor": 0
      },
      "text/plain": [
       "shard.00164.mds:   0%|          | 0.00/67.1M [00:00<?, ?B/s]"
      ]
     },
     "metadata": {},
     "output_type": "display_data"
    },
    {
     "data": {
      "application/vnd.jupyter.widget-view+json": {
       "model_id": "2adfbe0e7c444e4f9b420ea9e4224511",
       "version_major": 2,
       "version_minor": 0
      },
      "text/plain": [
       "shard.00165.mds:   0%|          | 0.00/67.1M [00:00<?, ?B/s]"
      ]
     },
     "metadata": {},
     "output_type": "display_data"
    },
    {
     "data": {
      "application/vnd.jupyter.widget-view+json": {
       "model_id": "1592f061ce974f22bed425cb69a9ff8b",
       "version_major": 2,
       "version_minor": 0
      },
      "text/plain": [
       "shard.00166.mds:   0%|          | 0.00/67.1M [00:00<?, ?B/s]"
      ]
     },
     "metadata": {},
     "output_type": "display_data"
    },
    {
     "data": {
      "application/vnd.jupyter.widget-view+json": {
       "model_id": "9342f36402a047d18c129d6399a8f4ab",
       "version_major": 2,
       "version_minor": 0
      },
      "text/plain": [
       "shard.00167.mds:   0%|          | 0.00/67.1M [00:00<?, ?B/s]"
      ]
     },
     "metadata": {},
     "output_type": "display_data"
    },
    {
     "data": {
      "application/vnd.jupyter.widget-view+json": {
       "model_id": "6a9e966ff556402b88a51a4a0adfca19",
       "version_major": 2,
       "version_minor": 0
      },
      "text/plain": [
       "shard.00168.mds:   0%|          | 0.00/67.1M [00:00<?, ?B/s]"
      ]
     },
     "metadata": {},
     "output_type": "display_data"
    },
    {
     "data": {
      "application/vnd.jupyter.widget-view+json": {
       "model_id": "a9eb0c05febc41ee81aa8b1f2dec7da0",
       "version_major": 2,
       "version_minor": 0
      },
      "text/plain": [
       "shard.00169.mds:   0%|          | 0.00/67.1M [00:00<?, ?B/s]"
      ]
     },
     "metadata": {},
     "output_type": "display_data"
    },
    {
     "data": {
      "application/vnd.jupyter.widget-view+json": {
       "model_id": "a514e3bb8de14dd2a904204d67f01a7d",
       "version_major": 2,
       "version_minor": 0
      },
      "text/plain": [
       "shard.00170.mds:   0%|          | 0.00/67.1M [00:00<?, ?B/s]"
      ]
     },
     "metadata": {},
     "output_type": "display_data"
    },
    {
     "data": {
      "application/vnd.jupyter.widget-view+json": {
       "model_id": "8a5c90ff76a842ee92369464807f14c9",
       "version_major": 2,
       "version_minor": 0
      },
      "text/plain": [
       "shard.00171.mds:   0%|          | 0.00/67.1M [00:00<?, ?B/s]"
      ]
     },
     "metadata": {},
     "output_type": "display_data"
    },
    {
     "data": {
      "application/vnd.jupyter.widget-view+json": {
       "model_id": "f37b11d60ac24546bc19394e13909474",
       "version_major": 2,
       "version_minor": 0
      },
      "text/plain": [
       "shard.00172.mds:   0%|          | 0.00/67.1M [00:00<?, ?B/s]"
      ]
     },
     "metadata": {},
     "output_type": "display_data"
    },
    {
     "data": {
      "application/vnd.jupyter.widget-view+json": {
       "model_id": "7732f47c8ea04ea7a8d584809beff82b",
       "version_major": 2,
       "version_minor": 0
      },
      "text/plain": [
       "shard.00173.mds:   0%|          | 0.00/67.1M [00:00<?, ?B/s]"
      ]
     },
     "metadata": {},
     "output_type": "display_data"
    },
    {
     "data": {
      "application/vnd.jupyter.widget-view+json": {
       "model_id": "f9e0951e37f9492db36392f55deb786d",
       "version_major": 2,
       "version_minor": 0
      },
      "text/plain": [
       "shard.00174.mds:   0%|          | 0.00/67.1M [00:00<?, ?B/s]"
      ]
     },
     "metadata": {},
     "output_type": "display_data"
    },
    {
     "data": {
      "application/vnd.jupyter.widget-view+json": {
       "model_id": "db212f453e2c4f4e8743ad6766783e51",
       "version_major": 2,
       "version_minor": 0
      },
      "text/plain": [
       "shard.00175.mds:   0%|          | 0.00/67.1M [00:00<?, ?B/s]"
      ]
     },
     "metadata": {},
     "output_type": "display_data"
    },
    {
     "data": {
      "application/vnd.jupyter.widget-view+json": {
       "model_id": "93ccb999571b46e68dabae5002efbceb",
       "version_major": 2,
       "version_minor": 0
      },
      "text/plain": [
       "shard.00176.mds:   0%|          | 0.00/67.1M [00:00<?, ?B/s]"
      ]
     },
     "metadata": {},
     "output_type": "display_data"
    },
    {
     "data": {
      "application/vnd.jupyter.widget-view+json": {
       "model_id": "dc37b857a06d4395879f95e3e00f6ec7",
       "version_major": 2,
       "version_minor": 0
      },
      "text/plain": [
       "shard.00177.mds:   0%|          | 0.00/67.1M [00:00<?, ?B/s]"
      ]
     },
     "metadata": {},
     "output_type": "display_data"
    },
    {
     "data": {
      "application/vnd.jupyter.widget-view+json": {
       "model_id": "875d940d9ce44b53a4388bd2f050c7c3",
       "version_major": 2,
       "version_minor": 0
      },
      "text/plain": [
       "shard.00178.mds:   0%|          | 0.00/67.1M [00:00<?, ?B/s]"
      ]
     },
     "metadata": {},
     "output_type": "display_data"
    },
    {
     "data": {
      "application/vnd.jupyter.widget-view+json": {
       "model_id": "e1b801626aca408cbfb18097d96d0017",
       "version_major": 2,
       "version_minor": 0
      },
      "text/plain": [
       "shard.00179.mds:   0%|          | 0.00/67.1M [00:00<?, ?B/s]"
      ]
     },
     "metadata": {},
     "output_type": "display_data"
    },
    {
     "data": {
      "application/vnd.jupyter.widget-view+json": {
       "model_id": "cc9b7149187b4b24bb390eaee934f394",
       "version_major": 2,
       "version_minor": 0
      },
      "text/plain": [
       "shard.00180.mds:   0%|          | 0.00/67.1M [00:00<?, ?B/s]"
      ]
     },
     "metadata": {},
     "output_type": "display_data"
    },
    {
     "data": {
      "application/vnd.jupyter.widget-view+json": {
       "model_id": "efd1af5931404b628e6e9a75fbea579d",
       "version_major": 2,
       "version_minor": 0
      },
      "text/plain": [
       "shard.00181.mds:   0%|          | 0.00/67.1M [00:00<?, ?B/s]"
      ]
     },
     "metadata": {},
     "output_type": "display_data"
    },
    {
     "data": {
      "application/vnd.jupyter.widget-view+json": {
       "model_id": "4a2db90611bb495486963d6b13bb1c72",
       "version_major": 2,
       "version_minor": 0
      },
      "text/plain": [
       "shard.00182.mds:   0%|          | 0.00/67.1M [00:00<?, ?B/s]"
      ]
     },
     "metadata": {},
     "output_type": "display_data"
    },
    {
     "data": {
      "application/vnd.jupyter.widget-view+json": {
       "model_id": "89bf42991d42401b953f6ceb1f0c702f",
       "version_major": 2,
       "version_minor": 0
      },
      "text/plain": [
       "shard.00183.mds:   0%|          | 0.00/67.1M [00:00<?, ?B/s]"
      ]
     },
     "metadata": {},
     "output_type": "display_data"
    },
    {
     "data": {
      "application/vnd.jupyter.widget-view+json": {
       "model_id": "0e0373f9ad4f49f4b09be85a036902ab",
       "version_major": 2,
       "version_minor": 0
      },
      "text/plain": [
       "shard.00184.mds:   0%|          | 0.00/67.1M [00:00<?, ?B/s]"
      ]
     },
     "metadata": {},
     "output_type": "display_data"
    },
    {
     "data": {
      "application/vnd.jupyter.widget-view+json": {
       "model_id": "db32f20f955742928d71cb1e4f64fe00",
       "version_major": 2,
       "version_minor": 0
      },
      "text/plain": [
       "shard.00185.mds:   0%|          | 0.00/67.1M [00:00<?, ?B/s]"
      ]
     },
     "metadata": {},
     "output_type": "display_data"
    },
    {
     "data": {
      "application/vnd.jupyter.widget-view+json": {
       "model_id": "1f8dce63b3064835a466238a1011bc82",
       "version_major": 2,
       "version_minor": 0
      },
      "text/plain": [
       "shard.00186.mds:   0%|          | 0.00/67.1M [00:00<?, ?B/s]"
      ]
     },
     "metadata": {},
     "output_type": "display_data"
    },
    {
     "data": {
      "application/vnd.jupyter.widget-view+json": {
       "model_id": "2227c27745e14096ba8339d7976394f6",
       "version_major": 2,
       "version_minor": 0
      },
      "text/plain": [
       "shard.00187.mds:   0%|          | 0.00/67.1M [00:00<?, ?B/s]"
      ]
     },
     "metadata": {},
     "output_type": "display_data"
    },
    {
     "data": {
      "application/vnd.jupyter.widget-view+json": {
       "model_id": "1e0c260def8d4663a230c05cf2828eff",
       "version_major": 2,
       "version_minor": 0
      },
      "text/plain": [
       "shard.00188.mds:   0%|          | 0.00/67.1M [00:00<?, ?B/s]"
      ]
     },
     "metadata": {},
     "output_type": "display_data"
    },
    {
     "data": {
      "application/vnd.jupyter.widget-view+json": {
       "model_id": "90910ec0c23a41f0a411f3be967be3aa",
       "version_major": 2,
       "version_minor": 0
      },
      "text/plain": [
       "shard.00189.mds:   0%|          | 0.00/67.1M [00:00<?, ?B/s]"
      ]
     },
     "metadata": {},
     "output_type": "display_data"
    },
    {
     "data": {
      "application/vnd.jupyter.widget-view+json": {
       "model_id": "2fb79def92cb4824a949e96c0372d19d",
       "version_major": 2,
       "version_minor": 0
      },
      "text/plain": [
       "shard.00190.mds:   0%|          | 0.00/67.1M [00:00<?, ?B/s]"
      ]
     },
     "metadata": {},
     "output_type": "display_data"
    },
    {
     "data": {
      "application/vnd.jupyter.widget-view+json": {
       "model_id": "64437565cb664b08b94986a4fb0b7a4f",
       "version_major": 2,
       "version_minor": 0
      },
      "text/plain": [
       "shard.00191.mds:   0%|          | 0.00/67.1M [00:00<?, ?B/s]"
      ]
     },
     "metadata": {},
     "output_type": "display_data"
    },
    {
     "data": {
      "application/vnd.jupyter.widget-view+json": {
       "model_id": "e4ee3b5da89845c4ad4a6b07865736c6",
       "version_major": 2,
       "version_minor": 0
      },
      "text/plain": [
       "shard.00192.mds:   0%|          | 0.00/67.1M [00:00<?, ?B/s]"
      ]
     },
     "metadata": {},
     "output_type": "display_data"
    },
    {
     "data": {
      "application/vnd.jupyter.widget-view+json": {
       "model_id": "9ec56de8fde34755a6dc090dcf963e49",
       "version_major": 2,
       "version_minor": 0
      },
      "text/plain": [
       "shard.00193.mds:   0%|          | 0.00/67.1M [00:00<?, ?B/s]"
      ]
     },
     "metadata": {},
     "output_type": "display_data"
    },
    {
     "data": {
      "application/vnd.jupyter.widget-view+json": {
       "model_id": "d1c43d9853b94828a0a54b3bfac1c6fc",
       "version_major": 2,
       "version_minor": 0
      },
      "text/plain": [
       "shard.00194.mds:   0%|          | 0.00/67.1M [00:00<?, ?B/s]"
      ]
     },
     "metadata": {},
     "output_type": "display_data"
    },
    {
     "data": {
      "application/vnd.jupyter.widget-view+json": {
       "model_id": "3ec2df4292744bb0ac7bc7617902ddb4",
       "version_major": 2,
       "version_minor": 0
      },
      "text/plain": [
       "shard.00195.mds:   0%|          | 0.00/67.1M [00:00<?, ?B/s]"
      ]
     },
     "metadata": {},
     "output_type": "display_data"
    },
    {
     "data": {
      "application/vnd.jupyter.widget-view+json": {
       "model_id": "e68b4078dcaa43e4a7a03e840e88ad8e",
       "version_major": 2,
       "version_minor": 0
      },
      "text/plain": [
       "shard.00196.mds:   0%|          | 0.00/67.1M [00:00<?, ?B/s]"
      ]
     },
     "metadata": {},
     "output_type": "display_data"
    },
    {
     "data": {
      "application/vnd.jupyter.widget-view+json": {
       "model_id": "1506ce9af4054a868b1719ec24596dd2",
       "version_major": 2,
       "version_minor": 0
      },
      "text/plain": [
       "shard.00197.mds:   0%|          | 0.00/67.1M [00:00<?, ?B/s]"
      ]
     },
     "metadata": {},
     "output_type": "display_data"
    },
    {
     "data": {
      "application/vnd.jupyter.widget-view+json": {
       "model_id": "ec3d71d4283a4d47bd924b2c0d769725",
       "version_major": 2,
       "version_minor": 0
      },
      "text/plain": [
       "shard.00198.mds:   0%|          | 0.00/67.1M [00:00<?, ?B/s]"
      ]
     },
     "metadata": {},
     "output_type": "display_data"
    },
    {
     "data": {
      "application/vnd.jupyter.widget-view+json": {
       "model_id": "a60ab7a3148646ebbf85e2108efd716d",
       "version_major": 2,
       "version_minor": 0
      },
      "text/plain": [
       "shard.00199.mds:   0%|          | 0.00/67.1M [00:00<?, ?B/s]"
      ]
     },
     "metadata": {},
     "output_type": "display_data"
    },
    {
     "data": {
      "application/vnd.jupyter.widget-view+json": {
       "model_id": "45de6627d4f64ea08bc653e1ba76752f",
       "version_major": 2,
       "version_minor": 0
      },
      "text/plain": [
       "shard.00200.mds:   0%|          | 0.00/67.1M [00:00<?, ?B/s]"
      ]
     },
     "metadata": {},
     "output_type": "display_data"
    },
    {
     "data": {
      "application/vnd.jupyter.widget-view+json": {
       "model_id": "beac3a48c3ac4fd7a4fd81f510d9b29b",
       "version_major": 2,
       "version_minor": 0
      },
      "text/plain": [
       "shard.00201.mds:   0%|          | 0.00/67.1M [00:00<?, ?B/s]"
      ]
     },
     "metadata": {},
     "output_type": "display_data"
    },
    {
     "data": {
      "application/vnd.jupyter.widget-view+json": {
       "model_id": "9d317bc94b2a422abced49809d4866bb",
       "version_major": 2,
       "version_minor": 0
      },
      "text/plain": [
       "shard.00202.mds:   0%|          | 0.00/67.1M [00:00<?, ?B/s]"
      ]
     },
     "metadata": {},
     "output_type": "display_data"
    },
    {
     "data": {
      "application/vnd.jupyter.widget-view+json": {
       "model_id": "96a7c71179024c05bba33cd22803e06e",
       "version_major": 2,
       "version_minor": 0
      },
      "text/plain": [
       "shard.00203.mds:   0%|          | 0.00/67.1M [00:00<?, ?B/s]"
      ]
     },
     "metadata": {},
     "output_type": "display_data"
    },
    {
     "data": {
      "application/vnd.jupyter.widget-view+json": {
       "model_id": "537473cbde2b4763b62de511fd0d6850",
       "version_major": 2,
       "version_minor": 0
      },
      "text/plain": [
       "shard.00204.mds:   0%|          | 0.00/67.1M [00:00<?, ?B/s]"
      ]
     },
     "metadata": {},
     "output_type": "display_data"
    },
    {
     "data": {
      "application/vnd.jupyter.widget-view+json": {
       "model_id": "4cd6e2a761af47088049be05abfef36e",
       "version_major": 2,
       "version_minor": 0
      },
      "text/plain": [
       "shard.00205.mds:   0%|          | 0.00/67.1M [00:00<?, ?B/s]"
      ]
     },
     "metadata": {},
     "output_type": "display_data"
    },
    {
     "data": {
      "application/vnd.jupyter.widget-view+json": {
       "model_id": "ce01273a255f48cdaa2ce6e575defc8b",
       "version_major": 2,
       "version_minor": 0
      },
      "text/plain": [
       "shard.00206.mds:   0%|          | 0.00/67.1M [00:00<?, ?B/s]"
      ]
     },
     "metadata": {},
     "output_type": "display_data"
    },
    {
     "data": {
      "application/vnd.jupyter.widget-view+json": {
       "model_id": "0acf995e606342518408047e6f13401c",
       "version_major": 2,
       "version_minor": 0
      },
      "text/plain": [
       "shard.00207.mds:   0%|          | 0.00/67.1M [00:00<?, ?B/s]"
      ]
     },
     "metadata": {},
     "output_type": "display_data"
    },
    {
     "data": {
      "application/vnd.jupyter.widget-view+json": {
       "model_id": "065a521c96d247aea760ecedea224fd7",
       "version_major": 2,
       "version_minor": 0
      },
      "text/plain": [
       "shard.00208.mds:   0%|          | 0.00/67.1M [00:00<?, ?B/s]"
      ]
     },
     "metadata": {},
     "output_type": "display_data"
    },
    {
     "data": {
      "application/vnd.jupyter.widget-view+json": {
       "model_id": "28875dde4fe741a6b7965a3391e97279",
       "version_major": 2,
       "version_minor": 0
      },
      "text/plain": [
       "shard.00209.mds:   0%|          | 0.00/67.1M [00:00<?, ?B/s]"
      ]
     },
     "metadata": {},
     "output_type": "display_data"
    },
    {
     "data": {
      "application/vnd.jupyter.widget-view+json": {
       "model_id": "878e537ff3604c4cad3ce4a863eac0ff",
       "version_major": 2,
       "version_minor": 0
      },
      "text/plain": [
       "shard.00210.mds:   0%|          | 0.00/67.1M [00:00<?, ?B/s]"
      ]
     },
     "metadata": {},
     "output_type": "display_data"
    },
    {
     "data": {
      "application/vnd.jupyter.widget-view+json": {
       "model_id": "9a9997956f42430697d586745b21f5b2",
       "version_major": 2,
       "version_minor": 0
      },
      "text/plain": [
       "shard.00211.mds:   0%|          | 0.00/67.1M [00:00<?, ?B/s]"
      ]
     },
     "metadata": {},
     "output_type": "display_data"
    },
    {
     "data": {
      "application/vnd.jupyter.widget-view+json": {
       "model_id": "3dcc9d8f6a8f44d6970bd588d99467a5",
       "version_major": 2,
       "version_minor": 0
      },
      "text/plain": [
       "shard.00212.mds:   0%|          | 0.00/67.1M [00:00<?, ?B/s]"
      ]
     },
     "metadata": {},
     "output_type": "display_data"
    },
    {
     "data": {
      "application/vnd.jupyter.widget-view+json": {
       "model_id": "f78117087c63444ca3063c9c2276a070",
       "version_major": 2,
       "version_minor": 0
      },
      "text/plain": [
       "shard.00213.mds:   0%|          | 0.00/67.1M [00:00<?, ?B/s]"
      ]
     },
     "metadata": {},
     "output_type": "display_data"
    },
    {
     "data": {
      "application/vnd.jupyter.widget-view+json": {
       "model_id": "381d46a7deef4821ad12f3a0250ae388",
       "version_major": 2,
       "version_minor": 0
      },
      "text/plain": [
       "shard.00214.mds:   0%|          | 0.00/67.1M [00:00<?, ?B/s]"
      ]
     },
     "metadata": {},
     "output_type": "display_data"
    },
    {
     "data": {
      "application/vnd.jupyter.widget-view+json": {
       "model_id": "abcb404b5f4c47cca49f3abae5103094",
       "version_major": 2,
       "version_minor": 0
      },
      "text/plain": [
       "shard.00215.mds:   0%|          | 0.00/67.1M [00:00<?, ?B/s]"
      ]
     },
     "metadata": {},
     "output_type": "display_data"
    },
    {
     "data": {
      "application/vnd.jupyter.widget-view+json": {
       "model_id": "bd5297c1037f4ffdba54a59c315dc22e",
       "version_major": 2,
       "version_minor": 0
      },
      "text/plain": [
       "shard.00216.mds:   0%|          | 0.00/67.1M [00:00<?, ?B/s]"
      ]
     },
     "metadata": {},
     "output_type": "display_data"
    },
    {
     "data": {
      "application/vnd.jupyter.widget-view+json": {
       "model_id": "1b5b434813df4043804f0b06a3aaadfa",
       "version_major": 2,
       "version_minor": 0
      },
      "text/plain": [
       "shard.00217.mds:   0%|          | 0.00/67.1M [00:00<?, ?B/s]"
      ]
     },
     "metadata": {},
     "output_type": "display_data"
    },
    {
     "data": {
      "application/vnd.jupyter.widget-view+json": {
       "model_id": "cec60ef027464660970c226a5c075970",
       "version_major": 2,
       "version_minor": 0
      },
      "text/plain": [
       "shard.00218.mds:   0%|          | 0.00/67.1M [00:00<?, ?B/s]"
      ]
     },
     "metadata": {},
     "output_type": "display_data"
    },
    {
     "data": {
      "application/vnd.jupyter.widget-view+json": {
       "model_id": "da723d95a96149e7ad4b5fc3702e968f",
       "version_major": 2,
       "version_minor": 0
      },
      "text/plain": [
       "shard.00219.mds:   0%|          | 0.00/67.1M [00:00<?, ?B/s]"
      ]
     },
     "metadata": {},
     "output_type": "display_data"
    },
    {
     "data": {
      "application/vnd.jupyter.widget-view+json": {
       "model_id": "08543c59c9ac472ba3653fad491963f0",
       "version_major": 2,
       "version_minor": 0
      },
      "text/plain": [
       "shard.00220.mds:   0%|          | 0.00/67.1M [00:00<?, ?B/s]"
      ]
     },
     "metadata": {},
     "output_type": "display_data"
    },
    {
     "data": {
      "application/vnd.jupyter.widget-view+json": {
       "model_id": "75cbe07f4fba499e9494ec23351e156a",
       "version_major": 2,
       "version_minor": 0
      },
      "text/plain": [
       "shard.00221.mds:   0%|          | 0.00/67.1M [00:00<?, ?B/s]"
      ]
     },
     "metadata": {},
     "output_type": "display_data"
    },
    {
     "data": {
      "application/vnd.jupyter.widget-view+json": {
       "model_id": "1e1ef271eea54bdda9a2adc6dda41714",
       "version_major": 2,
       "version_minor": 0
      },
      "text/plain": [
       "shard.00222.mds:   0%|          | 0.00/67.1M [00:00<?, ?B/s]"
      ]
     },
     "metadata": {},
     "output_type": "display_data"
    },
    {
     "data": {
      "application/vnd.jupyter.widget-view+json": {
       "model_id": "ca987189139a423d950586cde7df70e6",
       "version_major": 2,
       "version_minor": 0
      },
      "text/plain": [
       "shard.00223.mds:   0%|          | 0.00/67.1M [00:00<?, ?B/s]"
      ]
     },
     "metadata": {},
     "output_type": "display_data"
    },
    {
     "data": {
      "application/vnd.jupyter.widget-view+json": {
       "model_id": "79552ebfe4a9428d9fe954a7386884ab",
       "version_major": 2,
       "version_minor": 0
      },
      "text/plain": [
       "shard.00224.mds:   0%|          | 0.00/67.1M [00:00<?, ?B/s]"
      ]
     },
     "metadata": {},
     "output_type": "display_data"
    },
    {
     "data": {
      "application/vnd.jupyter.widget-view+json": {
       "model_id": "2c80c3ee1d684e2ea5b93bc1518b9531",
       "version_major": 2,
       "version_minor": 0
      },
      "text/plain": [
       "shard.00225.mds:   0%|          | 0.00/67.1M [00:00<?, ?B/s]"
      ]
     },
     "metadata": {},
     "output_type": "display_data"
    },
    {
     "data": {
      "application/vnd.jupyter.widget-view+json": {
       "model_id": "4379a7fe584c47c881e33206f7cd9933",
       "version_major": 2,
       "version_minor": 0
      },
      "text/plain": [
       "shard.00226.mds:   0%|          | 0.00/67.1M [00:00<?, ?B/s]"
      ]
     },
     "metadata": {},
     "output_type": "display_data"
    },
    {
     "data": {
      "application/vnd.jupyter.widget-view+json": {
       "model_id": "2da7a9a658ef4c15939cc6567cdb1c5d",
       "version_major": 2,
       "version_minor": 0
      },
      "text/plain": [
       "shard.00227.mds:   0%|          | 0.00/67.1M [00:00<?, ?B/s]"
      ]
     },
     "metadata": {},
     "output_type": "display_data"
    },
    {
     "data": {
      "application/vnd.jupyter.widget-view+json": {
       "model_id": "0c5f55370612462ebd386b23510e8906",
       "version_major": 2,
       "version_minor": 0
      },
      "text/plain": [
       "shard.00228.mds:   0%|          | 0.00/67.1M [00:00<?, ?B/s]"
      ]
     },
     "metadata": {},
     "output_type": "display_data"
    },
    {
     "data": {
      "application/vnd.jupyter.widget-view+json": {
       "model_id": "fcac9d97dcb24a9fbffdbfea4b3ce4db",
       "version_major": 2,
       "version_minor": 0
      },
      "text/plain": [
       "shard.00229.mds:   0%|          | 0.00/67.1M [00:00<?, ?B/s]"
      ]
     },
     "metadata": {},
     "output_type": "display_data"
    },
    {
     "data": {
      "application/vnd.jupyter.widget-view+json": {
       "model_id": "235793b532644c6ea1447a92c5192475",
       "version_major": 2,
       "version_minor": 0
      },
      "text/plain": [
       "shard.00230.mds:   0%|          | 0.00/67.1M [00:00<?, ?B/s]"
      ]
     },
     "metadata": {},
     "output_type": "display_data"
    },
    {
     "data": {
      "application/vnd.jupyter.widget-view+json": {
       "model_id": "f64affb1fe094f2387c583137f85e09c",
       "version_major": 2,
       "version_minor": 0
      },
      "text/plain": [
       "shard.00231.mds:   0%|          | 0.00/67.1M [00:00<?, ?B/s]"
      ]
     },
     "metadata": {},
     "output_type": "display_data"
    },
    {
     "data": {
      "application/vnd.jupyter.widget-view+json": {
       "model_id": "fb6494aa56d74d37b45dbdeeb2b37b38",
       "version_major": 2,
       "version_minor": 0
      },
      "text/plain": [
       "shard.00232.mds:   0%|          | 0.00/67.1M [00:00<?, ?B/s]"
      ]
     },
     "metadata": {},
     "output_type": "display_data"
    },
    {
     "data": {
      "application/vnd.jupyter.widget-view+json": {
       "model_id": "b19b62bd67c64ac2b4b5048433d9f76f",
       "version_major": 2,
       "version_minor": 0
      },
      "text/plain": [
       "shard.00233.mds:   0%|          | 0.00/67.1M [00:00<?, ?B/s]"
      ]
     },
     "metadata": {},
     "output_type": "display_data"
    },
    {
     "data": {
      "application/vnd.jupyter.widget-view+json": {
       "model_id": "bcb3328b9c4149f7ade85a5715597ab4",
       "version_major": 2,
       "version_minor": 0
      },
      "text/plain": [
       "shard.00234.mds:   0%|          | 0.00/67.1M [00:00<?, ?B/s]"
      ]
     },
     "metadata": {},
     "output_type": "display_data"
    },
    {
     "data": {
      "application/vnd.jupyter.widget-view+json": {
       "model_id": "5c9b7748cedf447db60cc3f506b3724e",
       "version_major": 2,
       "version_minor": 0
      },
      "text/plain": [
       "shard.00235.mds:   0%|          | 0.00/67.1M [00:00<?, ?B/s]"
      ]
     },
     "metadata": {},
     "output_type": "display_data"
    },
    {
     "data": {
      "application/vnd.jupyter.widget-view+json": {
       "model_id": "82677740036e4b8d9e27a2d85c5f0226",
       "version_major": 2,
       "version_minor": 0
      },
      "text/plain": [
       "shard.00236.mds:   0%|          | 0.00/67.1M [00:00<?, ?B/s]"
      ]
     },
     "metadata": {},
     "output_type": "display_data"
    },
    {
     "data": {
      "application/vnd.jupyter.widget-view+json": {
       "model_id": "922702fb8b664e32b0407b8923b132db",
       "version_major": 2,
       "version_minor": 0
      },
      "text/plain": [
       "shard.00237.mds:   0%|          | 0.00/67.1M [00:00<?, ?B/s]"
      ]
     },
     "metadata": {},
     "output_type": "display_data"
    },
    {
     "data": {
      "application/vnd.jupyter.widget-view+json": {
       "model_id": "6acaefaea257468fa817eae5e9fc761f",
       "version_major": 2,
       "version_minor": 0
      },
      "text/plain": [
       "shard.00238.mds:   0%|          | 0.00/67.1M [00:00<?, ?B/s]"
      ]
     },
     "metadata": {},
     "output_type": "display_data"
    },
    {
     "data": {
      "application/vnd.jupyter.widget-view+json": {
       "model_id": "a787069dbe0f4b44906f7bef888db05a",
       "version_major": 2,
       "version_minor": 0
      },
      "text/plain": [
       "shard.00239.mds:   0%|          | 0.00/67.1M [00:00<?, ?B/s]"
      ]
     },
     "metadata": {},
     "output_type": "display_data"
    },
    {
     "data": {
      "application/vnd.jupyter.widget-view+json": {
       "model_id": "5610006a89e74925885c55dfc017f6a0",
       "version_major": 2,
       "version_minor": 0
      },
      "text/plain": [
       "shard.00240.mds:   0%|          | 0.00/67.1M [00:00<?, ?B/s]"
      ]
     },
     "metadata": {},
     "output_type": "display_data"
    },
    {
     "data": {
      "application/vnd.jupyter.widget-view+json": {
       "model_id": "c99b006dc4124e208c957574967a0e6f",
       "version_major": 2,
       "version_minor": 0
      },
      "text/plain": [
       "shard.00241.mds:   0%|          | 0.00/67.1M [00:00<?, ?B/s]"
      ]
     },
     "metadata": {},
     "output_type": "display_data"
    },
    {
     "data": {
      "application/vnd.jupyter.widget-view+json": {
       "model_id": "b927c3fe03fb4459b147e4ad3673499b",
       "version_major": 2,
       "version_minor": 0
      },
      "text/plain": [
       "shard.00242.mds:   0%|          | 0.00/67.1M [00:00<?, ?B/s]"
      ]
     },
     "metadata": {},
     "output_type": "display_data"
    },
    {
     "data": {
      "application/vnd.jupyter.widget-view+json": {
       "model_id": "9f130f35a520482fbf49bc2ac7fa1ecb",
       "version_major": 2,
       "version_minor": 0
      },
      "text/plain": [
       "shard.00243.mds:   0%|          | 0.00/67.1M [00:00<?, ?B/s]"
      ]
     },
     "metadata": {},
     "output_type": "display_data"
    },
    {
     "data": {
      "application/vnd.jupyter.widget-view+json": {
       "model_id": "21b95c2e5e7048f196933964440ec06c",
       "version_major": 2,
       "version_minor": 0
      },
      "text/plain": [
       "shard.00244.mds:   0%|          | 0.00/67.1M [00:00<?, ?B/s]"
      ]
     },
     "metadata": {},
     "output_type": "display_data"
    },
    {
     "data": {
      "application/vnd.jupyter.widget-view+json": {
       "model_id": "49788b7d1a5e4bb9a0bca23979d6e2da",
       "version_major": 2,
       "version_minor": 0
      },
      "text/plain": [
       "shard.00245.mds:   0%|          | 0.00/67.1M [00:00<?, ?B/s]"
      ]
     },
     "metadata": {},
     "output_type": "display_data"
    },
    {
     "data": {
      "application/vnd.jupyter.widget-view+json": {
       "model_id": "2dcf3b5f3ceb4603a9215c7fdb59cce5",
       "version_major": 2,
       "version_minor": 0
      },
      "text/plain": [
       "shard.00246.mds:   0%|          | 0.00/67.1M [00:00<?, ?B/s]"
      ]
     },
     "metadata": {},
     "output_type": "display_data"
    },
    {
     "data": {
      "application/vnd.jupyter.widget-view+json": {
       "model_id": "5dff7b0740e64ebb941f8a97287c3204",
       "version_major": 2,
       "version_minor": 0
      },
      "text/plain": [
       "shard.00247.mds:   0%|          | 0.00/67.1M [00:00<?, ?B/s]"
      ]
     },
     "metadata": {},
     "output_type": "display_data"
    },
    {
     "data": {
      "application/vnd.jupyter.widget-view+json": {
       "model_id": "d627416c412d4f888219eaee1c290cb8",
       "version_major": 2,
       "version_minor": 0
      },
      "text/plain": [
       "shard.00248.mds:   0%|          | 0.00/67.1M [00:00<?, ?B/s]"
      ]
     },
     "metadata": {},
     "output_type": "display_data"
    },
    {
     "data": {
      "application/vnd.jupyter.widget-view+json": {
       "model_id": "a920a5cfb30047b9af3b769d4092577f",
       "version_major": 2,
       "version_minor": 0
      },
      "text/plain": [
       "shard.00249.mds:   0%|          | 0.00/67.1M [00:00<?, ?B/s]"
      ]
     },
     "metadata": {},
     "output_type": "display_data"
    },
    {
     "data": {
      "application/vnd.jupyter.widget-view+json": {
       "model_id": "4df454158ee140a2ac8febf53f4bcbd3",
       "version_major": 2,
       "version_minor": 0
      },
      "text/plain": [
       "shard.00250.mds:   0%|          | 0.00/67.1M [00:00<?, ?B/s]"
      ]
     },
     "metadata": {},
     "output_type": "display_data"
    },
    {
     "data": {
      "application/vnd.jupyter.widget-view+json": {
       "model_id": "1f1eadea15a54afda104de169560a975",
       "version_major": 2,
       "version_minor": 0
      },
      "text/plain": [
       "shard.00251.mds:   0%|          | 0.00/67.1M [00:00<?, ?B/s]"
      ]
     },
     "metadata": {},
     "output_type": "display_data"
    },
    {
     "data": {
      "application/vnd.jupyter.widget-view+json": {
       "model_id": "8ff4166787af4600b8bea00032d5e923",
       "version_major": 2,
       "version_minor": 0
      },
      "text/plain": [
       "shard.00252.mds:   0%|          | 0.00/67.1M [00:00<?, ?B/s]"
      ]
     },
     "metadata": {},
     "output_type": "display_data"
    },
    {
     "data": {
      "application/vnd.jupyter.widget-view+json": {
       "model_id": "809a0f8e4ff3462ba46295b0b028b43c",
       "version_major": 2,
       "version_minor": 0
      },
      "text/plain": [
       "shard.00253.mds:   0%|          | 0.00/67.1M [00:00<?, ?B/s]"
      ]
     },
     "metadata": {},
     "output_type": "display_data"
    },
    {
     "data": {
      "application/vnd.jupyter.widget-view+json": {
       "model_id": "2def96f56bf94d9fb231927f27fd53a0",
       "version_major": 2,
       "version_minor": 0
      },
      "text/plain": [
       "shard.00254.mds:   0%|          | 0.00/67.1M [00:00<?, ?B/s]"
      ]
     },
     "metadata": {},
     "output_type": "display_data"
    },
    {
     "data": {
      "application/vnd.jupyter.widget-view+json": {
       "model_id": "d9a6b21d5fb7465e95d11b7db51b76d5",
       "version_major": 2,
       "version_minor": 0
      },
      "text/plain": [
       "shard.00255.mds:   0%|          | 0.00/67.1M [00:00<?, ?B/s]"
      ]
     },
     "metadata": {},
     "output_type": "display_data"
    },
    {
     "data": {
      "application/vnd.jupyter.widget-view+json": {
       "model_id": "2b8c6d14770e49ac9df808c502dba9cf",
       "version_major": 2,
       "version_minor": 0
      },
      "text/plain": [
       "shard.00256.mds:   0%|          | 0.00/67.1M [00:00<?, ?B/s]"
      ]
     },
     "metadata": {},
     "output_type": "display_data"
    },
    {
     "data": {
      "application/vnd.jupyter.widget-view+json": {
       "model_id": "ee934a5625f949418596e25ea7cd5a8d",
       "version_major": 2,
       "version_minor": 0
      },
      "text/plain": [
       "shard.00257.mds:   0%|          | 0.00/67.1M [00:00<?, ?B/s]"
      ]
     },
     "metadata": {},
     "output_type": "display_data"
    },
    {
     "data": {
      "application/vnd.jupyter.widget-view+json": {
       "model_id": "10377ddadcdb42239831f73f236ba51c",
       "version_major": 2,
       "version_minor": 0
      },
      "text/plain": [
       "shard.00258.mds:   0%|          | 0.00/67.1M [00:00<?, ?B/s]"
      ]
     },
     "metadata": {},
     "output_type": "display_data"
    },
    {
     "data": {
      "application/vnd.jupyter.widget-view+json": {
       "model_id": "85094a710ace467fa1cc29921de5aae9",
       "version_major": 2,
       "version_minor": 0
      },
      "text/plain": [
       "shard.00259.mds:   0%|          | 0.00/67.1M [00:00<?, ?B/s]"
      ]
     },
     "metadata": {},
     "output_type": "display_data"
    },
    {
     "data": {
      "application/vnd.jupyter.widget-view+json": {
       "model_id": "6a018b1fb35941e7b1421f5d28de4fe3",
       "version_major": 2,
       "version_minor": 0
      },
      "text/plain": [
       "shard.00260.mds:   0%|          | 0.00/67.1M [00:00<?, ?B/s]"
      ]
     },
     "metadata": {},
     "output_type": "display_data"
    },
    {
     "data": {
      "application/vnd.jupyter.widget-view+json": {
       "model_id": "6bf4baa82b714a5a965770bb890f1227",
       "version_major": 2,
       "version_minor": 0
      },
      "text/plain": [
       "shard.00261.mds:   0%|          | 0.00/67.1M [00:00<?, ?B/s]"
      ]
     },
     "metadata": {},
     "output_type": "display_data"
    },
    {
     "data": {
      "application/vnd.jupyter.widget-view+json": {
       "model_id": "947b3156f6dc43eb84833e70a8111246",
       "version_major": 2,
       "version_minor": 0
      },
      "text/plain": [
       "shard.00262.mds:   0%|          | 0.00/67.1M [00:00<?, ?B/s]"
      ]
     },
     "metadata": {},
     "output_type": "display_data"
    },
    {
     "data": {
      "application/vnd.jupyter.widget-view+json": {
       "model_id": "c79400dff6e242e2b7c71786add6044e",
       "version_major": 2,
       "version_minor": 0
      },
      "text/plain": [
       "shard.00263.mds:   0%|          | 0.00/67.1M [00:00<?, ?B/s]"
      ]
     },
     "metadata": {},
     "output_type": "display_data"
    },
    {
     "data": {
      "application/vnd.jupyter.widget-view+json": {
       "model_id": "057a7450d4af41dfaa0226b27097c2fa",
       "version_major": 2,
       "version_minor": 0
      },
      "text/plain": [
       "shard.00264.mds:   0%|          | 0.00/67.1M [00:00<?, ?B/s]"
      ]
     },
     "metadata": {},
     "output_type": "display_data"
    },
    {
     "data": {
      "application/vnd.jupyter.widget-view+json": {
       "model_id": "2e379ec520d04ac797ddcf40d8c65a10",
       "version_major": 2,
       "version_minor": 0
      },
      "text/plain": [
       "shard.00265.mds:   0%|          | 0.00/67.1M [00:00<?, ?B/s]"
      ]
     },
     "metadata": {},
     "output_type": "display_data"
    },
    {
     "data": {
      "application/vnd.jupyter.widget-view+json": {
       "model_id": "27f950e7818c40398b0f18fb872371be",
       "version_major": 2,
       "version_minor": 0
      },
      "text/plain": [
       "shard.00266.mds:   0%|          | 0.00/67.1M [00:00<?, ?B/s]"
      ]
     },
     "metadata": {},
     "output_type": "display_data"
    },
    {
     "data": {
      "application/vnd.jupyter.widget-view+json": {
       "model_id": "dfd9859e7aec4c738ab17b05f4a9be0a",
       "version_major": 2,
       "version_minor": 0
      },
      "text/plain": [
       "shard.00267.mds:   0%|          | 0.00/67.1M [00:00<?, ?B/s]"
      ]
     },
     "metadata": {},
     "output_type": "display_data"
    },
    {
     "data": {
      "application/vnd.jupyter.widget-view+json": {
       "model_id": "1b2a26f377a24c149a1c161d58d78a08",
       "version_major": 2,
       "version_minor": 0
      },
      "text/plain": [
       "shard.00268.mds:   0%|          | 0.00/67.1M [00:00<?, ?B/s]"
      ]
     },
     "metadata": {},
     "output_type": "display_data"
    },
    {
     "data": {
      "application/vnd.jupyter.widget-view+json": {
       "model_id": "e11aea8d2e374e9fa082460e20afbc22",
       "version_major": 2,
       "version_minor": 0
      },
      "text/plain": [
       "shard.00269.mds:   0%|          | 0.00/67.1M [00:00<?, ?B/s]"
      ]
     },
     "metadata": {},
     "output_type": "display_data"
    },
    {
     "data": {
      "application/vnd.jupyter.widget-view+json": {
       "model_id": "2f2dac89e825463797bcd5fa82538219",
       "version_major": 2,
       "version_minor": 0
      },
      "text/plain": [
       "shard.00270.mds:   0%|          | 0.00/67.1M [00:00<?, ?B/s]"
      ]
     },
     "metadata": {},
     "output_type": "display_data"
    },
    {
     "data": {
      "application/vnd.jupyter.widget-view+json": {
       "model_id": "2c5c843ee28540229879585321c7c8aa",
       "version_major": 2,
       "version_minor": 0
      },
      "text/plain": [
       "shard.00271.mds:   0%|          | 0.00/67.1M [00:00<?, ?B/s]"
      ]
     },
     "metadata": {},
     "output_type": "display_data"
    },
    {
     "data": {
      "application/vnd.jupyter.widget-view+json": {
       "model_id": "70a12e182c824a418628a45ce5629df1",
       "version_major": 2,
       "version_minor": 0
      },
      "text/plain": [
       "shard.00272.mds:   0%|          | 0.00/67.1M [00:00<?, ?B/s]"
      ]
     },
     "metadata": {},
     "output_type": "display_data"
    },
    {
     "data": {
      "application/vnd.jupyter.widget-view+json": {
       "model_id": "5d77d0c8f4524dc28b8031bb604cf429",
       "version_major": 2,
       "version_minor": 0
      },
      "text/plain": [
       "shard.00273.mds:   0%|          | 0.00/67.1M [00:00<?, ?B/s]"
      ]
     },
     "metadata": {},
     "output_type": "display_data"
    },
    {
     "data": {
      "application/vnd.jupyter.widget-view+json": {
       "model_id": "c5f78c7150664c33a0af905e7aec277f",
       "version_major": 2,
       "version_minor": 0
      },
      "text/plain": [
       "shard.00274.mds:   0%|          | 0.00/67.1M [00:00<?, ?B/s]"
      ]
     },
     "metadata": {},
     "output_type": "display_data"
    },
    {
     "data": {
      "application/vnd.jupyter.widget-view+json": {
       "model_id": "408dc806861f40c6b41649d0ce692d74",
       "version_major": 2,
       "version_minor": 0
      },
      "text/plain": [
       "shard.00275.mds:   0%|          | 0.00/67.1M [00:00<?, ?B/s]"
      ]
     },
     "metadata": {},
     "output_type": "display_data"
    },
    {
     "data": {
      "application/vnd.jupyter.widget-view+json": {
       "model_id": "1cf8e4d0a43442be9aae7fb651686da9",
       "version_major": 2,
       "version_minor": 0
      },
      "text/plain": [
       "shard.00276.mds:   0%|          | 0.00/67.1M [00:00<?, ?B/s]"
      ]
     },
     "metadata": {},
     "output_type": "display_data"
    },
    {
     "data": {
      "application/vnd.jupyter.widget-view+json": {
       "model_id": "2f25ee8b393944b689618a9b7f9c983e",
       "version_major": 2,
       "version_minor": 0
      },
      "text/plain": [
       "shard.00277.mds:   0%|          | 0.00/67.1M [00:00<?, ?B/s]"
      ]
     },
     "metadata": {},
     "output_type": "display_data"
    },
    {
     "data": {
      "application/vnd.jupyter.widget-view+json": {
       "model_id": "c42f0f5d51564d44a1fcbf10426a57e7",
       "version_major": 2,
       "version_minor": 0
      },
      "text/plain": [
       "shard.00278.mds:   0%|          | 0.00/67.1M [00:00<?, ?B/s]"
      ]
     },
     "metadata": {},
     "output_type": "display_data"
    },
    {
     "data": {
      "application/vnd.jupyter.widget-view+json": {
       "model_id": "ad1fad9ad41e4ff88fcfeb0bca92f020",
       "version_major": 2,
       "version_minor": 0
      },
      "text/plain": [
       "shard.00279.mds:   0%|          | 0.00/67.1M [00:00<?, ?B/s]"
      ]
     },
     "metadata": {},
     "output_type": "display_data"
    },
    {
     "data": {
      "application/vnd.jupyter.widget-view+json": {
       "model_id": "95b00689a6dc4243bbc1e4ea97c6f3ed",
       "version_major": 2,
       "version_minor": 0
      },
      "text/plain": [
       "shard.00280.mds:   0%|          | 0.00/67.1M [00:00<?, ?B/s]"
      ]
     },
     "metadata": {},
     "output_type": "display_data"
    },
    {
     "data": {
      "application/vnd.jupyter.widget-view+json": {
       "model_id": "d82ee4ba8c1844b6925be2d2fba8ffda",
       "version_major": 2,
       "version_minor": 0
      },
      "text/plain": [
       "shard.00281.mds:   0%|          | 0.00/67.1M [00:00<?, ?B/s]"
      ]
     },
     "metadata": {},
     "output_type": "display_data"
    },
    {
     "data": {
      "application/vnd.jupyter.widget-view+json": {
       "model_id": "5b5457431bd248efa4d793e4392bfb44",
       "version_major": 2,
       "version_minor": 0
      },
      "text/plain": [
       "shard.00282.mds:   0%|          | 0.00/67.1M [00:00<?, ?B/s]"
      ]
     },
     "metadata": {},
     "output_type": "display_data"
    },
    {
     "data": {
      "application/vnd.jupyter.widget-view+json": {
       "model_id": "7becafb9c7284f1aa0e10dc2d2155a9e",
       "version_major": 2,
       "version_minor": 0
      },
      "text/plain": [
       "shard.00283.mds:   0%|          | 0.00/67.1M [00:00<?, ?B/s]"
      ]
     },
     "metadata": {},
     "output_type": "display_data"
    },
    {
     "data": {
      "application/vnd.jupyter.widget-view+json": {
       "model_id": "90dc4a89456449a1aa4712ceafa650de",
       "version_major": 2,
       "version_minor": 0
      },
      "text/plain": [
       "shard.00284.mds:   0%|          | 0.00/67.1M [00:00<?, ?B/s]"
      ]
     },
     "metadata": {},
     "output_type": "display_data"
    },
    {
     "data": {
      "application/vnd.jupyter.widget-view+json": {
       "model_id": "84a5cdbbe521487ca893c89787a032be",
       "version_major": 2,
       "version_minor": 0
      },
      "text/plain": [
       "shard.00285.mds:   0%|          | 0.00/67.1M [00:00<?, ?B/s]"
      ]
     },
     "metadata": {},
     "output_type": "display_data"
    },
    {
     "data": {
      "application/vnd.jupyter.widget-view+json": {
       "model_id": "448260efc6754aeaacd04730eb83890b",
       "version_major": 2,
       "version_minor": 0
      },
      "text/plain": [
       "shard.00286.mds:   0%|          | 0.00/67.1M [00:00<?, ?B/s]"
      ]
     },
     "metadata": {},
     "output_type": "display_data"
    },
    {
     "data": {
      "application/vnd.jupyter.widget-view+json": {
       "model_id": "567fb1fb55c84a649cf52113bd7ef37f",
       "version_major": 2,
       "version_minor": 0
      },
      "text/plain": [
       "shard.00287.mds:   0%|          | 0.00/67.1M [00:00<?, ?B/s]"
      ]
     },
     "metadata": {},
     "output_type": "display_data"
    },
    {
     "data": {
      "application/vnd.jupyter.widget-view+json": {
       "model_id": "91b6d1a78e2147f990c500ede98c4ac8",
       "version_major": 2,
       "version_minor": 0
      },
      "text/plain": [
       "shard.00288.mds:   0%|          | 0.00/67.1M [00:00<?, ?B/s]"
      ]
     },
     "metadata": {},
     "output_type": "display_data"
    },
    {
     "data": {
      "application/vnd.jupyter.widget-view+json": {
       "model_id": "69bec4b05f6343c99771df82ecbad168",
       "version_major": 2,
       "version_minor": 0
      },
      "text/plain": [
       "shard.00289.mds:   0%|          | 0.00/67.1M [00:00<?, ?B/s]"
      ]
     },
     "metadata": {},
     "output_type": "display_data"
    },
    {
     "data": {
      "application/vnd.jupyter.widget-view+json": {
       "model_id": "1c31c5e2110d43688014e3cbdb5e2c9f",
       "version_major": 2,
       "version_minor": 0
      },
      "text/plain": [
       "shard.00290.mds:   0%|          | 0.00/67.1M [00:00<?, ?B/s]"
      ]
     },
     "metadata": {},
     "output_type": "display_data"
    },
    {
     "data": {
      "application/vnd.jupyter.widget-view+json": {
       "model_id": "6e64286e1a734ef287f1ef8341f68d24",
       "version_major": 2,
       "version_minor": 0
      },
      "text/plain": [
       "shard.00291.mds:   0%|          | 0.00/67.1M [00:00<?, ?B/s]"
      ]
     },
     "metadata": {},
     "output_type": "display_data"
    },
    {
     "data": {
      "application/vnd.jupyter.widget-view+json": {
       "model_id": "1a6bb5e1a1894df0841681f1c13e9179",
       "version_major": 2,
       "version_minor": 0
      },
      "text/plain": [
       "shard.00292.mds:   0%|          | 0.00/67.1M [00:00<?, ?B/s]"
      ]
     },
     "metadata": {},
     "output_type": "display_data"
    },
    {
     "data": {
      "application/vnd.jupyter.widget-view+json": {
       "model_id": "fd4bf3b57ace4b59af01a69eb31f60b6",
       "version_major": 2,
       "version_minor": 0
      },
      "text/plain": [
       "shard.00293.mds:   0%|          | 0.00/67.1M [00:00<?, ?B/s]"
      ]
     },
     "metadata": {},
     "output_type": "display_data"
    },
    {
     "data": {
      "application/vnd.jupyter.widget-view+json": {
       "model_id": "16be61128ad94b8782c02c9eb7fd83a9",
       "version_major": 2,
       "version_minor": 0
      },
      "text/plain": [
       "shard.00294.mds:   0%|          | 0.00/67.1M [00:00<?, ?B/s]"
      ]
     },
     "metadata": {},
     "output_type": "display_data"
    },
    {
     "data": {
      "application/vnd.jupyter.widget-view+json": {
       "model_id": "46961e46a2f54a43a241cb581fa215a7",
       "version_major": 2,
       "version_minor": 0
      },
      "text/plain": [
       "shard.00295.mds:   0%|          | 0.00/67.1M [00:00<?, ?B/s]"
      ]
     },
     "metadata": {},
     "output_type": "display_data"
    },
    {
     "data": {
      "application/vnd.jupyter.widget-view+json": {
       "model_id": "d82381966d204f749a10751680bcc865",
       "version_major": 2,
       "version_minor": 0
      },
      "text/plain": [
       "shard.00296.mds:   0%|          | 0.00/67.1M [00:00<?, ?B/s]"
      ]
     },
     "metadata": {},
     "output_type": "display_data"
    },
    {
     "data": {
      "application/vnd.jupyter.widget-view+json": {
       "model_id": "7287cb7771c84e0594254985c7c736ad",
       "version_major": 2,
       "version_minor": 0
      },
      "text/plain": [
       "shard.00297.mds:   0%|          | 0.00/67.1M [00:00<?, ?B/s]"
      ]
     },
     "metadata": {},
     "output_type": "display_data"
    },
    {
     "data": {
      "application/vnd.jupyter.widget-view+json": {
       "model_id": "7a74589ba18349869413a4810ac53d44",
       "version_major": 2,
       "version_minor": 0
      },
      "text/plain": [
       "shard.00298.mds:   0%|          | 0.00/67.1M [00:00<?, ?B/s]"
      ]
     },
     "metadata": {},
     "output_type": "display_data"
    },
    {
     "data": {
      "application/vnd.jupyter.widget-view+json": {
       "model_id": "e22ccea967894c4dab7c50b5ac5f41ce",
       "version_major": 2,
       "version_minor": 0
      },
      "text/plain": [
       "shard.00299.mds:   0%|          | 0.00/67.1M [00:00<?, ?B/s]"
      ]
     },
     "metadata": {},
     "output_type": "display_data"
    },
    {
     "data": {
      "application/vnd.jupyter.widget-view+json": {
       "model_id": "1a3481fee8f34ba4936f5fe35293eafb",
       "version_major": 2,
       "version_minor": 0
      },
      "text/plain": [
       "shard.00300.mds:   0%|          | 0.00/67.1M [00:00<?, ?B/s]"
      ]
     },
     "metadata": {},
     "output_type": "display_data"
    },
    {
     "data": {
      "application/vnd.jupyter.widget-view+json": {
       "model_id": "e3ab847451c643338440646a4d0d1d45",
       "version_major": 2,
       "version_minor": 0
      },
      "text/plain": [
       "shard.00301.mds:   0%|          | 0.00/67.1M [00:00<?, ?B/s]"
      ]
     },
     "metadata": {},
     "output_type": "display_data"
    },
    {
     "data": {
      "application/vnd.jupyter.widget-view+json": {
       "model_id": "a95725c55dfd4938965335dc1cff952a",
       "version_major": 2,
       "version_minor": 0
      },
      "text/plain": [
       "shard.00302.mds:   0%|          | 0.00/67.1M [00:00<?, ?B/s]"
      ]
     },
     "metadata": {},
     "output_type": "display_data"
    },
    {
     "data": {
      "application/vnd.jupyter.widget-view+json": {
       "model_id": "69034bd0a6784952a489b58c358cc8ba",
       "version_major": 2,
       "version_minor": 0
      },
      "text/plain": [
       "shard.00303.mds:   0%|          | 0.00/67.1M [00:00<?, ?B/s]"
      ]
     },
     "metadata": {},
     "output_type": "display_data"
    },
    {
     "data": {
      "application/vnd.jupyter.widget-view+json": {
       "model_id": "adc955a88c1049a396e25dde792ff1a5",
       "version_major": 2,
       "version_minor": 0
      },
      "text/plain": [
       "shard.00304.mds:   0%|          | 0.00/67.1M [00:00<?, ?B/s]"
      ]
     },
     "metadata": {},
     "output_type": "display_data"
    },
    {
     "data": {
      "application/vnd.jupyter.widget-view+json": {
       "model_id": "42c1d858a2ba4343af048e4fa55da373",
       "version_major": 2,
       "version_minor": 0
      },
      "text/plain": [
       "shard.00305.mds:   0%|          | 0.00/67.1M [00:00<?, ?B/s]"
      ]
     },
     "metadata": {},
     "output_type": "display_data"
    },
    {
     "data": {
      "application/vnd.jupyter.widget-view+json": {
       "model_id": "ecd8af7181e6480886287c17498e05f6",
       "version_major": 2,
       "version_minor": 0
      },
      "text/plain": [
       "shard.00306.mds:   0%|          | 0.00/67.1M [00:00<?, ?B/s]"
      ]
     },
     "metadata": {},
     "output_type": "display_data"
    },
    {
     "data": {
      "application/vnd.jupyter.widget-view+json": {
       "model_id": "19ad3619202f41329b6c56cada39904f",
       "version_major": 2,
       "version_minor": 0
      },
      "text/plain": [
       "shard.00307.mds:   0%|          | 0.00/67.1M [00:00<?, ?B/s]"
      ]
     },
     "metadata": {},
     "output_type": "display_data"
    },
    {
     "data": {
      "application/vnd.jupyter.widget-view+json": {
       "model_id": "bbb37e690a4f49349a2a500dae673193",
       "version_major": 2,
       "version_minor": 0
      },
      "text/plain": [
       "shard.00308.mds:   0%|          | 0.00/67.1M [00:00<?, ?B/s]"
      ]
     },
     "metadata": {},
     "output_type": "display_data"
    },
    {
     "data": {
      "application/vnd.jupyter.widget-view+json": {
       "model_id": "165ee161273e44979e5a7e08b77b5977",
       "version_major": 2,
       "version_minor": 0
      },
      "text/plain": [
       "shard.00309.mds:   0%|          | 0.00/67.1M [00:00<?, ?B/s]"
      ]
     },
     "metadata": {},
     "output_type": "display_data"
    },
    {
     "data": {
      "application/vnd.jupyter.widget-view+json": {
       "model_id": "d79ab3981fe3447a9847c91da5b10eb1",
       "version_major": 2,
       "version_minor": 0
      },
      "text/plain": [
       "shard.00310.mds:   0%|          | 0.00/67.1M [00:00<?, ?B/s]"
      ]
     },
     "metadata": {},
     "output_type": "display_data"
    },
    {
     "data": {
      "application/vnd.jupyter.widget-view+json": {
       "model_id": "c40a1e3389e34a369aaa8b7ae28bb252",
       "version_major": 2,
       "version_minor": 0
      },
      "text/plain": [
       "shard.00311.mds:   0%|          | 0.00/67.1M [00:00<?, ?B/s]"
      ]
     },
     "metadata": {},
     "output_type": "display_data"
    },
    {
     "data": {
      "application/vnd.jupyter.widget-view+json": {
       "model_id": "bd4052665e9e4d15af6d9c6f5ca30cc9",
       "version_major": 2,
       "version_minor": 0
      },
      "text/plain": [
       "shard.00312.mds:   0%|          | 0.00/67.1M [00:00<?, ?B/s]"
      ]
     },
     "metadata": {},
     "output_type": "display_data"
    },
    {
     "data": {
      "application/vnd.jupyter.widget-view+json": {
       "model_id": "e99e1a3e8fca4ac8862ec90d2b62efde",
       "version_major": 2,
       "version_minor": 0
      },
      "text/plain": [
       "shard.00313.mds:   0%|          | 0.00/67.1M [00:00<?, ?B/s]"
      ]
     },
     "metadata": {},
     "output_type": "display_data"
    },
    {
     "data": {
      "application/vnd.jupyter.widget-view+json": {
       "model_id": "e14d49ae3a3b40f6b6b1e32c71573668",
       "version_major": 2,
       "version_minor": 0
      },
      "text/plain": [
       "shard.00314.mds:   0%|          | 0.00/67.1M [00:00<?, ?B/s]"
      ]
     },
     "metadata": {},
     "output_type": "display_data"
    },
    {
     "data": {
      "application/vnd.jupyter.widget-view+json": {
       "model_id": "d19b59e5cc264f36abf44b8b8b440992",
       "version_major": 2,
       "version_minor": 0
      },
      "text/plain": [
       "shard.00315.mds:   0%|          | 0.00/67.1M [00:00<?, ?B/s]"
      ]
     },
     "metadata": {},
     "output_type": "display_data"
    },
    {
     "data": {
      "application/vnd.jupyter.widget-view+json": {
       "model_id": "862da7843c034a9f9ac566ed1b0a488c",
       "version_major": 2,
       "version_minor": 0
      },
      "text/plain": [
       "shard.00316.mds:   0%|          | 0.00/67.1M [00:00<?, ?B/s]"
      ]
     },
     "metadata": {},
     "output_type": "display_data"
    },
    {
     "data": {
      "application/vnd.jupyter.widget-view+json": {
       "model_id": "f631296e6a9f49f4aa0e552515c40ec7",
       "version_major": 2,
       "version_minor": 0
      },
      "text/plain": [
       "shard.00317.mds:   0%|          | 0.00/67.1M [00:00<?, ?B/s]"
      ]
     },
     "metadata": {},
     "output_type": "display_data"
    },
    {
     "data": {
      "application/vnd.jupyter.widget-view+json": {
       "model_id": "af07b380c61d43d5b8e406b4ab04f782",
       "version_major": 2,
       "version_minor": 0
      },
      "text/plain": [
       "shard.00318.mds:   0%|          | 0.00/67.1M [00:00<?, ?B/s]"
      ]
     },
     "metadata": {},
     "output_type": "display_data"
    },
    {
     "data": {
      "application/vnd.jupyter.widget-view+json": {
       "model_id": "83227eddb87741eba30b0327ae202979",
       "version_major": 2,
       "version_minor": 0
      },
      "text/plain": [
       "shard.00319.mds:   0%|          | 0.00/67.1M [00:00<?, ?B/s]"
      ]
     },
     "metadata": {},
     "output_type": "display_data"
    },
    {
     "data": {
      "application/vnd.jupyter.widget-view+json": {
       "model_id": "753d6335b92247d4b72189e511250d00",
       "version_major": 2,
       "version_minor": 0
      },
      "text/plain": [
       "shard.00320.mds:   0%|          | 0.00/67.1M [00:00<?, ?B/s]"
      ]
     },
     "metadata": {},
     "output_type": "display_data"
    },
    {
     "data": {
      "application/vnd.jupyter.widget-view+json": {
       "model_id": "537f1f28b10d4b95a7bac12b100b5d8f",
       "version_major": 2,
       "version_minor": 0
      },
      "text/plain": [
       "shard.00321.mds:   0%|          | 0.00/67.1M [00:00<?, ?B/s]"
      ]
     },
     "metadata": {},
     "output_type": "display_data"
    },
    {
     "data": {
      "application/vnd.jupyter.widget-view+json": {
       "model_id": "55748b0925bd4899878a84417586904f",
       "version_major": 2,
       "version_minor": 0
      },
      "text/plain": [
       "shard.00322.mds:   0%|          | 0.00/67.1M [00:00<?, ?B/s]"
      ]
     },
     "metadata": {},
     "output_type": "display_data"
    },
    {
     "data": {
      "application/vnd.jupyter.widget-view+json": {
       "model_id": "edcb2a3066b745e889ca2b0d8c603224",
       "version_major": 2,
       "version_minor": 0
      },
      "text/plain": [
       "shard.00323.mds:   0%|          | 0.00/67.1M [00:00<?, ?B/s]"
      ]
     },
     "metadata": {},
     "output_type": "display_data"
    },
    {
     "data": {
      "application/vnd.jupyter.widget-view+json": {
       "model_id": "bc08092b2d0c4f95a17f1f430594a642",
       "version_major": 2,
       "version_minor": 0
      },
      "text/plain": [
       "shard.00324.mds:   0%|          | 0.00/67.1M [00:00<?, ?B/s]"
      ]
     },
     "metadata": {},
     "output_type": "display_data"
    },
    {
     "data": {
      "application/vnd.jupyter.widget-view+json": {
       "model_id": "fbac30e7fb1e4c9cb76a2a4e6b527187",
       "version_major": 2,
       "version_minor": 0
      },
      "text/plain": [
       "shard.00325.mds:   0%|          | 0.00/67.1M [00:00<?, ?B/s]"
      ]
     },
     "metadata": {},
     "output_type": "display_data"
    },
    {
     "data": {
      "application/vnd.jupyter.widget-view+json": {
       "model_id": "aa6e7f3db08a4c3a8e57c17c4369b55b",
       "version_major": 2,
       "version_minor": 0
      },
      "text/plain": [
       "shard.00326.mds:   0%|          | 0.00/67.1M [00:00<?, ?B/s]"
      ]
     },
     "metadata": {},
     "output_type": "display_data"
    },
    {
     "data": {
      "application/vnd.jupyter.widget-view+json": {
       "model_id": "c5f3f3ab070945ac94d04e21c7c9cc44",
       "version_major": 2,
       "version_minor": 0
      },
      "text/plain": [
       "shard.00327.mds:   0%|          | 0.00/67.1M [00:00<?, ?B/s]"
      ]
     },
     "metadata": {},
     "output_type": "display_data"
    },
    {
     "data": {
      "application/vnd.jupyter.widget-view+json": {
       "model_id": "31c0c603f7d94adeb6acfe1a734fce28",
       "version_major": 2,
       "version_minor": 0
      },
      "text/plain": [
       "shard.00328.mds:   0%|          | 0.00/67.1M [00:00<?, ?B/s]"
      ]
     },
     "metadata": {},
     "output_type": "display_data"
    },
    {
     "data": {
      "application/vnd.jupyter.widget-view+json": {
       "model_id": "11681013e0a24fc18ed5eb4f862c9a41",
       "version_major": 2,
       "version_minor": 0
      },
      "text/plain": [
       "shard.00329.mds:   0%|          | 0.00/67.1M [00:00<?, ?B/s]"
      ]
     },
     "metadata": {},
     "output_type": "display_data"
    },
    {
     "data": {
      "application/vnd.jupyter.widget-view+json": {
       "model_id": "2c3ecd7dc5024b3395a048418336681a",
       "version_major": 2,
       "version_minor": 0
      },
      "text/plain": [
       "shard.00330.mds:   0%|          | 0.00/67.1M [00:00<?, ?B/s]"
      ]
     },
     "metadata": {},
     "output_type": "display_data"
    },
    {
     "data": {
      "application/vnd.jupyter.widget-view+json": {
       "model_id": "cc8313957694499a9122c79e21e98ef5",
       "version_major": 2,
       "version_minor": 0
      },
      "text/plain": [
       "shard.00331.mds:   0%|          | 0.00/67.1M [00:00<?, ?B/s]"
      ]
     },
     "metadata": {},
     "output_type": "display_data"
    },
    {
     "data": {
      "application/vnd.jupyter.widget-view+json": {
       "model_id": "e765daaf78714f3a9df1ea555db56516",
       "version_major": 2,
       "version_minor": 0
      },
      "text/plain": [
       "shard.00332.mds:   0%|          | 0.00/67.1M [00:00<?, ?B/s]"
      ]
     },
     "metadata": {},
     "output_type": "display_data"
    },
    {
     "data": {
      "application/vnd.jupyter.widget-view+json": {
       "model_id": "dccfee56021e43ba91aa3b08d88392eb",
       "version_major": 2,
       "version_minor": 0
      },
      "text/plain": [
       "shard.00333.mds:   0%|          | 0.00/67.1M [00:00<?, ?B/s]"
      ]
     },
     "metadata": {},
     "output_type": "display_data"
    },
    {
     "data": {
      "application/vnd.jupyter.widget-view+json": {
       "model_id": "9ae0ca8f4ad7487a90a886e5fc38161c",
       "version_major": 2,
       "version_minor": 0
      },
      "text/plain": [
       "shard.00334.mds:   0%|          | 0.00/67.1M [00:00<?, ?B/s]"
      ]
     },
     "metadata": {},
     "output_type": "display_data"
    },
    {
     "data": {
      "application/vnd.jupyter.widget-view+json": {
       "model_id": "4dc6bd41bd504331b12d363c66ba71ca",
       "version_major": 2,
       "version_minor": 0
      },
      "text/plain": [
       "shard.00335.mds:   0%|          | 0.00/67.1M [00:00<?, ?B/s]"
      ]
     },
     "metadata": {},
     "output_type": "display_data"
    },
    {
     "data": {
      "application/vnd.jupyter.widget-view+json": {
       "model_id": "35ece9a277dc467da81fd44bf7c464ed",
       "version_major": 2,
       "version_minor": 0
      },
      "text/plain": [
       "shard.00336.mds:   0%|          | 0.00/67.1M [00:00<?, ?B/s]"
      ]
     },
     "metadata": {},
     "output_type": "display_data"
    },
    {
     "data": {
      "application/vnd.jupyter.widget-view+json": {
       "model_id": "8d376d232506470886a90b6552d2b697",
       "version_major": 2,
       "version_minor": 0
      },
      "text/plain": [
       "shard.00337.mds:   0%|          | 0.00/67.1M [00:00<?, ?B/s]"
      ]
     },
     "metadata": {},
     "output_type": "display_data"
    },
    {
     "data": {
      "application/vnd.jupyter.widget-view+json": {
       "model_id": "96824f1011d04643a1c75d09a983e2c8",
       "version_major": 2,
       "version_minor": 0
      },
      "text/plain": [
       "shard.00338.mds:   0%|          | 0.00/67.1M [00:00<?, ?B/s]"
      ]
     },
     "metadata": {},
     "output_type": "display_data"
    },
    {
     "data": {
      "application/vnd.jupyter.widget-view+json": {
       "model_id": "c0719d82b0824293a8a3b92247d92f83",
       "version_major": 2,
       "version_minor": 0
      },
      "text/plain": [
       "shard.00339.mds:   0%|          | 0.00/67.1M [00:00<?, ?B/s]"
      ]
     },
     "metadata": {},
     "output_type": "display_data"
    },
    {
     "data": {
      "application/vnd.jupyter.widget-view+json": {
       "model_id": "ceac85b8e7314df0bae09f1371bc6963",
       "version_major": 2,
       "version_minor": 0
      },
      "text/plain": [
       "shard.00340.mds:   0%|          | 0.00/67.1M [00:00<?, ?B/s]"
      ]
     },
     "metadata": {},
     "output_type": "display_data"
    },
    {
     "data": {
      "application/vnd.jupyter.widget-view+json": {
       "model_id": "bdd1fe1d83304c9697ca83d6ed1b8162",
       "version_major": 2,
       "version_minor": 0
      },
      "text/plain": [
       "shard.00341.mds:   0%|          | 0.00/67.1M [00:00<?, ?B/s]"
      ]
     },
     "metadata": {},
     "output_type": "display_data"
    },
    {
     "data": {
      "application/vnd.jupyter.widget-view+json": {
       "model_id": "a40f495a5cdd4381bec832055f4bf999",
       "version_major": 2,
       "version_minor": 0
      },
      "text/plain": [
       "shard.00342.mds:   0%|          | 0.00/67.1M [00:00<?, ?B/s]"
      ]
     },
     "metadata": {},
     "output_type": "display_data"
    },
    {
     "data": {
      "application/vnd.jupyter.widget-view+json": {
       "model_id": "85677f2eda644e9cabaa69114a9555cb",
       "version_major": 2,
       "version_minor": 0
      },
      "text/plain": [
       "shard.00343.mds:   0%|          | 0.00/67.1M [00:00<?, ?B/s]"
      ]
     },
     "metadata": {},
     "output_type": "display_data"
    },
    {
     "data": {
      "application/vnd.jupyter.widget-view+json": {
       "model_id": "b609f588a1114fcd89dbf9222623adb3",
       "version_major": 2,
       "version_minor": 0
      },
      "text/plain": [
       "shard.00344.mds:   0%|          | 0.00/67.1M [00:00<?, ?B/s]"
      ]
     },
     "metadata": {},
     "output_type": "display_data"
    },
    {
     "data": {
      "application/vnd.jupyter.widget-view+json": {
       "model_id": "18255ec6d09348b1b78f65e3abb8c385",
       "version_major": 2,
       "version_minor": 0
      },
      "text/plain": [
       "shard.00345.mds:   0%|          | 0.00/67.1M [00:00<?, ?B/s]"
      ]
     },
     "metadata": {},
     "output_type": "display_data"
    },
    {
     "data": {
      "application/vnd.jupyter.widget-view+json": {
       "model_id": "9310d2bb68b745ddbb3891196f2ab2d6",
       "version_major": 2,
       "version_minor": 0
      },
      "text/plain": [
       "shard.00346.mds:   0%|          | 0.00/67.1M [00:00<?, ?B/s]"
      ]
     },
     "metadata": {},
     "output_type": "display_data"
    },
    {
     "data": {
      "application/vnd.jupyter.widget-view+json": {
       "model_id": "e0533bbbdb4b4de09f5de7a0dc607d3d",
       "version_major": 2,
       "version_minor": 0
      },
      "text/plain": [
       "shard.00348.mds:   0%|          | 0.00/67.1M [00:00<?, ?B/s]"
      ]
     },
     "metadata": {},
     "output_type": "display_data"
    },
    {
     "data": {
      "application/vnd.jupyter.widget-view+json": {
       "model_id": "47426a5bc1b54791a7da1215ecc6ccbc",
       "version_major": 2,
       "version_minor": 0
      },
      "text/plain": [
       "shard.00347.mds:   0%|          | 0.00/67.1M [00:00<?, ?B/s]"
      ]
     },
     "metadata": {},
     "output_type": "display_data"
    },
    {
     "data": {
      "application/vnd.jupyter.widget-view+json": {
       "model_id": "7dbc176549874f248c96c4c90fd27977",
       "version_major": 2,
       "version_minor": 0
      },
      "text/plain": [
       "shard.00349.mds:   0%|          | 0.00/67.1M [00:00<?, ?B/s]"
      ]
     },
     "metadata": {},
     "output_type": "display_data"
    },
    {
     "data": {
      "application/vnd.jupyter.widget-view+json": {
       "model_id": "b343c0fc552d4a6fba72220a9eb26e47",
       "version_major": 2,
       "version_minor": 0
      },
      "text/plain": [
       "shard.00350.mds:   0%|          | 0.00/67.1M [00:00<?, ?B/s]"
      ]
     },
     "metadata": {},
     "output_type": "display_data"
    },
    {
     "data": {
      "application/vnd.jupyter.widget-view+json": {
       "model_id": "dbe9f88bd20f42c0a301c905a0fe47b8",
       "version_major": 2,
       "version_minor": 0
      },
      "text/plain": [
       "shard.00351.mds:   0%|          | 0.00/67.1M [00:00<?, ?B/s]"
      ]
     },
     "metadata": {},
     "output_type": "display_data"
    },
    {
     "data": {
      "application/vnd.jupyter.widget-view+json": {
       "model_id": "7413dc0f855944798d8704779f0612e0",
       "version_major": 2,
       "version_minor": 0
      },
      "text/plain": [
       "shard.00352.mds:   0%|          | 0.00/67.1M [00:00<?, ?B/s]"
      ]
     },
     "metadata": {},
     "output_type": "display_data"
    },
    {
     "data": {
      "application/vnd.jupyter.widget-view+json": {
       "model_id": "4f6129bdaf334870bbae9632cca2dd93",
       "version_major": 2,
       "version_minor": 0
      },
      "text/plain": [
       "shard.00353.mds:   0%|          | 0.00/67.1M [00:00<?, ?B/s]"
      ]
     },
     "metadata": {},
     "output_type": "display_data"
    },
    {
     "data": {
      "application/vnd.jupyter.widget-view+json": {
       "model_id": "416926dfec3144a38cd87e8550d5cf4b",
       "version_major": 2,
       "version_minor": 0
      },
      "text/plain": [
       "shard.00354.mds:   0%|          | 0.00/67.1M [00:00<?, ?B/s]"
      ]
     },
     "metadata": {},
     "output_type": "display_data"
    },
    {
     "data": {
      "application/vnd.jupyter.widget-view+json": {
       "model_id": "f03dd183743249ed9dfd362d35a43acd",
       "version_major": 2,
       "version_minor": 0
      },
      "text/plain": [
       "shard.00355.mds:   0%|          | 0.00/67.1M [00:00<?, ?B/s]"
      ]
     },
     "metadata": {},
     "output_type": "display_data"
    },
    {
     "data": {
      "application/vnd.jupyter.widget-view+json": {
       "model_id": "c49673d258874f42a26870e9f4e3db59",
       "version_major": 2,
       "version_minor": 0
      },
      "text/plain": [
       "shard.00356.mds:   0%|          | 0.00/67.1M [00:00<?, ?B/s]"
      ]
     },
     "metadata": {},
     "output_type": "display_data"
    },
    {
     "data": {
      "application/vnd.jupyter.widget-view+json": {
       "model_id": "963363e392484be8ac05c2a61a5a42f8",
       "version_major": 2,
       "version_minor": 0
      },
      "text/plain": [
       "shard.00357.mds:   0%|          | 0.00/67.1M [00:00<?, ?B/s]"
      ]
     },
     "metadata": {},
     "output_type": "display_data"
    },
    {
     "data": {
      "application/vnd.jupyter.widget-view+json": {
       "model_id": "cccac4ed217a423a87695f7f211a0f0e",
       "version_major": 2,
       "version_minor": 0
      },
      "text/plain": [
       "shard.00358.mds:   0%|          | 0.00/67.1M [00:00<?, ?B/s]"
      ]
     },
     "metadata": {},
     "output_type": "display_data"
    },
    {
     "data": {
      "application/vnd.jupyter.widget-view+json": {
       "model_id": "be7b30b47abc4f38aa5f333af42b5ad3",
       "version_major": 2,
       "version_minor": 0
      },
      "text/plain": [
       "shard.00359.mds:   0%|          | 0.00/67.1M [00:00<?, ?B/s]"
      ]
     },
     "metadata": {},
     "output_type": "display_data"
    },
    {
     "data": {
      "application/vnd.jupyter.widget-view+json": {
       "model_id": "19e921cf7b8748cb98ce5ef0ee90382a",
       "version_major": 2,
       "version_minor": 0
      },
      "text/plain": [
       "shard.00360.mds:   0%|          | 0.00/67.1M [00:00<?, ?B/s]"
      ]
     },
     "metadata": {},
     "output_type": "display_data"
    },
    {
     "data": {
      "application/vnd.jupyter.widget-view+json": {
       "model_id": "63fc2039c27445c088903e32f0dd4d51",
       "version_major": 2,
       "version_minor": 0
      },
      "text/plain": [
       "shard.00361.mds:   0%|          | 0.00/67.1M [00:00<?, ?B/s]"
      ]
     },
     "metadata": {},
     "output_type": "display_data"
    },
    {
     "data": {
      "application/vnd.jupyter.widget-view+json": {
       "model_id": "26ede2221e6c4843ac61dbd917d6fc03",
       "version_major": 2,
       "version_minor": 0
      },
      "text/plain": [
       "shard.00362.mds:   0%|          | 0.00/67.1M [00:00<?, ?B/s]"
      ]
     },
     "metadata": {},
     "output_type": "display_data"
    },
    {
     "data": {
      "application/vnd.jupyter.widget-view+json": {
       "model_id": "1ee8e2e12e3a4e0c8ce833019e5b17f4",
       "version_major": 2,
       "version_minor": 0
      },
      "text/plain": [
       "shard.00363.mds:   0%|          | 0.00/67.1M [00:00<?, ?B/s]"
      ]
     },
     "metadata": {},
     "output_type": "display_data"
    },
    {
     "data": {
      "application/vnd.jupyter.widget-view+json": {
       "model_id": "c194297231c845e4ba4cdb1b2f69d094",
       "version_major": 2,
       "version_minor": 0
      },
      "text/plain": [
       "shard.00364.mds:   0%|          | 0.00/67.1M [00:00<?, ?B/s]"
      ]
     },
     "metadata": {},
     "output_type": "display_data"
    },
    {
     "data": {
      "application/vnd.jupyter.widget-view+json": {
       "model_id": "2c525342b0b6420ca4b708e032a85d02",
       "version_major": 2,
       "version_minor": 0
      },
      "text/plain": [
       "shard.00365.mds:   0%|          | 0.00/67.1M [00:00<?, ?B/s]"
      ]
     },
     "metadata": {},
     "output_type": "display_data"
    },
    {
     "data": {
      "application/vnd.jupyter.widget-view+json": {
       "model_id": "e72cef00c6234fe08b67e8616f995761",
       "version_major": 2,
       "version_minor": 0
      },
      "text/plain": [
       "shard.00366.mds:   0%|          | 0.00/67.1M [00:00<?, ?B/s]"
      ]
     },
     "metadata": {},
     "output_type": "display_data"
    },
    {
     "data": {
      "application/vnd.jupyter.widget-view+json": {
       "model_id": "02cde41d0e444dfcb20240cef583c617",
       "version_major": 2,
       "version_minor": 0
      },
      "text/plain": [
       "shard.00367.mds:   0%|          | 0.00/67.1M [00:00<?, ?B/s]"
      ]
     },
     "metadata": {},
     "output_type": "display_data"
    },
    {
     "data": {
      "application/vnd.jupyter.widget-view+json": {
       "model_id": "fe13c794e5424d43b06ad2cc91d950cb",
       "version_major": 2,
       "version_minor": 0
      },
      "text/plain": [
       "shard.00368.mds:   0%|          | 0.00/67.1M [00:00<?, ?B/s]"
      ]
     },
     "metadata": {},
     "output_type": "display_data"
    },
    {
     "data": {
      "application/vnd.jupyter.widget-view+json": {
       "model_id": "9b668d7d7d2642528eb6f182e40a3b29",
       "version_major": 2,
       "version_minor": 0
      },
      "text/plain": [
       "shard.00369.mds:   0%|          | 0.00/67.1M [00:00<?, ?B/s]"
      ]
     },
     "metadata": {},
     "output_type": "display_data"
    },
    {
     "data": {
      "application/vnd.jupyter.widget-view+json": {
       "model_id": "fa1bfff98bc3440e8ca898827a3106a5",
       "version_major": 2,
       "version_minor": 0
      },
      "text/plain": [
       "shard.00370.mds:   0%|          | 0.00/67.1M [00:00<?, ?B/s]"
      ]
     },
     "metadata": {},
     "output_type": "display_data"
    },
    {
     "data": {
      "application/vnd.jupyter.widget-view+json": {
       "model_id": "1acd9a83dbad48c3afb30c049f644447",
       "version_major": 2,
       "version_minor": 0
      },
      "text/plain": [
       "shard.00371.mds:   0%|          | 0.00/67.1M [00:00<?, ?B/s]"
      ]
     },
     "metadata": {},
     "output_type": "display_data"
    },
    {
     "data": {
      "application/vnd.jupyter.widget-view+json": {
       "model_id": "cf4b0c5ce2cf4a68a42aaa78e6d559b5",
       "version_major": 2,
       "version_minor": 0
      },
      "text/plain": [
       "shard.00372.mds:   0%|          | 0.00/67.1M [00:00<?, ?B/s]"
      ]
     },
     "metadata": {},
     "output_type": "display_data"
    },
    {
     "data": {
      "application/vnd.jupyter.widget-view+json": {
       "model_id": "a7883d75b357434093c9ed8696270b55",
       "version_major": 2,
       "version_minor": 0
      },
      "text/plain": [
       "shard.00373.mds:   0%|          | 0.00/67.1M [00:00<?, ?B/s]"
      ]
     },
     "metadata": {},
     "output_type": "display_data"
    },
    {
     "data": {
      "application/vnd.jupyter.widget-view+json": {
       "model_id": "421b7eeee8fb45969e107228428b7ff4",
       "version_major": 2,
       "version_minor": 0
      },
      "text/plain": [
       "shard.00374.mds:   0%|          | 0.00/67.1M [00:00<?, ?B/s]"
      ]
     },
     "metadata": {},
     "output_type": "display_data"
    },
    {
     "data": {
      "application/vnd.jupyter.widget-view+json": {
       "model_id": "b9d9b5d787c54b549ca5d76710ba4766",
       "version_major": 2,
       "version_minor": 0
      },
      "text/plain": [
       "shard.00375.mds:   0%|          | 0.00/67.1M [00:00<?, ?B/s]"
      ]
     },
     "metadata": {},
     "output_type": "display_data"
    },
    {
     "data": {
      "application/vnd.jupyter.widget-view+json": {
       "model_id": "7ad13eed472e48f181f38031df75aeff",
       "version_major": 2,
       "version_minor": 0
      },
      "text/plain": [
       "shard.00376.mds:   0%|          | 0.00/67.1M [00:00<?, ?B/s]"
      ]
     },
     "metadata": {},
     "output_type": "display_data"
    },
    {
     "data": {
      "application/vnd.jupyter.widget-view+json": {
       "model_id": "8323bfd016874442bd910cfd67586f9f",
       "version_major": 2,
       "version_minor": 0
      },
      "text/plain": [
       "shard.00377.mds:   0%|          | 0.00/67.1M [00:00<?, ?B/s]"
      ]
     },
     "metadata": {},
     "output_type": "display_data"
    },
    {
     "data": {
      "application/vnd.jupyter.widget-view+json": {
       "model_id": "d7d2c4b9c0274792b4454bda364612c2",
       "version_major": 2,
       "version_minor": 0
      },
      "text/plain": [
       "shard.00378.mds:   0%|          | 0.00/67.1M [00:00<?, ?B/s]"
      ]
     },
     "metadata": {},
     "output_type": "display_data"
    },
    {
     "data": {
      "application/vnd.jupyter.widget-view+json": {
       "model_id": "87cf3a27ac0c4655803d8b6373f5e14b",
       "version_major": 2,
       "version_minor": 0
      },
      "text/plain": [
       "shard.00379.mds:   0%|          | 0.00/67.1M [00:00<?, ?B/s]"
      ]
     },
     "metadata": {},
     "output_type": "display_data"
    },
    {
     "data": {
      "application/vnd.jupyter.widget-view+json": {
       "model_id": "918083e86d93499ba6008aaad53a3343",
       "version_major": 2,
       "version_minor": 0
      },
      "text/plain": [
       "shard.00380.mds:   0%|          | 0.00/67.1M [00:00<?, ?B/s]"
      ]
     },
     "metadata": {},
     "output_type": "display_data"
    },
    {
     "data": {
      "application/vnd.jupyter.widget-view+json": {
       "model_id": "972df6afbb5b4a1bbc1a5309926975d7",
       "version_major": 2,
       "version_minor": 0
      },
      "text/plain": [
       "shard.00381.mds:   0%|          | 0.00/67.1M [00:00<?, ?B/s]"
      ]
     },
     "metadata": {},
     "output_type": "display_data"
    },
    {
     "data": {
      "application/vnd.jupyter.widget-view+json": {
       "model_id": "c34fade3bc2147209f87edf9e586c3bc",
       "version_major": 2,
       "version_minor": 0
      },
      "text/plain": [
       "shard.00382.mds:   0%|          | 0.00/67.1M [00:00<?, ?B/s]"
      ]
     },
     "metadata": {},
     "output_type": "display_data"
    },
    {
     "data": {
      "application/vnd.jupyter.widget-view+json": {
       "model_id": "c27bfb91d8eb4811803362325e33abb9",
       "version_major": 2,
       "version_minor": 0
      },
      "text/plain": [
       "shard.00383.mds:   0%|          | 0.00/67.1M [00:00<?, ?B/s]"
      ]
     },
     "metadata": {},
     "output_type": "display_data"
    },
    {
     "data": {
      "application/vnd.jupyter.widget-view+json": {
       "model_id": "1603d6f389b74de7aed5dacb8f687342",
       "version_major": 2,
       "version_minor": 0
      },
      "text/plain": [
       "shard.00384.mds:   0%|          | 0.00/67.1M [00:00<?, ?B/s]"
      ]
     },
     "metadata": {},
     "output_type": "display_data"
    },
    {
     "data": {
      "application/vnd.jupyter.widget-view+json": {
       "model_id": "86c5609e63f64e13998948b606a9869a",
       "version_major": 2,
       "version_minor": 0
      },
      "text/plain": [
       "shard.00385.mds:   0%|          | 0.00/67.1M [00:00<?, ?B/s]"
      ]
     },
     "metadata": {},
     "output_type": "display_data"
    },
    {
     "data": {
      "application/vnd.jupyter.widget-view+json": {
       "model_id": "0ff42df6405f4253af09067673376f1d",
       "version_major": 2,
       "version_minor": 0
      },
      "text/plain": [
       "shard.00386.mds:   0%|          | 0.00/67.1M [00:00<?, ?B/s]"
      ]
     },
     "metadata": {},
     "output_type": "display_data"
    },
    {
     "data": {
      "application/vnd.jupyter.widget-view+json": {
       "model_id": "f6227d0210b64962b925eb0ff6d8a5bb",
       "version_major": 2,
       "version_minor": 0
      },
      "text/plain": [
       "shard.00387.mds:   0%|          | 0.00/67.1M [00:00<?, ?B/s]"
      ]
     },
     "metadata": {},
     "output_type": "display_data"
    },
    {
     "data": {
      "application/vnd.jupyter.widget-view+json": {
       "model_id": "182a4b64dc434929ad77b9305ce5e253",
       "version_major": 2,
       "version_minor": 0
      },
      "text/plain": [
       "shard.00388.mds:   0%|          | 0.00/67.1M [00:00<?, ?B/s]"
      ]
     },
     "metadata": {},
     "output_type": "display_data"
    },
    {
     "data": {
      "application/vnd.jupyter.widget-view+json": {
       "model_id": "ee387b9118854e71a99dfb817b4aa948",
       "version_major": 2,
       "version_minor": 0
      },
      "text/plain": [
       "shard.00389.mds:   0%|          | 0.00/67.1M [00:00<?, ?B/s]"
      ]
     },
     "metadata": {},
     "output_type": "display_data"
    },
    {
     "data": {
      "application/vnd.jupyter.widget-view+json": {
       "model_id": "eb019d863fae4e418a76094abfd05ac1",
       "version_major": 2,
       "version_minor": 0
      },
      "text/plain": [
       "shard.00390.mds:   0%|          | 0.00/67.1M [00:00<?, ?B/s]"
      ]
     },
     "metadata": {},
     "output_type": "display_data"
    },
    {
     "data": {
      "application/vnd.jupyter.widget-view+json": {
       "model_id": "267cfb36d0754c9797af6f2d0c0d51dc",
       "version_major": 2,
       "version_minor": 0
      },
      "text/plain": [
       "shard.00391.mds:   0%|          | 0.00/67.1M [00:00<?, ?B/s]"
      ]
     },
     "metadata": {},
     "output_type": "display_data"
    },
    {
     "data": {
      "application/vnd.jupyter.widget-view+json": {
       "model_id": "d7b421e870664d6597483d771a309219",
       "version_major": 2,
       "version_minor": 0
      },
      "text/plain": [
       "shard.00392.mds:   0%|          | 0.00/67.1M [00:00<?, ?B/s]"
      ]
     },
     "metadata": {},
     "output_type": "display_data"
    },
    {
     "data": {
      "application/vnd.jupyter.widget-view+json": {
       "model_id": "a7b9edabc7264fff993bb22aa15a5580",
       "version_major": 2,
       "version_minor": 0
      },
      "text/plain": [
       "shard.00393.mds:   0%|          | 0.00/67.1M [00:00<?, ?B/s]"
      ]
     },
     "metadata": {},
     "output_type": "display_data"
    },
    {
     "data": {
      "application/vnd.jupyter.widget-view+json": {
       "model_id": "3720063e07874f478c02e8a56bef2457",
       "version_major": 2,
       "version_minor": 0
      },
      "text/plain": [
       "shard.00394.mds:   0%|          | 0.00/67.1M [00:00<?, ?B/s]"
      ]
     },
     "metadata": {},
     "output_type": "display_data"
    },
    {
     "data": {
      "application/vnd.jupyter.widget-view+json": {
       "model_id": "da6f9b81a0c54fcc9a80f5a6d25c6cb3",
       "version_major": 2,
       "version_minor": 0
      },
      "text/plain": [
       "shard.00395.mds:   0%|          | 0.00/67.1M [00:00<?, ?B/s]"
      ]
     },
     "metadata": {},
     "output_type": "display_data"
    },
    {
     "data": {
      "application/vnd.jupyter.widget-view+json": {
       "model_id": "40da5cd5014c4afa9478405bda8af389",
       "version_major": 2,
       "version_minor": 0
      },
      "text/plain": [
       "shard.00396.mds:   0%|          | 0.00/67.1M [00:00<?, ?B/s]"
      ]
     },
     "metadata": {},
     "output_type": "display_data"
    },
    {
     "data": {
      "application/vnd.jupyter.widget-view+json": {
       "model_id": "ddcc985dcde74d258c523ac59db31975",
       "version_major": 2,
       "version_minor": 0
      },
      "text/plain": [
       "shard.00397.mds:   0%|          | 0.00/67.1M [00:00<?, ?B/s]"
      ]
     },
     "metadata": {},
     "output_type": "display_data"
    },
    {
     "data": {
      "application/vnd.jupyter.widget-view+json": {
       "model_id": "691fb9646c1c484797b0d748682037b8",
       "version_major": 2,
       "version_minor": 0
      },
      "text/plain": [
       "shard.00398.mds:   0%|          | 0.00/67.1M [00:00<?, ?B/s]"
      ]
     },
     "metadata": {},
     "output_type": "display_data"
    },
    {
     "data": {
      "application/vnd.jupyter.widget-view+json": {
       "model_id": "52d3607ef1bd48d8bf9ced2cade6eec1",
       "version_major": 2,
       "version_minor": 0
      },
      "text/plain": [
       "shard.00399.mds:   0%|          | 0.00/67.1M [00:00<?, ?B/s]"
      ]
     },
     "metadata": {},
     "output_type": "display_data"
    },
    {
     "data": {
      "application/vnd.jupyter.widget-view+json": {
       "model_id": "24fa83625a20496e977b8111f3d054fb",
       "version_major": 2,
       "version_minor": 0
      },
      "text/plain": [
       "shard.00400.mds:   0%|          | 0.00/67.1M [00:00<?, ?B/s]"
      ]
     },
     "metadata": {},
     "output_type": "display_data"
    },
    {
     "data": {
      "application/vnd.jupyter.widget-view+json": {
       "model_id": "fd1f296bedab42b483f3ced2fe5a6d47",
       "version_major": 2,
       "version_minor": 0
      },
      "text/plain": [
       "shard.00401.mds:   0%|          | 0.00/67.1M [00:00<?, ?B/s]"
      ]
     },
     "metadata": {},
     "output_type": "display_data"
    },
    {
     "data": {
      "application/vnd.jupyter.widget-view+json": {
       "model_id": "441ce09a4e844715a12818677e349f7d",
       "version_major": 2,
       "version_minor": 0
      },
      "text/plain": [
       "shard.00402.mds:   0%|          | 0.00/67.1M [00:00<?, ?B/s]"
      ]
     },
     "metadata": {},
     "output_type": "display_data"
    },
    {
     "data": {
      "application/vnd.jupyter.widget-view+json": {
       "model_id": "60bdd259aa664e409f5cb3d89c86c829",
       "version_major": 2,
       "version_minor": 0
      },
      "text/plain": [
       "shard.00403.mds:   0%|          | 0.00/67.1M [00:00<?, ?B/s]"
      ]
     },
     "metadata": {},
     "output_type": "display_data"
    },
    {
     "data": {
      "application/vnd.jupyter.widget-view+json": {
       "model_id": "4d142976723944d39abf44fe3fd10782",
       "version_major": 2,
       "version_minor": 0
      },
      "text/plain": [
       "shard.00404.mds:   0%|          | 0.00/67.1M [00:00<?, ?B/s]"
      ]
     },
     "metadata": {},
     "output_type": "display_data"
    },
    {
     "data": {
      "application/vnd.jupyter.widget-view+json": {
       "model_id": "afbfd1ac64f94d639bf109781f4863e0",
       "version_major": 2,
       "version_minor": 0
      },
      "text/plain": [
       "shard.00405.mds:   0%|          | 0.00/67.1M [00:00<?, ?B/s]"
      ]
     },
     "metadata": {},
     "output_type": "display_data"
    },
    {
     "data": {
      "application/vnd.jupyter.widget-view+json": {
       "model_id": "c47ac7c4cd4045a68959e7bb5368ac6e",
       "version_major": 2,
       "version_minor": 0
      },
      "text/plain": [
       "shard.00406.mds:   0%|          | 0.00/67.1M [00:00<?, ?B/s]"
      ]
     },
     "metadata": {},
     "output_type": "display_data"
    },
    {
     "data": {
      "application/vnd.jupyter.widget-view+json": {
       "model_id": "1fa74fa6fc5d4fa0942d9bfbb8b4158e",
       "version_major": 2,
       "version_minor": 0
      },
      "text/plain": [
       "shard.00407.mds:   0%|          | 0.00/67.1M [00:00<?, ?B/s]"
      ]
     },
     "metadata": {},
     "output_type": "display_data"
    },
    {
     "data": {
      "application/vnd.jupyter.widget-view+json": {
       "model_id": "b726ae7568674ede8a3a68ec6206fa67",
       "version_major": 2,
       "version_minor": 0
      },
      "text/plain": [
       "shard.00408.mds:   0%|          | 0.00/67.1M [00:00<?, ?B/s]"
      ]
     },
     "metadata": {},
     "output_type": "display_data"
    },
    {
     "data": {
      "application/vnd.jupyter.widget-view+json": {
       "model_id": "1b97f5f7717a4226ae52a81a6166cc0c",
       "version_major": 2,
       "version_minor": 0
      },
      "text/plain": [
       "shard.00409.mds:   0%|          | 0.00/67.1M [00:00<?, ?B/s]"
      ]
     },
     "metadata": {},
     "output_type": "display_data"
    },
    {
     "data": {
      "application/vnd.jupyter.widget-view+json": {
       "model_id": "061064a531ff4db09b8c48c76eb307c0",
       "version_major": 2,
       "version_minor": 0
      },
      "text/plain": [
       "shard.00410.mds:   0%|          | 0.00/67.1M [00:00<?, ?B/s]"
      ]
     },
     "metadata": {},
     "output_type": "display_data"
    },
    {
     "data": {
      "application/vnd.jupyter.widget-view+json": {
       "model_id": "636851c2b5634cdc8b186344afd0a7ac",
       "version_major": 2,
       "version_minor": 0
      },
      "text/plain": [
       "shard.00411.mds:   0%|          | 0.00/67.1M [00:00<?, ?B/s]"
      ]
     },
     "metadata": {},
     "output_type": "display_data"
    },
    {
     "data": {
      "application/vnd.jupyter.widget-view+json": {
       "model_id": "e897dd02f9a643338348787c6503fe36",
       "version_major": 2,
       "version_minor": 0
      },
      "text/plain": [
       "shard.00412.mds:   0%|          | 0.00/67.1M [00:00<?, ?B/s]"
      ]
     },
     "metadata": {},
     "output_type": "display_data"
    },
    {
     "data": {
      "application/vnd.jupyter.widget-view+json": {
       "model_id": "48a6ca21405a4643b4560e37f0b4d2d3",
       "version_major": 2,
       "version_minor": 0
      },
      "text/plain": [
       "shard.00413.mds:   0%|          | 0.00/67.1M [00:00<?, ?B/s]"
      ]
     },
     "metadata": {},
     "output_type": "display_data"
    },
    {
     "data": {
      "application/vnd.jupyter.widget-view+json": {
       "model_id": "5fb005c2e85e4d8ca3acb53786be74b0",
       "version_major": 2,
       "version_minor": 0
      },
      "text/plain": [
       "shard.00414.mds:   0%|          | 0.00/67.1M [00:00<?, ?B/s]"
      ]
     },
     "metadata": {},
     "output_type": "display_data"
    },
    {
     "data": {
      "application/vnd.jupyter.widget-view+json": {
       "model_id": "a4d5a7cc97b84272b1f02d822351bf09",
       "version_major": 2,
       "version_minor": 0
      },
      "text/plain": [
       "shard.00415.mds:   0%|          | 0.00/67.1M [00:00<?, ?B/s]"
      ]
     },
     "metadata": {},
     "output_type": "display_data"
    },
    {
     "data": {
      "application/vnd.jupyter.widget-view+json": {
       "model_id": "66c5122404b846028ffc3c3d7d011230",
       "version_major": 2,
       "version_minor": 0
      },
      "text/plain": [
       "shard.00416.mds:   0%|          | 0.00/67.1M [00:00<?, ?B/s]"
      ]
     },
     "metadata": {},
     "output_type": "display_data"
    },
    {
     "data": {
      "application/vnd.jupyter.widget-view+json": {
       "model_id": "cc95a964172148e89700a301b606b442",
       "version_major": 2,
       "version_minor": 0
      },
      "text/plain": [
       "shard.00417.mds:   0%|          | 0.00/67.1M [00:00<?, ?B/s]"
      ]
     },
     "metadata": {},
     "output_type": "display_data"
    },
    {
     "data": {
      "application/vnd.jupyter.widget-view+json": {
       "model_id": "bcb3245ca14d4effb77c90a37f90aacf",
       "version_major": 2,
       "version_minor": 0
      },
      "text/plain": [
       "shard.00418.mds:   0%|          | 0.00/67.1M [00:00<?, ?B/s]"
      ]
     },
     "metadata": {},
     "output_type": "display_data"
    },
    {
     "data": {
      "application/vnd.jupyter.widget-view+json": {
       "model_id": "58220bfa665d435eaf56864938845c1a",
       "version_major": 2,
       "version_minor": 0
      },
      "text/plain": [
       "shard.00419.mds:   0%|          | 0.00/67.1M [00:00<?, ?B/s]"
      ]
     },
     "metadata": {},
     "output_type": "display_data"
    },
    {
     "data": {
      "application/vnd.jupyter.widget-view+json": {
       "model_id": "ff8904f208c94bd18e55610776b03cfc",
       "version_major": 2,
       "version_minor": 0
      },
      "text/plain": [
       "shard.00420.mds:   0%|          | 0.00/67.1M [00:00<?, ?B/s]"
      ]
     },
     "metadata": {},
     "output_type": "display_data"
    },
    {
     "data": {
      "application/vnd.jupyter.widget-view+json": {
       "model_id": "c2a64f2d06bf43a89d635385f862767d",
       "version_major": 2,
       "version_minor": 0
      },
      "text/plain": [
       "shard.00421.mds:   0%|          | 0.00/67.1M [00:00<?, ?B/s]"
      ]
     },
     "metadata": {},
     "output_type": "display_data"
    },
    {
     "data": {
      "application/vnd.jupyter.widget-view+json": {
       "model_id": "931a316bc2c7495aa0a01d134a2d3fde",
       "version_major": 2,
       "version_minor": 0
      },
      "text/plain": [
       "shard.00422.mds:   0%|          | 0.00/67.1M [00:00<?, ?B/s]"
      ]
     },
     "metadata": {},
     "output_type": "display_data"
    },
    {
     "data": {
      "application/vnd.jupyter.widget-view+json": {
       "model_id": "868c69ae6c254d2eb0d83c2d7cbdc466",
       "version_major": 2,
       "version_minor": 0
      },
      "text/plain": [
       "shard.00423.mds:   0%|          | 0.00/67.1M [00:00<?, ?B/s]"
      ]
     },
     "metadata": {},
     "output_type": "display_data"
    },
    {
     "data": {
      "application/vnd.jupyter.widget-view+json": {
       "model_id": "36ab9feb7e544edb9bc6385ce0201add",
       "version_major": 2,
       "version_minor": 0
      },
      "text/plain": [
       "shard.00424.mds:   0%|          | 0.00/67.1M [00:00<?, ?B/s]"
      ]
     },
     "metadata": {},
     "output_type": "display_data"
    },
    {
     "data": {
      "application/vnd.jupyter.widget-view+json": {
       "model_id": "d6d1d6dfccbc436eb4416dc880e23e3f",
       "version_major": 2,
       "version_minor": 0
      },
      "text/plain": [
       "shard.00425.mds:   0%|          | 0.00/67.1M [00:00<?, ?B/s]"
      ]
     },
     "metadata": {},
     "output_type": "display_data"
    },
    {
     "data": {
      "application/vnd.jupyter.widget-view+json": {
       "model_id": "4e7d25cfc56141c8b7cfead8160ee0af",
       "version_major": 2,
       "version_minor": 0
      },
      "text/plain": [
       "shard.00426.mds:   0%|          | 0.00/67.1M [00:00<?, ?B/s]"
      ]
     },
     "metadata": {},
     "output_type": "display_data"
    },
    {
     "data": {
      "application/vnd.jupyter.widget-view+json": {
       "model_id": "c7aa2f50267d4130ba1a9e995ca44ede",
       "version_major": 2,
       "version_minor": 0
      },
      "text/plain": [
       "shard.00427.mds:   0%|          | 0.00/67.1M [00:00<?, ?B/s]"
      ]
     },
     "metadata": {},
     "output_type": "display_data"
    },
    {
     "data": {
      "application/vnd.jupyter.widget-view+json": {
       "model_id": "e47e26cc40594a87b5a977d87a17e499",
       "version_major": 2,
       "version_minor": 0
      },
      "text/plain": [
       "shard.00428.mds:   0%|          | 0.00/67.1M [00:00<?, ?B/s]"
      ]
     },
     "metadata": {},
     "output_type": "display_data"
    },
    {
     "data": {
      "application/vnd.jupyter.widget-view+json": {
       "model_id": "ea67e7ecde71405fb5bf1965057c6956",
       "version_major": 2,
       "version_minor": 0
      },
      "text/plain": [
       "shard.00429.mds:   0%|          | 0.00/67.1M [00:00<?, ?B/s]"
      ]
     },
     "metadata": {},
     "output_type": "display_data"
    },
    {
     "data": {
      "application/vnd.jupyter.widget-view+json": {
       "model_id": "daa3e6ba91c84787889c6da3d37a3fda",
       "version_major": 2,
       "version_minor": 0
      },
      "text/plain": [
       "shard.00430.mds:   0%|          | 0.00/67.1M [00:00<?, ?B/s]"
      ]
     },
     "metadata": {},
     "output_type": "display_data"
    },
    {
     "data": {
      "application/vnd.jupyter.widget-view+json": {
       "model_id": "d9f18e91d1db4fda9fc13902a92821fe",
       "version_major": 2,
       "version_minor": 0
      },
      "text/plain": [
       "shard.00431.mds:   0%|          | 0.00/67.1M [00:00<?, ?B/s]"
      ]
     },
     "metadata": {},
     "output_type": "display_data"
    },
    {
     "data": {
      "application/vnd.jupyter.widget-view+json": {
       "model_id": "9217dafdd6fe4623a8eb82ed822d2e14",
       "version_major": 2,
       "version_minor": 0
      },
      "text/plain": [
       "shard.00432.mds:   0%|          | 0.00/67.1M [00:00<?, ?B/s]"
      ]
     },
     "metadata": {},
     "output_type": "display_data"
    },
    {
     "data": {
      "application/vnd.jupyter.widget-view+json": {
       "model_id": "64df62aa8a514773baaa04c645b64621",
       "version_major": 2,
       "version_minor": 0
      },
      "text/plain": [
       "shard.00433.mds:   0%|          | 0.00/67.1M [00:00<?, ?B/s]"
      ]
     },
     "metadata": {},
     "output_type": "display_data"
    },
    {
     "data": {
      "application/vnd.jupyter.widget-view+json": {
       "model_id": "c3d35215d1694eaeb74e59b5d0cfc4d2",
       "version_major": 2,
       "version_minor": 0
      },
      "text/plain": [
       "shard.00434.mds:   0%|          | 0.00/67.1M [00:00<?, ?B/s]"
      ]
     },
     "metadata": {},
     "output_type": "display_data"
    },
    {
     "data": {
      "application/vnd.jupyter.widget-view+json": {
       "model_id": "c92e32336e364cce86c15d6e4e475661",
       "version_major": 2,
       "version_minor": 0
      },
      "text/plain": [
       "shard.00435.mds:   0%|          | 0.00/67.1M [00:00<?, ?B/s]"
      ]
     },
     "metadata": {},
     "output_type": "display_data"
    },
    {
     "data": {
      "application/vnd.jupyter.widget-view+json": {
       "model_id": "9cf1977e40674e3987d966b4ad86bb4e",
       "version_major": 2,
       "version_minor": 0
      },
      "text/plain": [
       "shard.00436.mds:   0%|          | 0.00/67.1M [00:00<?, ?B/s]"
      ]
     },
     "metadata": {},
     "output_type": "display_data"
    },
    {
     "data": {
      "application/vnd.jupyter.widget-view+json": {
       "model_id": "00697d490e134de1834bd3c443119b3e",
       "version_major": 2,
       "version_minor": 0
      },
      "text/plain": [
       "shard.00437.mds:   0%|          | 0.00/67.1M [00:00<?, ?B/s]"
      ]
     },
     "metadata": {},
     "output_type": "display_data"
    },
    {
     "data": {
      "application/vnd.jupyter.widget-view+json": {
       "model_id": "d77bacf6730d4b658854261bbd660fd1",
       "version_major": 2,
       "version_minor": 0
      },
      "text/plain": [
       "shard.00438.mds:   0%|          | 0.00/67.1M [00:00<?, ?B/s]"
      ]
     },
     "metadata": {},
     "output_type": "display_data"
    },
    {
     "data": {
      "application/vnd.jupyter.widget-view+json": {
       "model_id": "7c136833ef7e482b897bac2f6308be29",
       "version_major": 2,
       "version_minor": 0
      },
      "text/plain": [
       "shard.00439.mds:   0%|          | 0.00/67.1M [00:00<?, ?B/s]"
      ]
     },
     "metadata": {},
     "output_type": "display_data"
    },
    {
     "data": {
      "application/vnd.jupyter.widget-view+json": {
       "model_id": "a394569b6013498aa209b42edb43be53",
       "version_major": 2,
       "version_minor": 0
      },
      "text/plain": [
       "shard.00440.mds:   0%|          | 0.00/67.1M [00:00<?, ?B/s]"
      ]
     },
     "metadata": {},
     "output_type": "display_data"
    },
    {
     "data": {
      "application/vnd.jupyter.widget-view+json": {
       "model_id": "4e2fdaf49da34d7a808901f1479970ba",
       "version_major": 2,
       "version_minor": 0
      },
      "text/plain": [
       "shard.00441.mds:   0%|          | 0.00/67.1M [00:00<?, ?B/s]"
      ]
     },
     "metadata": {},
     "output_type": "display_data"
    },
    {
     "data": {
      "application/vnd.jupyter.widget-view+json": {
       "model_id": "dc1058cb721e43be862cd3977c339631",
       "version_major": 2,
       "version_minor": 0
      },
      "text/plain": [
       "shard.00442.mds:   0%|          | 0.00/67.1M [00:00<?, ?B/s]"
      ]
     },
     "metadata": {},
     "output_type": "display_data"
    },
    {
     "data": {
      "application/vnd.jupyter.widget-view+json": {
       "model_id": "71c23caffead4b28b4bb2cfd2f471c9e",
       "version_major": 2,
       "version_minor": 0
      },
      "text/plain": [
       "shard.00443.mds:   0%|          | 0.00/67.1M [00:00<?, ?B/s]"
      ]
     },
     "metadata": {},
     "output_type": "display_data"
    },
    {
     "data": {
      "application/vnd.jupyter.widget-view+json": {
       "model_id": "9b7891cbd17e4da4a85ab9909e252f11",
       "version_major": 2,
       "version_minor": 0
      },
      "text/plain": [
       "shard.00444.mds:   0%|          | 0.00/67.1M [00:00<?, ?B/s]"
      ]
     },
     "metadata": {},
     "output_type": "display_data"
    },
    {
     "data": {
      "application/vnd.jupyter.widget-view+json": {
       "model_id": "d31cc693fcf741dcb5a99a43db040fee",
       "version_major": 2,
       "version_minor": 0
      },
      "text/plain": [
       "shard.00445.mds:   0%|          | 0.00/67.1M [00:00<?, ?B/s]"
      ]
     },
     "metadata": {},
     "output_type": "display_data"
    },
    {
     "data": {
      "application/vnd.jupyter.widget-view+json": {
       "model_id": "33e03163334d47e5b5b608fe399cdca2",
       "version_major": 2,
       "version_minor": 0
      },
      "text/plain": [
       "shard.00446.mds:   0%|          | 0.00/67.1M [00:00<?, ?B/s]"
      ]
     },
     "metadata": {},
     "output_type": "display_data"
    },
    {
     "data": {
      "application/vnd.jupyter.widget-view+json": {
       "model_id": "7542a9dd29e646afbbd39a2b5e8aff57",
       "version_major": 2,
       "version_minor": 0
      },
      "text/plain": [
       "shard.00447.mds:   0%|          | 0.00/67.1M [00:00<?, ?B/s]"
      ]
     },
     "metadata": {},
     "output_type": "display_data"
    },
    {
     "data": {
      "application/vnd.jupyter.widget-view+json": {
       "model_id": "f496ac21d0a448389c7fcc07f347ad00",
       "version_major": 2,
       "version_minor": 0
      },
      "text/plain": [
       "shard.00448.mds:   0%|          | 0.00/67.1M [00:00<?, ?B/s]"
      ]
     },
     "metadata": {},
     "output_type": "display_data"
    },
    {
     "data": {
      "application/vnd.jupyter.widget-view+json": {
       "model_id": "a943e668c8a64e35ba3ede761084f1c3",
       "version_major": 2,
       "version_minor": 0
      },
      "text/plain": [
       "shard.00449.mds:   0%|          | 0.00/67.1M [00:00<?, ?B/s]"
      ]
     },
     "metadata": {},
     "output_type": "display_data"
    },
    {
     "data": {
      "application/vnd.jupyter.widget-view+json": {
       "model_id": "1ef5a9a08c4349509d699350b0ce04c3",
       "version_major": 2,
       "version_minor": 0
      },
      "text/plain": [
       "shard.00450.mds:   0%|          | 0.00/67.1M [00:00<?, ?B/s]"
      ]
     },
     "metadata": {},
     "output_type": "display_data"
    },
    {
     "data": {
      "application/vnd.jupyter.widget-view+json": {
       "model_id": "57b1feba1f664ec3b3578472c9053009",
       "version_major": 2,
       "version_minor": 0
      },
      "text/plain": [
       "shard.00451.mds:   0%|          | 0.00/67.1M [00:00<?, ?B/s]"
      ]
     },
     "metadata": {},
     "output_type": "display_data"
    },
    {
     "data": {
      "application/vnd.jupyter.widget-view+json": {
       "model_id": "527ddbd55aca49d29fd1a5ce5d7cfb82",
       "version_major": 2,
       "version_minor": 0
      },
      "text/plain": [
       "shard.00452.mds:   0%|          | 0.00/67.1M [00:00<?, ?B/s]"
      ]
     },
     "metadata": {},
     "output_type": "display_data"
    },
    {
     "data": {
      "application/vnd.jupyter.widget-view+json": {
       "model_id": "2631b653ea4d4310abef423c65c0a83d",
       "version_major": 2,
       "version_minor": 0
      },
      "text/plain": [
       "shard.00453.mds:   0%|          | 0.00/67.1M [00:00<?, ?B/s]"
      ]
     },
     "metadata": {},
     "output_type": "display_data"
    },
    {
     "data": {
      "application/vnd.jupyter.widget-view+json": {
       "model_id": "0bd81a4ad8b84b83b0d62c9133425f52",
       "version_major": 2,
       "version_minor": 0
      },
      "text/plain": [
       "shard.00454.mds:   0%|          | 0.00/67.1M [00:00<?, ?B/s]"
      ]
     },
     "metadata": {},
     "output_type": "display_data"
    },
    {
     "data": {
      "application/vnd.jupyter.widget-view+json": {
       "model_id": "6c455d9fb90045049aec68d31a045d98",
       "version_major": 2,
       "version_minor": 0
      },
      "text/plain": [
       "shard.00455.mds:   0%|          | 0.00/67.1M [00:00<?, ?B/s]"
      ]
     },
     "metadata": {},
     "output_type": "display_data"
    },
    {
     "data": {
      "application/vnd.jupyter.widget-view+json": {
       "model_id": "7f1c054e615d4ca8a8062943f3aa3c46",
       "version_major": 2,
       "version_minor": 0
      },
      "text/plain": [
       "shard.00456.mds:   0%|          | 0.00/67.1M [00:00<?, ?B/s]"
      ]
     },
     "metadata": {},
     "output_type": "display_data"
    },
    {
     "data": {
      "application/vnd.jupyter.widget-view+json": {
       "model_id": "dc7142bdb1c54da999066c2303e887bd",
       "version_major": 2,
       "version_minor": 0
      },
      "text/plain": [
       "shard.00457.mds:   0%|          | 0.00/67.1M [00:00<?, ?B/s]"
      ]
     },
     "metadata": {},
     "output_type": "display_data"
    },
    {
     "data": {
      "application/vnd.jupyter.widget-view+json": {
       "model_id": "0659db381f9d4008ac2c380e0d1fe4c7",
       "version_major": 2,
       "version_minor": 0
      },
      "text/plain": [
       "shard.00458.mds:   0%|          | 0.00/67.1M [00:00<?, ?B/s]"
      ]
     },
     "metadata": {},
     "output_type": "display_data"
    },
    {
     "data": {
      "application/vnd.jupyter.widget-view+json": {
       "model_id": "13d5db86a89845f48e2e69a5f5dd83fd",
       "version_major": 2,
       "version_minor": 0
      },
      "text/plain": [
       "shard.00459.mds:   0%|          | 0.00/67.1M [00:00<?, ?B/s]"
      ]
     },
     "metadata": {},
     "output_type": "display_data"
    },
    {
     "data": {
      "application/vnd.jupyter.widget-view+json": {
       "model_id": "772a1cab148442a6988a7d9c3ac30dfd",
       "version_major": 2,
       "version_minor": 0
      },
      "text/plain": [
       "shard.00460.mds:   0%|          | 0.00/67.1M [00:00<?, ?B/s]"
      ]
     },
     "metadata": {},
     "output_type": "display_data"
    },
    {
     "data": {
      "application/vnd.jupyter.widget-view+json": {
       "model_id": "822821d9dbab4ff186e0d0479858f0f6",
       "version_major": 2,
       "version_minor": 0
      },
      "text/plain": [
       "shard.00461.mds:   0%|          | 0.00/67.1M [00:00<?, ?B/s]"
      ]
     },
     "metadata": {},
     "output_type": "display_data"
    },
    {
     "data": {
      "application/vnd.jupyter.widget-view+json": {
       "model_id": "3f5963efa5ce426fafc27a7cdb94c0ad",
       "version_major": 2,
       "version_minor": 0
      },
      "text/plain": [
       "shard.00462.mds:   0%|          | 0.00/67.1M [00:00<?, ?B/s]"
      ]
     },
     "metadata": {},
     "output_type": "display_data"
    },
    {
     "data": {
      "application/vnd.jupyter.widget-view+json": {
       "model_id": "abe78891fc8d4564ac0b8dbd06257a8a",
       "version_major": 2,
       "version_minor": 0
      },
      "text/plain": [
       "shard.00463.mds:   0%|          | 0.00/67.1M [00:00<?, ?B/s]"
      ]
     },
     "metadata": {},
     "output_type": "display_data"
    },
    {
     "data": {
      "application/vnd.jupyter.widget-view+json": {
       "model_id": "7c30f8fee2974564a946f59efb71c7f7",
       "version_major": 2,
       "version_minor": 0
      },
      "text/plain": [
       "shard.00464.mds:   0%|          | 0.00/67.1M [00:00<?, ?B/s]"
      ]
     },
     "metadata": {},
     "output_type": "display_data"
    },
    {
     "data": {
      "application/vnd.jupyter.widget-view+json": {
       "model_id": "0d024b988a73402080b6f3a3dca543e7",
       "version_major": 2,
       "version_minor": 0
      },
      "text/plain": [
       "shard.00465.mds:   0%|          | 0.00/67.1M [00:00<?, ?B/s]"
      ]
     },
     "metadata": {},
     "output_type": "display_data"
    },
    {
     "data": {
      "application/vnd.jupyter.widget-view+json": {
       "model_id": "a724c8dded0440c3bd462495617d622a",
       "version_major": 2,
       "version_minor": 0
      },
      "text/plain": [
       "shard.00466.mds:   0%|          | 0.00/67.1M [00:00<?, ?B/s]"
      ]
     },
     "metadata": {},
     "output_type": "display_data"
    },
    {
     "data": {
      "application/vnd.jupyter.widget-view+json": {
       "model_id": "044b9ee38cf34bad8f225295f87ecf66",
       "version_major": 2,
       "version_minor": 0
      },
      "text/plain": [
       "shard.00467.mds:   0%|          | 0.00/67.1M [00:00<?, ?B/s]"
      ]
     },
     "metadata": {},
     "output_type": "display_data"
    },
    {
     "data": {
      "application/vnd.jupyter.widget-view+json": {
       "model_id": "ae182847d6bb4c92a029ae374ab84f24",
       "version_major": 2,
       "version_minor": 0
      },
      "text/plain": [
       "shard.00468.mds:   0%|          | 0.00/67.1M [00:00<?, ?B/s]"
      ]
     },
     "metadata": {},
     "output_type": "display_data"
    },
    {
     "data": {
      "application/vnd.jupyter.widget-view+json": {
       "model_id": "d4e410bc2a8c4f239dc5fe6e43806e0a",
       "version_major": 2,
       "version_minor": 0
      },
      "text/plain": [
       "shard.00469.mds:   0%|          | 0.00/67.1M [00:00<?, ?B/s]"
      ]
     },
     "metadata": {},
     "output_type": "display_data"
    },
    {
     "data": {
      "application/vnd.jupyter.widget-view+json": {
       "model_id": "e2cdaed8890340edb2d91725508aee5f",
       "version_major": 2,
       "version_minor": 0
      },
      "text/plain": [
       "shard.00470.mds:   0%|          | 0.00/67.1M [00:00<?, ?B/s]"
      ]
     },
     "metadata": {},
     "output_type": "display_data"
    },
    {
     "data": {
      "application/vnd.jupyter.widget-view+json": {
       "model_id": "83f8581d67a64d3e9717adb51e52e690",
       "version_major": 2,
       "version_minor": 0
      },
      "text/plain": [
       "shard.00471.mds:   0%|          | 0.00/67.1M [00:00<?, ?B/s]"
      ]
     },
     "metadata": {},
     "output_type": "display_data"
    },
    {
     "data": {
      "application/vnd.jupyter.widget-view+json": {
       "model_id": "9ec740c893e041539100655fe7636fe9",
       "version_major": 2,
       "version_minor": 0
      },
      "text/plain": [
       "shard.00472.mds:   0%|          | 0.00/67.1M [00:00<?, ?B/s]"
      ]
     },
     "metadata": {},
     "output_type": "display_data"
    },
    {
     "data": {
      "application/vnd.jupyter.widget-view+json": {
       "model_id": "bc45a164d3ec46ac8bb3d9339b26bc33",
       "version_major": 2,
       "version_minor": 0
      },
      "text/plain": [
       "shard.00473.mds:   0%|          | 0.00/67.1M [00:00<?, ?B/s]"
      ]
     },
     "metadata": {},
     "output_type": "display_data"
    },
    {
     "data": {
      "application/vnd.jupyter.widget-view+json": {
       "model_id": "95bd1d20c2ed4278bdf6a07df8fcae71",
       "version_major": 2,
       "version_minor": 0
      },
      "text/plain": [
       "shard.00474.mds:   0%|          | 0.00/67.1M [00:00<?, ?B/s]"
      ]
     },
     "metadata": {},
     "output_type": "display_data"
    },
    {
     "data": {
      "application/vnd.jupyter.widget-view+json": {
       "model_id": "6a25c8434865435c9d9278319aa7890d",
       "version_major": 2,
       "version_minor": 0
      },
      "text/plain": [
       "shard.00475.mds:   0%|          | 0.00/67.1M [00:00<?, ?B/s]"
      ]
     },
     "metadata": {},
     "output_type": "display_data"
    },
    {
     "data": {
      "application/vnd.jupyter.widget-view+json": {
       "model_id": "1d5dee8eb5744e14bf1bffcef746ded2",
       "version_major": 2,
       "version_minor": 0
      },
      "text/plain": [
       "shard.00476.mds:   0%|          | 0.00/67.1M [00:00<?, ?B/s]"
      ]
     },
     "metadata": {},
     "output_type": "display_data"
    },
    {
     "data": {
      "application/vnd.jupyter.widget-view+json": {
       "model_id": "9611694a78f84a50b388918759d0caf5",
       "version_major": 2,
       "version_minor": 0
      },
      "text/plain": [
       "shard.00477.mds:   0%|          | 0.00/67.1M [00:00<?, ?B/s]"
      ]
     },
     "metadata": {},
     "output_type": "display_data"
    },
    {
     "data": {
      "application/vnd.jupyter.widget-view+json": {
       "model_id": "dd421c045bab4c03882493e35d8eb70e",
       "version_major": 2,
       "version_minor": 0
      },
      "text/plain": [
       "shard.00478.mds:   0%|          | 0.00/67.1M [00:00<?, ?B/s]"
      ]
     },
     "metadata": {},
     "output_type": "display_data"
    },
    {
     "data": {
      "application/vnd.jupyter.widget-view+json": {
       "model_id": "1201e87e39b94ccba1f8c8358c21bf08",
       "version_major": 2,
       "version_minor": 0
      },
      "text/plain": [
       "shard.00479.mds:   0%|          | 0.00/67.1M [00:00<?, ?B/s]"
      ]
     },
     "metadata": {},
     "output_type": "display_data"
    },
    {
     "data": {
      "application/vnd.jupyter.widget-view+json": {
       "model_id": "034d8c900fac4313b2dcc3a02708ad07",
       "version_major": 2,
       "version_minor": 0
      },
      "text/plain": [
       "shard.00480.mds:   0%|          | 0.00/67.1M [00:00<?, ?B/s]"
      ]
     },
     "metadata": {},
     "output_type": "display_data"
    },
    {
     "data": {
      "application/vnd.jupyter.widget-view+json": {
       "model_id": "6abded7883b845998af13aed56ea3b1d",
       "version_major": 2,
       "version_minor": 0
      },
      "text/plain": [
       "shard.00481.mds:   0%|          | 0.00/67.1M [00:00<?, ?B/s]"
      ]
     },
     "metadata": {},
     "output_type": "display_data"
    },
    {
     "data": {
      "application/vnd.jupyter.widget-view+json": {
       "model_id": "6dbdc2623fa1403aa03236264047c7b9",
       "version_major": 2,
       "version_minor": 0
      },
      "text/plain": [
       "shard.00482.mds:   0%|          | 0.00/67.1M [00:00<?, ?B/s]"
      ]
     },
     "metadata": {},
     "output_type": "display_data"
    },
    {
     "data": {
      "application/vnd.jupyter.widget-view+json": {
       "model_id": "9c9e6b4e053643ca897de832c4aea557",
       "version_major": 2,
       "version_minor": 0
      },
      "text/plain": [
       "shard.00483.mds:   0%|          | 0.00/67.1M [00:00<?, ?B/s]"
      ]
     },
     "metadata": {},
     "output_type": "display_data"
    },
    {
     "data": {
      "application/vnd.jupyter.widget-view+json": {
       "model_id": "9e31c0919c614318a855fee4c6a2f7a4",
       "version_major": 2,
       "version_minor": 0
      },
      "text/plain": [
       "shard.00484.mds:   0%|          | 0.00/67.1M [00:00<?, ?B/s]"
      ]
     },
     "metadata": {},
     "output_type": "display_data"
    },
    {
     "data": {
      "application/vnd.jupyter.widget-view+json": {
       "model_id": "27819f52b53c4bada1fcf2aeec1accfe",
       "version_major": 2,
       "version_minor": 0
      },
      "text/plain": [
       "shard.00485.mds:   0%|          | 0.00/67.1M [00:00<?, ?B/s]"
      ]
     },
     "metadata": {},
     "output_type": "display_data"
    },
    {
     "data": {
      "application/vnd.jupyter.widget-view+json": {
       "model_id": "10f6c9602ada4699ad71749bb9b89e71",
       "version_major": 2,
       "version_minor": 0
      },
      "text/plain": [
       "shard.00486.mds:   0%|          | 0.00/67.1M [00:00<?, ?B/s]"
      ]
     },
     "metadata": {},
     "output_type": "display_data"
    },
    {
     "data": {
      "application/vnd.jupyter.widget-view+json": {
       "model_id": "18d10b78bb6d4299ab7954c78c076669",
       "version_major": 2,
       "version_minor": 0
      },
      "text/plain": [
       "shard.00487.mds:   0%|          | 0.00/67.1M [00:00<?, ?B/s]"
      ]
     },
     "metadata": {},
     "output_type": "display_data"
    },
    {
     "data": {
      "application/vnd.jupyter.widget-view+json": {
       "model_id": "124f504eaae84522a6074360319c101f",
       "version_major": 2,
       "version_minor": 0
      },
      "text/plain": [
       "shard.00488.mds:   0%|          | 0.00/67.1M [00:00<?, ?B/s]"
      ]
     },
     "metadata": {},
     "output_type": "display_data"
    },
    {
     "data": {
      "application/vnd.jupyter.widget-view+json": {
       "model_id": "82e8be4bfcec44d4baf6f9221d6d7fe1",
       "version_major": 2,
       "version_minor": 0
      },
      "text/plain": [
       "shard.00489.mds:   0%|          | 0.00/67.1M [00:00<?, ?B/s]"
      ]
     },
     "metadata": {},
     "output_type": "display_data"
    },
    {
     "data": {
      "application/vnd.jupyter.widget-view+json": {
       "model_id": "6054f89fd74c4e18932556d98f9cc950",
       "version_major": 2,
       "version_minor": 0
      },
      "text/plain": [
       "shard.00490.mds:   0%|          | 0.00/67.1M [00:00<?, ?B/s]"
      ]
     },
     "metadata": {},
     "output_type": "display_data"
    },
    {
     "data": {
      "application/vnd.jupyter.widget-view+json": {
       "model_id": "05e6dfd41e03406d9d0c153dd7df853f",
       "version_major": 2,
       "version_minor": 0
      },
      "text/plain": [
       "shard.00491.mds:   0%|          | 0.00/67.1M [00:00<?, ?B/s]"
      ]
     },
     "metadata": {},
     "output_type": "display_data"
    },
    {
     "data": {
      "application/vnd.jupyter.widget-view+json": {
       "model_id": "0c93032d5a224b8bb03d6787858c3109",
       "version_major": 2,
       "version_minor": 0
      },
      "text/plain": [
       "shard.00492.mds:   0%|          | 0.00/67.1M [00:00<?, ?B/s]"
      ]
     },
     "metadata": {},
     "output_type": "display_data"
    },
    {
     "data": {
      "application/vnd.jupyter.widget-view+json": {
       "model_id": "5772807768e7408885de80a780e7bd5d",
       "version_major": 2,
       "version_minor": 0
      },
      "text/plain": [
       "shard.00493.mds:   0%|          | 0.00/67.1M [00:00<?, ?B/s]"
      ]
     },
     "metadata": {},
     "output_type": "display_data"
    },
    {
     "data": {
      "application/vnd.jupyter.widget-view+json": {
       "model_id": "583920ef1e0d4f4d84493f6c95c84b5b",
       "version_major": 2,
       "version_minor": 0
      },
      "text/plain": [
       "shard.00494.mds:   0%|          | 0.00/67.1M [00:00<?, ?B/s]"
      ]
     },
     "metadata": {},
     "output_type": "display_data"
    },
    {
     "data": {
      "application/vnd.jupyter.widget-view+json": {
       "model_id": "6014037479f44c3e8d2a755b88f7ddce",
       "version_major": 2,
       "version_minor": 0
      },
      "text/plain": [
       "shard.00495.mds:   0%|          | 0.00/67.1M [00:00<?, ?B/s]"
      ]
     },
     "metadata": {},
     "output_type": "display_data"
    },
    {
     "data": {
      "application/vnd.jupyter.widget-view+json": {
       "model_id": "c23d3ae29b7c4b989c068f24270cc2e3",
       "version_major": 2,
       "version_minor": 0
      },
      "text/plain": [
       "shard.00496.mds:   0%|          | 0.00/67.1M [00:00<?, ?B/s]"
      ]
     },
     "metadata": {},
     "output_type": "display_data"
    },
    {
     "data": {
      "application/vnd.jupyter.widget-view+json": {
       "model_id": "4edf40f4f0474f08b99dbdf03474a5c0",
       "version_major": 2,
       "version_minor": 0
      },
      "text/plain": [
       "shard.00497.mds:   0%|          | 0.00/67.1M [00:00<?, ?B/s]"
      ]
     },
     "metadata": {},
     "output_type": "display_data"
    },
    {
     "data": {
      "application/vnd.jupyter.widget-view+json": {
       "model_id": "f420f2b3cab645febb94590bcebb66ed",
       "version_major": 2,
       "version_minor": 0
      },
      "text/plain": [
       "shard.00498.mds:   0%|          | 0.00/67.1M [00:00<?, ?B/s]"
      ]
     },
     "metadata": {},
     "output_type": "display_data"
    },
    {
     "data": {
      "application/vnd.jupyter.widget-view+json": {
       "model_id": "af673e8f27014d9187a34c171c0e21f0",
       "version_major": 2,
       "version_minor": 0
      },
      "text/plain": [
       "shard.00499.mds:   0%|          | 0.00/67.1M [00:00<?, ?B/s]"
      ]
     },
     "metadata": {},
     "output_type": "display_data"
    },
    {
     "data": {
      "application/vnd.jupyter.widget-view+json": {
       "model_id": "d4e2bd9cb50f4c1bbbed5fdc90a99f0b",
       "version_major": 2,
       "version_minor": 0
      },
      "text/plain": [
       "shard.00500.mds:   0%|          | 0.00/67.1M [00:00<?, ?B/s]"
      ]
     },
     "metadata": {},
     "output_type": "display_data"
    },
    {
     "data": {
      "application/vnd.jupyter.widget-view+json": {
       "model_id": "2c7324f835264db9958c7a6aa63db4c6",
       "version_major": 2,
       "version_minor": 0
      },
      "text/plain": [
       "shard.00501.mds:   0%|          | 0.00/67.1M [00:00<?, ?B/s]"
      ]
     },
     "metadata": {},
     "output_type": "display_data"
    },
    {
     "data": {
      "application/vnd.jupyter.widget-view+json": {
       "model_id": "9b2396f2fed246e4b1659df0d344af90",
       "version_major": 2,
       "version_minor": 0
      },
      "text/plain": [
       "shard.00502.mds:   0%|          | 0.00/67.1M [00:00<?, ?B/s]"
      ]
     },
     "metadata": {},
     "output_type": "display_data"
    },
    {
     "data": {
      "application/vnd.jupyter.widget-view+json": {
       "model_id": "46af2ffbb78e43308ac9bcd7a9ddd20f",
       "version_major": 2,
       "version_minor": 0
      },
      "text/plain": [
       "shard.00503.mds:   0%|          | 0.00/67.1M [00:00<?, ?B/s]"
      ]
     },
     "metadata": {},
     "output_type": "display_data"
    },
    {
     "data": {
      "application/vnd.jupyter.widget-view+json": {
       "model_id": "bcc5e2d937f84f929e193e47f98d6364",
       "version_major": 2,
       "version_minor": 0
      },
      "text/plain": [
       "shard.00504.mds:   0%|          | 0.00/67.1M [00:00<?, ?B/s]"
      ]
     },
     "metadata": {},
     "output_type": "display_data"
    },
    {
     "data": {
      "application/vnd.jupyter.widget-view+json": {
       "model_id": "02b42b751d2d4bc59bf14ffa9e2a6423",
       "version_major": 2,
       "version_minor": 0
      },
      "text/plain": [
       "shard.00505.mds:   0%|          | 0.00/67.1M [00:00<?, ?B/s]"
      ]
     },
     "metadata": {},
     "output_type": "display_data"
    },
    {
     "data": {
      "application/vnd.jupyter.widget-view+json": {
       "model_id": "5094d121b5c24e1ab9f0afce6a0213ed",
       "version_major": 2,
       "version_minor": 0
      },
      "text/plain": [
       "shard.00506.mds:   0%|          | 0.00/67.1M [00:00<?, ?B/s]"
      ]
     },
     "metadata": {},
     "output_type": "display_data"
    },
    {
     "data": {
      "application/vnd.jupyter.widget-view+json": {
       "model_id": "4fe0de6659164bccb569600fbf7d25b7",
       "version_major": 2,
       "version_minor": 0
      },
      "text/plain": [
       "shard.00507.mds:   0%|          | 0.00/67.1M [00:00<?, ?B/s]"
      ]
     },
     "metadata": {},
     "output_type": "display_data"
    },
    {
     "data": {
      "application/vnd.jupyter.widget-view+json": {
       "model_id": "c740c67cd7004d86b7490f75a7bf0019",
       "version_major": 2,
       "version_minor": 0
      },
      "text/plain": [
       "shard.00508.mds:   0%|          | 0.00/67.1M [00:00<?, ?B/s]"
      ]
     },
     "metadata": {},
     "output_type": "display_data"
    },
    {
     "data": {
      "application/vnd.jupyter.widget-view+json": {
       "model_id": "4d530fe57c384f37a21b799f4681661e",
       "version_major": 2,
       "version_minor": 0
      },
      "text/plain": [
       "shard.00509.mds:   0%|          | 0.00/67.1M [00:00<?, ?B/s]"
      ]
     },
     "metadata": {},
     "output_type": "display_data"
    },
    {
     "data": {
      "application/vnd.jupyter.widget-view+json": {
       "model_id": "7f5909b0a1db4532a825a6065f1f4a6a",
       "version_major": 2,
       "version_minor": 0
      },
      "text/plain": [
       "shard.00510.mds:   0%|          | 0.00/67.1M [00:00<?, ?B/s]"
      ]
     },
     "metadata": {},
     "output_type": "display_data"
    },
    {
     "data": {
      "application/vnd.jupyter.widget-view+json": {
       "model_id": "fdea9fe075794f669661a9e9c002b735",
       "version_major": 2,
       "version_minor": 0
      },
      "text/plain": [
       "shard.00511.mds:   0%|          | 0.00/67.1M [00:00<?, ?B/s]"
      ]
     },
     "metadata": {},
     "output_type": "display_data"
    },
    {
     "data": {
      "application/vnd.jupyter.widget-view+json": {
       "model_id": "241745634c544cf98156273eff34085d",
       "version_major": 2,
       "version_minor": 0
      },
      "text/plain": [
       "shard.00512.mds:   0%|          | 0.00/67.1M [00:00<?, ?B/s]"
      ]
     },
     "metadata": {},
     "output_type": "display_data"
    },
    {
     "data": {
      "application/vnd.jupyter.widget-view+json": {
       "model_id": "6c5f424e9977467e872b87221cc9adf1",
       "version_major": 2,
       "version_minor": 0
      },
      "text/plain": [
       "shard.00513.mds:   0%|          | 0.00/67.1M [00:00<?, ?B/s]"
      ]
     },
     "metadata": {},
     "output_type": "display_data"
    },
    {
     "data": {
      "application/vnd.jupyter.widget-view+json": {
       "model_id": "4c923df92e0846c49d94dbf2965df07d",
       "version_major": 2,
       "version_minor": 0
      },
      "text/plain": [
       "shard.00514.mds:   0%|          | 0.00/67.1M [00:00<?, ?B/s]"
      ]
     },
     "metadata": {},
     "output_type": "display_data"
    },
    {
     "data": {
      "application/vnd.jupyter.widget-view+json": {
       "model_id": "6f5c350de8f141759e69b98103f37e75",
       "version_major": 2,
       "version_minor": 0
      },
      "text/plain": [
       "shard.00515.mds:   0%|          | 0.00/67.1M [00:00<?, ?B/s]"
      ]
     },
     "metadata": {},
     "output_type": "display_data"
    },
    {
     "data": {
      "application/vnd.jupyter.widget-view+json": {
       "model_id": "01fc8c36c14e4a32b9fcaf950a0fdfee",
       "version_major": 2,
       "version_minor": 0
      },
      "text/plain": [
       "shard.00516.mds:   0%|          | 0.00/67.1M [00:00<?, ?B/s]"
      ]
     },
     "metadata": {},
     "output_type": "display_data"
    },
    {
     "data": {
      "application/vnd.jupyter.widget-view+json": {
       "model_id": "704d68c1ba764d13979e20f106881e03",
       "version_major": 2,
       "version_minor": 0
      },
      "text/plain": [
       "shard.00517.mds:   0%|          | 0.00/67.1M [00:00<?, ?B/s]"
      ]
     },
     "metadata": {},
     "output_type": "display_data"
    },
    {
     "data": {
      "application/vnd.jupyter.widget-view+json": {
       "model_id": "1975b3f4bda644a4879b4fc3747a4a01",
       "version_major": 2,
       "version_minor": 0
      },
      "text/plain": [
       "shard.00518.mds:   0%|          | 0.00/67.1M [00:00<?, ?B/s]"
      ]
     },
     "metadata": {},
     "output_type": "display_data"
    },
    {
     "data": {
      "application/vnd.jupyter.widget-view+json": {
       "model_id": "3fe87f29745b48abb518868423d4aa27",
       "version_major": 2,
       "version_minor": 0
      },
      "text/plain": [
       "shard.00519.mds:   0%|          | 0.00/67.1M [00:00<?, ?B/s]"
      ]
     },
     "metadata": {},
     "output_type": "display_data"
    },
    {
     "data": {
      "application/vnd.jupyter.widget-view+json": {
       "model_id": "2e0358214b08497baa8f09661e8ad1d4",
       "version_major": 2,
       "version_minor": 0
      },
      "text/plain": [
       "shard.00520.mds:   0%|          | 0.00/67.1M [00:00<?, ?B/s]"
      ]
     },
     "metadata": {},
     "output_type": "display_data"
    },
    {
     "data": {
      "application/vnd.jupyter.widget-view+json": {
       "model_id": "c63ddbda403248ac897861e64116e73b",
       "version_major": 2,
       "version_minor": 0
      },
      "text/plain": [
       "shard.00521.mds:   0%|          | 0.00/67.1M [00:00<?, ?B/s]"
      ]
     },
     "metadata": {},
     "output_type": "display_data"
    },
    {
     "data": {
      "application/vnd.jupyter.widget-view+json": {
       "model_id": "66f0cc27e1ac4f369694086a55566e3b",
       "version_major": 2,
       "version_minor": 0
      },
      "text/plain": [
       "shard.00522.mds:   0%|          | 0.00/67.1M [00:00<?, ?B/s]"
      ]
     },
     "metadata": {},
     "output_type": "display_data"
    },
    {
     "data": {
      "application/vnd.jupyter.widget-view+json": {
       "model_id": "27dcfed6f68d4922817d90e92c8844f4",
       "version_major": 2,
       "version_minor": 0
      },
      "text/plain": [
       "shard.00523.mds:   0%|          | 0.00/67.1M [00:00<?, ?B/s]"
      ]
     },
     "metadata": {},
     "output_type": "display_data"
    },
    {
     "data": {
      "application/vnd.jupyter.widget-view+json": {
       "model_id": "856947c4f85c4fc497d24c34c8fcb816",
       "version_major": 2,
       "version_minor": 0
      },
      "text/plain": [
       "shard.00524.mds:   0%|          | 0.00/67.1M [00:00<?, ?B/s]"
      ]
     },
     "metadata": {},
     "output_type": "display_data"
    },
    {
     "data": {
      "application/vnd.jupyter.widget-view+json": {
       "model_id": "aaab2e60e40e474bbe96b164a05f953d",
       "version_major": 2,
       "version_minor": 0
      },
      "text/plain": [
       "shard.00525.mds:   0%|          | 0.00/67.1M [00:00<?, ?B/s]"
      ]
     },
     "metadata": {},
     "output_type": "display_data"
    },
    {
     "data": {
      "application/vnd.jupyter.widget-view+json": {
       "model_id": "b2b7294a0fc54b9490fa770c7d29bf3b",
       "version_major": 2,
       "version_minor": 0
      },
      "text/plain": [
       "shard.00526.mds:   0%|          | 0.00/67.1M [00:00<?, ?B/s]"
      ]
     },
     "metadata": {},
     "output_type": "display_data"
    },
    {
     "data": {
      "application/vnd.jupyter.widget-view+json": {
       "model_id": "d6a295d04bed4856b3d240ec6ec23756",
       "version_major": 2,
       "version_minor": 0
      },
      "text/plain": [
       "shard.00527.mds:   0%|          | 0.00/67.1M [00:00<?, ?B/s]"
      ]
     },
     "metadata": {},
     "output_type": "display_data"
    },
    {
     "data": {
      "application/vnd.jupyter.widget-view+json": {
       "model_id": "843d55635dbb470d9375046626e1195b",
       "version_major": 2,
       "version_minor": 0
      },
      "text/plain": [
       "shard.00528.mds:   0%|          | 0.00/67.1M [00:00<?, ?B/s]"
      ]
     },
     "metadata": {},
     "output_type": "display_data"
    },
    {
     "data": {
      "application/vnd.jupyter.widget-view+json": {
       "model_id": "90765cad9db84dda8aa9330eaeae370c",
       "version_major": 2,
       "version_minor": 0
      },
      "text/plain": [
       "shard.00529.mds:   0%|          | 0.00/67.1M [00:00<?, ?B/s]"
      ]
     },
     "metadata": {},
     "output_type": "display_data"
    },
    {
     "data": {
      "application/vnd.jupyter.widget-view+json": {
       "model_id": "03e1b6c44e0f4cb2bf07b9a98f7f9253",
       "version_major": 2,
       "version_minor": 0
      },
      "text/plain": [
       "shard.00530.mds:   0%|          | 0.00/67.1M [00:00<?, ?B/s]"
      ]
     },
     "metadata": {},
     "output_type": "display_data"
    },
    {
     "data": {
      "application/vnd.jupyter.widget-view+json": {
       "model_id": "6483a564119c416aa8bc3c528b6ffd17",
       "version_major": 2,
       "version_minor": 0
      },
      "text/plain": [
       "shard.00531.mds:   0%|          | 0.00/67.1M [00:00<?, ?B/s]"
      ]
     },
     "metadata": {},
     "output_type": "display_data"
    },
    {
     "data": {
      "application/vnd.jupyter.widget-view+json": {
       "model_id": "c539826c0b014a4f80229fcd91723bac",
       "version_major": 2,
       "version_minor": 0
      },
      "text/plain": [
       "shard.00532.mds:   0%|          | 0.00/67.1M [00:00<?, ?B/s]"
      ]
     },
     "metadata": {},
     "output_type": "display_data"
    },
    {
     "data": {
      "application/vnd.jupyter.widget-view+json": {
       "model_id": "46ac31f9eb0b46219399b666ac8f93ec",
       "version_major": 2,
       "version_minor": 0
      },
      "text/plain": [
       "shard.00533.mds:   0%|          | 0.00/67.1M [00:00<?, ?B/s]"
      ]
     },
     "metadata": {},
     "output_type": "display_data"
    },
    {
     "data": {
      "application/vnd.jupyter.widget-view+json": {
       "model_id": "d6ccc3f7d1c34881bff022ef1c6e4c29",
       "version_major": 2,
       "version_minor": 0
      },
      "text/plain": [
       "shard.00534.mds:   0%|          | 0.00/67.1M [00:00<?, ?B/s]"
      ]
     },
     "metadata": {},
     "output_type": "display_data"
    },
    {
     "data": {
      "application/vnd.jupyter.widget-view+json": {
       "model_id": "2273c8c12ada492da1a0f6ec238463ef",
       "version_major": 2,
       "version_minor": 0
      },
      "text/plain": [
       "shard.00535.mds:   0%|          | 0.00/67.1M [00:00<?, ?B/s]"
      ]
     },
     "metadata": {},
     "output_type": "display_data"
    },
    {
     "data": {
      "application/vnd.jupyter.widget-view+json": {
       "model_id": "aa30feb893cd4f5b876db43508b027f4",
       "version_major": 2,
       "version_minor": 0
      },
      "text/plain": [
       "shard.00536.mds:   0%|          | 0.00/67.1M [00:00<?, ?B/s]"
      ]
     },
     "metadata": {},
     "output_type": "display_data"
    },
    {
     "data": {
      "application/vnd.jupyter.widget-view+json": {
       "model_id": "48c5e3ec6e404aef8666e83e9a32c9a3",
       "version_major": 2,
       "version_minor": 0
      },
      "text/plain": [
       "shard.00537.mds:   0%|          | 0.00/67.1M [00:00<?, ?B/s]"
      ]
     },
     "metadata": {},
     "output_type": "display_data"
    },
    {
     "data": {
      "application/vnd.jupyter.widget-view+json": {
       "model_id": "be2c19e023eb484080ecf6f9276588a0",
       "version_major": 2,
       "version_minor": 0
      },
      "text/plain": [
       "shard.00538.mds:   0%|          | 0.00/67.1M [00:00<?, ?B/s]"
      ]
     },
     "metadata": {},
     "output_type": "display_data"
    },
    {
     "data": {
      "application/vnd.jupyter.widget-view+json": {
       "model_id": "2ca4dd4137594e8398d2c3ff7cef87f5",
       "version_major": 2,
       "version_minor": 0
      },
      "text/plain": [
       "shard.00539.mds:   0%|          | 0.00/67.1M [00:00<?, ?B/s]"
      ]
     },
     "metadata": {},
     "output_type": "display_data"
    },
    {
     "data": {
      "application/vnd.jupyter.widget-view+json": {
       "model_id": "5704732565eb46f9bc3f1dc915d3259d",
       "version_major": 2,
       "version_minor": 0
      },
      "text/plain": [
       "shard.00540.mds:   0%|          | 0.00/67.1M [00:00<?, ?B/s]"
      ]
     },
     "metadata": {},
     "output_type": "display_data"
    },
    {
     "data": {
      "application/vnd.jupyter.widget-view+json": {
       "model_id": "18bfdf55da5b4c6ea920669843f01caa",
       "version_major": 2,
       "version_minor": 0
      },
      "text/plain": [
       "shard.00541.mds:   0%|          | 0.00/67.1M [00:00<?, ?B/s]"
      ]
     },
     "metadata": {},
     "output_type": "display_data"
    },
    {
     "data": {
      "application/vnd.jupyter.widget-view+json": {
       "model_id": "f2689e2a52c647c0afc039841691ca96",
       "version_major": 2,
       "version_minor": 0
      },
      "text/plain": [
       "shard.00542.mds:   0%|          | 0.00/67.1M [00:00<?, ?B/s]"
      ]
     },
     "metadata": {},
     "output_type": "display_data"
    },
    {
     "data": {
      "application/vnd.jupyter.widget-view+json": {
       "model_id": "547e5ace307749a3b82e94fcb65c091b",
       "version_major": 2,
       "version_minor": 0
      },
      "text/plain": [
       "shard.00543.mds:   0%|          | 0.00/67.1M [00:00<?, ?B/s]"
      ]
     },
     "metadata": {},
     "output_type": "display_data"
    },
    {
     "data": {
      "application/vnd.jupyter.widget-view+json": {
       "model_id": "5267e7b027d34d919e5f1e0c60795af1",
       "version_major": 2,
       "version_minor": 0
      },
      "text/plain": [
       "shard.00544.mds:   0%|          | 0.00/67.1M [00:00<?, ?B/s]"
      ]
     },
     "metadata": {},
     "output_type": "display_data"
    },
    {
     "data": {
      "application/vnd.jupyter.widget-view+json": {
       "model_id": "91f7f94fba3446f388a1074620979678",
       "version_major": 2,
       "version_minor": 0
      },
      "text/plain": [
       "shard.00545.mds:   0%|          | 0.00/67.1M [00:00<?, ?B/s]"
      ]
     },
     "metadata": {},
     "output_type": "display_data"
    },
    {
     "data": {
      "application/vnd.jupyter.widget-view+json": {
       "model_id": "e5b64d9ce2684ec083285e24ef470842",
       "version_major": 2,
       "version_minor": 0
      },
      "text/plain": [
       "shard.00546.mds:   0%|          | 0.00/67.1M [00:00<?, ?B/s]"
      ]
     },
     "metadata": {},
     "output_type": "display_data"
    },
    {
     "data": {
      "application/vnd.jupyter.widget-view+json": {
       "model_id": "5f4ababe55c04710864a6a1bf7a45af6",
       "version_major": 2,
       "version_minor": 0
      },
      "text/plain": [
       "shard.00547.mds:   0%|          | 0.00/67.1M [00:00<?, ?B/s]"
      ]
     },
     "metadata": {},
     "output_type": "display_data"
    },
    {
     "data": {
      "application/vnd.jupyter.widget-view+json": {
       "model_id": "9043b49fd90441e1921a6efea7362045",
       "version_major": 2,
       "version_minor": 0
      },
      "text/plain": [
       "shard.00548.mds:   0%|          | 0.00/67.1M [00:00<?, ?B/s]"
      ]
     },
     "metadata": {},
     "output_type": "display_data"
    },
    {
     "data": {
      "application/vnd.jupyter.widget-view+json": {
       "model_id": "01438d9d84da4b80a0fc09ad00927d1f",
       "version_major": 2,
       "version_minor": 0
      },
      "text/plain": [
       "shard.00549.mds:   0%|          | 0.00/67.1M [00:00<?, ?B/s]"
      ]
     },
     "metadata": {},
     "output_type": "display_data"
    },
    {
     "data": {
      "application/vnd.jupyter.widget-view+json": {
       "model_id": "ae03a54f6276451486414f0ee805fc92",
       "version_major": 2,
       "version_minor": 0
      },
      "text/plain": [
       "shard.00550.mds:   0%|          | 0.00/67.1M [00:00<?, ?B/s]"
      ]
     },
     "metadata": {},
     "output_type": "display_data"
    },
    {
     "data": {
      "application/vnd.jupyter.widget-view+json": {
       "model_id": "d7f25d32a57248599e18427680935f1d",
       "version_major": 2,
       "version_minor": 0
      },
      "text/plain": [
       "shard.00551.mds:   0%|          | 0.00/67.1M [00:00<?, ?B/s]"
      ]
     },
     "metadata": {},
     "output_type": "display_data"
    },
    {
     "data": {
      "application/vnd.jupyter.widget-view+json": {
       "model_id": "2f35ce33b7b34474984abf180f40566e",
       "version_major": 2,
       "version_minor": 0
      },
      "text/plain": [
       "shard.00552.mds:   0%|          | 0.00/67.1M [00:00<?, ?B/s]"
      ]
     },
     "metadata": {},
     "output_type": "display_data"
    },
    {
     "data": {
      "application/vnd.jupyter.widget-view+json": {
       "model_id": "dbcb47ec7005492883781e2eadc3f647",
       "version_major": 2,
       "version_minor": 0
      },
      "text/plain": [
       "shard.00553.mds:   0%|          | 0.00/67.1M [00:00<?, ?B/s]"
      ]
     },
     "metadata": {},
     "output_type": "display_data"
    },
    {
     "data": {
      "application/vnd.jupyter.widget-view+json": {
       "model_id": "91ca69b3133f4965b0384a065208b202",
       "version_major": 2,
       "version_minor": 0
      },
      "text/plain": [
       "shard.00554.mds:   0%|          | 0.00/67.1M [00:00<?, ?B/s]"
      ]
     },
     "metadata": {},
     "output_type": "display_data"
    },
    {
     "data": {
      "application/vnd.jupyter.widget-view+json": {
       "model_id": "658a8b14015d4d4196d7d6bfa69ec0e3",
       "version_major": 2,
       "version_minor": 0
      },
      "text/plain": [
       "shard.00555.mds:   0%|          | 0.00/67.1M [00:00<?, ?B/s]"
      ]
     },
     "metadata": {},
     "output_type": "display_data"
    },
    {
     "data": {
      "application/vnd.jupyter.widget-view+json": {
       "model_id": "286036e948d548baae6340a8066e7fb9",
       "version_major": 2,
       "version_minor": 0
      },
      "text/plain": [
       "shard.00556.mds:   0%|          | 0.00/67.1M [00:00<?, ?B/s]"
      ]
     },
     "metadata": {},
     "output_type": "display_data"
    },
    {
     "data": {
      "application/vnd.jupyter.widget-view+json": {
       "model_id": "a45edec80e4849ffbf81a77311b21450",
       "version_major": 2,
       "version_minor": 0
      },
      "text/plain": [
       "shard.00557.mds:   0%|          | 0.00/67.1M [00:00<?, ?B/s]"
      ]
     },
     "metadata": {},
     "output_type": "display_data"
    },
    {
     "data": {
      "application/vnd.jupyter.widget-view+json": {
       "model_id": "f3a81a6754f64281889055303154d1fe",
       "version_major": 2,
       "version_minor": 0
      },
      "text/plain": [
       "shard.00558.mds:   0%|          | 0.00/67.1M [00:00<?, ?B/s]"
      ]
     },
     "metadata": {},
     "output_type": "display_data"
    },
    {
     "data": {
      "application/vnd.jupyter.widget-view+json": {
       "model_id": "6dc2db3313f8458fb64bc3b220d32512",
       "version_major": 2,
       "version_minor": 0
      },
      "text/plain": [
       "shard.00559.mds:   0%|          | 0.00/67.1M [00:00<?, ?B/s]"
      ]
     },
     "metadata": {},
     "output_type": "display_data"
    },
    {
     "data": {
      "application/vnd.jupyter.widget-view+json": {
       "model_id": "58195ce8bc1044c6b86b852959683fca",
       "version_major": 2,
       "version_minor": 0
      },
      "text/plain": [
       "shard.00560.mds:   0%|          | 0.00/67.1M [00:00<?, ?B/s]"
      ]
     },
     "metadata": {},
     "output_type": "display_data"
    },
    {
     "data": {
      "application/vnd.jupyter.widget-view+json": {
       "model_id": "46017a10b0564d629e94b835764b19e8",
       "version_major": 2,
       "version_minor": 0
      },
      "text/plain": [
       "shard.00561.mds:   0%|          | 0.00/67.1M [00:00<?, ?B/s]"
      ]
     },
     "metadata": {},
     "output_type": "display_data"
    },
    {
     "data": {
      "application/vnd.jupyter.widget-view+json": {
       "model_id": "981e495c84124785a5708b2a09b05b29",
       "version_major": 2,
       "version_minor": 0
      },
      "text/plain": [
       "shard.00562.mds:   0%|          | 0.00/67.1M [00:00<?, ?B/s]"
      ]
     },
     "metadata": {},
     "output_type": "display_data"
    },
    {
     "data": {
      "application/vnd.jupyter.widget-view+json": {
       "model_id": "bc288083450e40f596a24564b1d01ed0",
       "version_major": 2,
       "version_minor": 0
      },
      "text/plain": [
       "shard.00563.mds:   0%|          | 0.00/67.1M [00:00<?, ?B/s]"
      ]
     },
     "metadata": {},
     "output_type": "display_data"
    },
    {
     "data": {
      "application/vnd.jupyter.widget-view+json": {
       "model_id": "45855f521cff4422a3e6a9a7dff8eea0",
       "version_major": 2,
       "version_minor": 0
      },
      "text/plain": [
       "shard.00564.mds:   0%|          | 0.00/67.1M [00:00<?, ?B/s]"
      ]
     },
     "metadata": {},
     "output_type": "display_data"
    },
    {
     "data": {
      "application/vnd.jupyter.widget-view+json": {
       "model_id": "3153206dcb2549449babccc7f322e1e9",
       "version_major": 2,
       "version_minor": 0
      },
      "text/plain": [
       "shard.00565.mds:   0%|          | 0.00/67.1M [00:00<?, ?B/s]"
      ]
     },
     "metadata": {},
     "output_type": "display_data"
    },
    {
     "data": {
      "application/vnd.jupyter.widget-view+json": {
       "model_id": "9c1f59485a1f459790a5905634797d0b",
       "version_major": 2,
       "version_minor": 0
      },
      "text/plain": [
       "shard.00566.mds:   0%|          | 0.00/67.1M [00:00<?, ?B/s]"
      ]
     },
     "metadata": {},
     "output_type": "display_data"
    },
    {
     "data": {
      "application/vnd.jupyter.widget-view+json": {
       "model_id": "1def10fd22094e0e87e5c1c20df080b7",
       "version_major": 2,
       "version_minor": 0
      },
      "text/plain": [
       "shard.00567.mds:   0%|          | 0.00/67.1M [00:00<?, ?B/s]"
      ]
     },
     "metadata": {},
     "output_type": "display_data"
    },
    {
     "data": {
      "application/vnd.jupyter.widget-view+json": {
       "model_id": "874f4f4f8bef463b9333b69fa7219761",
       "version_major": 2,
       "version_minor": 0
      },
      "text/plain": [
       "shard.00568.mds:   0%|          | 0.00/67.1M [00:00<?, ?B/s]"
      ]
     },
     "metadata": {},
     "output_type": "display_data"
    },
    {
     "data": {
      "application/vnd.jupyter.widget-view+json": {
       "model_id": "03703146e4ba4fbaac525048c1dad823",
       "version_major": 2,
       "version_minor": 0
      },
      "text/plain": [
       "shard.00569.mds:   0%|          | 0.00/67.1M [00:00<?, ?B/s]"
      ]
     },
     "metadata": {},
     "output_type": "display_data"
    },
    {
     "data": {
      "application/vnd.jupyter.widget-view+json": {
       "model_id": "46a2962509f44e09b9b366d9c3baa9d9",
       "version_major": 2,
       "version_minor": 0
      },
      "text/plain": [
       "shard.00570.mds:   0%|          | 0.00/67.1M [00:00<?, ?B/s]"
      ]
     },
     "metadata": {},
     "output_type": "display_data"
    },
    {
     "data": {
      "application/vnd.jupyter.widget-view+json": {
       "model_id": "10f401a6df9948669ab6d3e50530b24c",
       "version_major": 2,
       "version_minor": 0
      },
      "text/plain": [
       "shard.00571.mds:   0%|          | 0.00/67.1M [00:00<?, ?B/s]"
      ]
     },
     "metadata": {},
     "output_type": "display_data"
    },
    {
     "data": {
      "application/vnd.jupyter.widget-view+json": {
       "model_id": "635e330ff2be41899a9947cf57324276",
       "version_major": 2,
       "version_minor": 0
      },
      "text/plain": [
       "shard.00572.mds:   0%|          | 0.00/67.1M [00:00<?, ?B/s]"
      ]
     },
     "metadata": {},
     "output_type": "display_data"
    },
    {
     "data": {
      "application/vnd.jupyter.widget-view+json": {
       "model_id": "d7bb64e5096c4be1aa3f1521928b6111",
       "version_major": 2,
       "version_minor": 0
      },
      "text/plain": [
       "shard.00573.mds:   0%|          | 0.00/67.1M [00:00<?, ?B/s]"
      ]
     },
     "metadata": {},
     "output_type": "display_data"
    },
    {
     "data": {
      "application/vnd.jupyter.widget-view+json": {
       "model_id": "44d930469b9c4747b85c52fd7c75fbc7",
       "version_major": 2,
       "version_minor": 0
      },
      "text/plain": [
       "shard.00574.mds:   0%|          | 0.00/67.1M [00:00<?, ?B/s]"
      ]
     },
     "metadata": {},
     "output_type": "display_data"
    },
    {
     "data": {
      "application/vnd.jupyter.widget-view+json": {
       "model_id": "e7e040cc9af1473ea84cfa8611ad336f",
       "version_major": 2,
       "version_minor": 0
      },
      "text/plain": [
       "shard.00575.mds:   0%|          | 0.00/67.1M [00:00<?, ?B/s]"
      ]
     },
     "metadata": {},
     "output_type": "display_data"
    },
    {
     "data": {
      "application/vnd.jupyter.widget-view+json": {
       "model_id": "c172d3377c2e4082b32f7087419599f7",
       "version_major": 2,
       "version_minor": 0
      },
      "text/plain": [
       "shard.00576.mds:   0%|          | 0.00/67.1M [00:00<?, ?B/s]"
      ]
     },
     "metadata": {},
     "output_type": "display_data"
    },
    {
     "data": {
      "application/vnd.jupyter.widget-view+json": {
       "model_id": "ac280a018f32481c82eb66ebb5e32962",
       "version_major": 2,
       "version_minor": 0
      },
      "text/plain": [
       "shard.00577.mds:   0%|          | 0.00/67.1M [00:00<?, ?B/s]"
      ]
     },
     "metadata": {},
     "output_type": "display_data"
    },
    {
     "data": {
      "application/vnd.jupyter.widget-view+json": {
       "model_id": "047c61d8e7b24a9cbb9542d3521c28dc",
       "version_major": 2,
       "version_minor": 0
      },
      "text/plain": [
       "shard.00578.mds:   0%|          | 0.00/67.1M [00:00<?, ?B/s]"
      ]
     },
     "metadata": {},
     "output_type": "display_data"
    },
    {
     "data": {
      "application/vnd.jupyter.widget-view+json": {
       "model_id": "a9d41e89f92045378d66f22e44ea7301",
       "version_major": 2,
       "version_minor": 0
      },
      "text/plain": [
       "shard.00579.mds:   0%|          | 0.00/67.1M [00:00<?, ?B/s]"
      ]
     },
     "metadata": {},
     "output_type": "display_data"
    },
    {
     "data": {
      "application/vnd.jupyter.widget-view+json": {
       "model_id": "045e942eea4b4dc89eb6934a018f873a",
       "version_major": 2,
       "version_minor": 0
      },
      "text/plain": [
       "shard.00580.mds:   0%|          | 0.00/67.1M [00:00<?, ?B/s]"
      ]
     },
     "metadata": {},
     "output_type": "display_data"
    },
    {
     "data": {
      "application/vnd.jupyter.widget-view+json": {
       "model_id": "beb81484cf2a4c928e31a2d3eeb30c54",
       "version_major": 2,
       "version_minor": 0
      },
      "text/plain": [
       "shard.00581.mds:   0%|          | 0.00/67.1M [00:00<?, ?B/s]"
      ]
     },
     "metadata": {},
     "output_type": "display_data"
    },
    {
     "data": {
      "application/vnd.jupyter.widget-view+json": {
       "model_id": "092eddb5f7bb437fa37eb5b9cb81caed",
       "version_major": 2,
       "version_minor": 0
      },
      "text/plain": [
       "shard.00582.mds:   0%|          | 0.00/67.1M [00:00<?, ?B/s]"
      ]
     },
     "metadata": {},
     "output_type": "display_data"
    },
    {
     "data": {
      "application/vnd.jupyter.widget-view+json": {
       "model_id": "b1d5172b152548fa83e5f14bf6055561",
       "version_major": 2,
       "version_minor": 0
      },
      "text/plain": [
       "shard.00583.mds:   0%|          | 0.00/67.1M [00:00<?, ?B/s]"
      ]
     },
     "metadata": {},
     "output_type": "display_data"
    },
    {
     "data": {
      "application/vnd.jupyter.widget-view+json": {
       "model_id": "3d11940701114bd5b32f514c0f1bad68",
       "version_major": 2,
       "version_minor": 0
      },
      "text/plain": [
       "shard.00584.mds:   0%|          | 0.00/67.1M [00:00<?, ?B/s]"
      ]
     },
     "metadata": {},
     "output_type": "display_data"
    },
    {
     "data": {
      "application/vnd.jupyter.widget-view+json": {
       "model_id": "d5b5616eded94a4c8587f96f4fcee547",
       "version_major": 2,
       "version_minor": 0
      },
      "text/plain": [
       "shard.00585.mds:   0%|          | 0.00/67.1M [00:00<?, ?B/s]"
      ]
     },
     "metadata": {},
     "output_type": "display_data"
    },
    {
     "data": {
      "application/vnd.jupyter.widget-view+json": {
       "model_id": "b4bbe17a675a4c43ae91a2bfcd7c1de0",
       "version_major": 2,
       "version_minor": 0
      },
      "text/plain": [
       "shard.00586.mds:   0%|          | 0.00/67.1M [00:00<?, ?B/s]"
      ]
     },
     "metadata": {},
     "output_type": "display_data"
    },
    {
     "data": {
      "application/vnd.jupyter.widget-view+json": {
       "model_id": "383375632a954a6fa74b756c334fa017",
       "version_major": 2,
       "version_minor": 0
      },
      "text/plain": [
       "shard.00587.mds:   0%|          | 0.00/67.1M [00:00<?, ?B/s]"
      ]
     },
     "metadata": {},
     "output_type": "display_data"
    },
    {
     "data": {
      "application/vnd.jupyter.widget-view+json": {
       "model_id": "f315f4e1958b48b8a8f4dc644ec8aff1",
       "version_major": 2,
       "version_minor": 0
      },
      "text/plain": [
       "shard.00588.mds:   0%|          | 0.00/67.1M [00:00<?, ?B/s]"
      ]
     },
     "metadata": {},
     "output_type": "display_data"
    },
    {
     "data": {
      "application/vnd.jupyter.widget-view+json": {
       "model_id": "d096050b6783466a982dd12c12cfdc4c",
       "version_major": 2,
       "version_minor": 0
      },
      "text/plain": [
       "shard.00589.mds:   0%|          | 0.00/67.1M [00:00<?, ?B/s]"
      ]
     },
     "metadata": {},
     "output_type": "display_data"
    },
    {
     "data": {
      "application/vnd.jupyter.widget-view+json": {
       "model_id": "15831b3239204841b4c362ba37504f1d",
       "version_major": 2,
       "version_minor": 0
      },
      "text/plain": [
       "shard.00590.mds:   0%|          | 0.00/67.1M [00:00<?, ?B/s]"
      ]
     },
     "metadata": {},
     "output_type": "display_data"
    },
    {
     "data": {
      "application/vnd.jupyter.widget-view+json": {
       "model_id": "acc18b34438040a08255ac95b2a437eb",
       "version_major": 2,
       "version_minor": 0
      },
      "text/plain": [
       "shard.00591.mds:   0%|          | 0.00/67.1M [00:00<?, ?B/s]"
      ]
     },
     "metadata": {},
     "output_type": "display_data"
    },
    {
     "data": {
      "application/vnd.jupyter.widget-view+json": {
       "model_id": "4528d25fb91e4711abd83f236da9e159",
       "version_major": 2,
       "version_minor": 0
      },
      "text/plain": [
       "shard.00592.mds:   0%|          | 0.00/67.1M [00:00<?, ?B/s]"
      ]
     },
     "metadata": {},
     "output_type": "display_data"
    },
    {
     "data": {
      "application/vnd.jupyter.widget-view+json": {
       "model_id": "09c8aee01e2f4302b184351ce9575cd0",
       "version_major": 2,
       "version_minor": 0
      },
      "text/plain": [
       "shard.00593.mds:   0%|          | 0.00/67.1M [00:00<?, ?B/s]"
      ]
     },
     "metadata": {},
     "output_type": "display_data"
    },
    {
     "data": {
      "application/vnd.jupyter.widget-view+json": {
       "model_id": "1f583b52cc394060961e766ac3347261",
       "version_major": 2,
       "version_minor": 0
      },
      "text/plain": [
       "shard.00594.mds:   0%|          | 0.00/67.1M [00:00<?, ?B/s]"
      ]
     },
     "metadata": {},
     "output_type": "display_data"
    },
    {
     "data": {
      "application/vnd.jupyter.widget-view+json": {
       "model_id": "f1631a22684349429a843f8c2166f374",
       "version_major": 2,
       "version_minor": 0
      },
      "text/plain": [
       "shard.00595.mds:   0%|          | 0.00/67.1M [00:00<?, ?B/s]"
      ]
     },
     "metadata": {},
     "output_type": "display_data"
    },
    {
     "data": {
      "application/vnd.jupyter.widget-view+json": {
       "model_id": "862a657d8a974315babc1ebb10b4d0d3",
       "version_major": 2,
       "version_minor": 0
      },
      "text/plain": [
       "shard.00596.mds:   0%|          | 0.00/67.1M [00:00<?, ?B/s]"
      ]
     },
     "metadata": {},
     "output_type": "display_data"
    },
    {
     "data": {
      "application/vnd.jupyter.widget-view+json": {
       "model_id": "6e94f44a74c140e291c0009a843cf876",
       "version_major": 2,
       "version_minor": 0
      },
      "text/plain": [
       "shard.00597.mds:   0%|          | 0.00/67.1M [00:00<?, ?B/s]"
      ]
     },
     "metadata": {},
     "output_type": "display_data"
    },
    {
     "data": {
      "application/vnd.jupyter.widget-view+json": {
       "model_id": "d5e6fd8f455e4f5895835743bb2dd356",
       "version_major": 2,
       "version_minor": 0
      },
      "text/plain": [
       "shard.00598.mds:   0%|          | 0.00/67.1M [00:00<?, ?B/s]"
      ]
     },
     "metadata": {},
     "output_type": "display_data"
    },
    {
     "data": {
      "application/vnd.jupyter.widget-view+json": {
       "model_id": "56c81b7ab6754209b666cf10293c4379",
       "version_major": 2,
       "version_minor": 0
      },
      "text/plain": [
       "shard.00599.mds:   0%|          | 0.00/67.1M [00:00<?, ?B/s]"
      ]
     },
     "metadata": {},
     "output_type": "display_data"
    },
    {
     "data": {
      "application/vnd.jupyter.widget-view+json": {
       "model_id": "feeb80b8ec1449a6862acc2332213254",
       "version_major": 2,
       "version_minor": 0
      },
      "text/plain": [
       "shard.00600.mds:   0%|          | 0.00/67.1M [00:00<?, ?B/s]"
      ]
     },
     "metadata": {},
     "output_type": "display_data"
    },
    {
     "data": {
      "application/vnd.jupyter.widget-view+json": {
       "model_id": "c2070c7f6df549cdb9a965ee8580d0d1",
       "version_major": 2,
       "version_minor": 0
      },
      "text/plain": [
       "shard.00601.mds:   0%|          | 0.00/67.1M [00:00<?, ?B/s]"
      ]
     },
     "metadata": {},
     "output_type": "display_data"
    },
    {
     "data": {
      "application/vnd.jupyter.widget-view+json": {
       "model_id": "1cda9a4378cb40c48cf5ff9e27246d46",
       "version_major": 2,
       "version_minor": 0
      },
      "text/plain": [
       "shard.00602.mds:   0%|          | 0.00/67.1M [00:00<?, ?B/s]"
      ]
     },
     "metadata": {},
     "output_type": "display_data"
    },
    {
     "data": {
      "application/vnd.jupyter.widget-view+json": {
       "model_id": "701e6ed77fee4ec9acede6f711cec3a6",
       "version_major": 2,
       "version_minor": 0
      },
      "text/plain": [
       "shard.00603.mds:   0%|          | 0.00/67.1M [00:00<?, ?B/s]"
      ]
     },
     "metadata": {},
     "output_type": "display_data"
    },
    {
     "data": {
      "application/vnd.jupyter.widget-view+json": {
       "model_id": "1465a1c760144ef6afada1e83fdd075f",
       "version_major": 2,
       "version_minor": 0
      },
      "text/plain": [
       "shard.00604.mds:   0%|          | 0.00/67.1M [00:00<?, ?B/s]"
      ]
     },
     "metadata": {},
     "output_type": "display_data"
    },
    {
     "data": {
      "application/vnd.jupyter.widget-view+json": {
       "model_id": "f6551c09811541e9903178c56c20c403",
       "version_major": 2,
       "version_minor": 0
      },
      "text/plain": [
       "shard.00605.mds:   0%|          | 0.00/67.1M [00:00<?, ?B/s]"
      ]
     },
     "metadata": {},
     "output_type": "display_data"
    },
    {
     "data": {
      "application/vnd.jupyter.widget-view+json": {
       "model_id": "5614058d12424709abb2b6e81d56fbf5",
       "version_major": 2,
       "version_minor": 0
      },
      "text/plain": [
       "shard.00606.mds:   0%|          | 0.00/67.1M [00:00<?, ?B/s]"
      ]
     },
     "metadata": {},
     "output_type": "display_data"
    },
    {
     "data": {
      "application/vnd.jupyter.widget-view+json": {
       "model_id": "56c0655cce524492920fbe5130260dac",
       "version_major": 2,
       "version_minor": 0
      },
      "text/plain": [
       "shard.00607.mds:   0%|          | 0.00/67.1M [00:00<?, ?B/s]"
      ]
     },
     "metadata": {},
     "output_type": "display_data"
    },
    {
     "data": {
      "application/vnd.jupyter.widget-view+json": {
       "model_id": "82323afa04074dc3a1e2ed06ad3cc29c",
       "version_major": 2,
       "version_minor": 0
      },
      "text/plain": [
       "shard.00608.mds:   0%|          | 0.00/67.1M [00:00<?, ?B/s]"
      ]
     },
     "metadata": {},
     "output_type": "display_data"
    },
    {
     "data": {
      "application/vnd.jupyter.widget-view+json": {
       "model_id": "991223fddce94d97b315a3c5d927a4da",
       "version_major": 2,
       "version_minor": 0
      },
      "text/plain": [
       "shard.00609.mds:   0%|          | 0.00/67.1M [00:00<?, ?B/s]"
      ]
     },
     "metadata": {},
     "output_type": "display_data"
    },
    {
     "data": {
      "application/vnd.jupyter.widget-view+json": {
       "model_id": "0c2bfb6c40af4487848375766c4f856b",
       "version_major": 2,
       "version_minor": 0
      },
      "text/plain": [
       "shard.00610.mds:   0%|          | 0.00/67.1M [00:00<?, ?B/s]"
      ]
     },
     "metadata": {},
     "output_type": "display_data"
    },
    {
     "data": {
      "application/vnd.jupyter.widget-view+json": {
       "model_id": "1b578323ea5549289d261fbc0739f2b9",
       "version_major": 2,
       "version_minor": 0
      },
      "text/plain": [
       "shard.00611.mds:   0%|          | 0.00/67.1M [00:00<?, ?B/s]"
      ]
     },
     "metadata": {},
     "output_type": "display_data"
    },
    {
     "data": {
      "application/vnd.jupyter.widget-view+json": {
       "model_id": "6c695fc225dd4037a7839a698c53fc93",
       "version_major": 2,
       "version_minor": 0
      },
      "text/plain": [
       "shard.00612.mds:   0%|          | 0.00/67.1M [00:00<?, ?B/s]"
      ]
     },
     "metadata": {},
     "output_type": "display_data"
    },
    {
     "data": {
      "application/vnd.jupyter.widget-view+json": {
       "model_id": "03c33007a0cd475b917b62cb7ef2c129",
       "version_major": 2,
       "version_minor": 0
      },
      "text/plain": [
       "shard.00613.mds:   0%|          | 0.00/67.1M [00:00<?, ?B/s]"
      ]
     },
     "metadata": {},
     "output_type": "display_data"
    },
    {
     "data": {
      "application/vnd.jupyter.widget-view+json": {
       "model_id": "ab0bae00ecd04817a35ff55db3326658",
       "version_major": 2,
       "version_minor": 0
      },
      "text/plain": [
       "shard.00614.mds:   0%|          | 0.00/67.1M [00:00<?, ?B/s]"
      ]
     },
     "metadata": {},
     "output_type": "display_data"
    },
    {
     "data": {
      "application/vnd.jupyter.widget-view+json": {
       "model_id": "5107bb33d5c24b75a7ab7605d48a8484",
       "version_major": 2,
       "version_minor": 0
      },
      "text/plain": [
       "shard.00615.mds:   0%|          | 0.00/67.1M [00:00<?, ?B/s]"
      ]
     },
     "metadata": {},
     "output_type": "display_data"
    },
    {
     "data": {
      "application/vnd.jupyter.widget-view+json": {
       "model_id": "ea8fc80b08724215ad4aee2b4b6d2caf",
       "version_major": 2,
       "version_minor": 0
      },
      "text/plain": [
       "shard.00616.mds:   0%|          | 0.00/67.1M [00:00<?, ?B/s]"
      ]
     },
     "metadata": {},
     "output_type": "display_data"
    },
    {
     "data": {
      "application/vnd.jupyter.widget-view+json": {
       "model_id": "33e1e2a9219c4207b644a64f01c87347",
       "version_major": 2,
       "version_minor": 0
      },
      "text/plain": [
       "shard.00617.mds:   0%|          | 0.00/67.1M [00:00<?, ?B/s]"
      ]
     },
     "metadata": {},
     "output_type": "display_data"
    },
    {
     "data": {
      "application/vnd.jupyter.widget-view+json": {
       "model_id": "0723dfeabf2a43fcab2e0d99951e34b1",
       "version_major": 2,
       "version_minor": 0
      },
      "text/plain": [
       "shard.00618.mds:   0%|          | 0.00/67.1M [00:00<?, ?B/s]"
      ]
     },
     "metadata": {},
     "output_type": "display_data"
    },
    {
     "data": {
      "application/vnd.jupyter.widget-view+json": {
       "model_id": "82b9be13f2404103b6a543811d932d59",
       "version_major": 2,
       "version_minor": 0
      },
      "text/plain": [
       "shard.00619.mds:   0%|          | 0.00/67.1M [00:00<?, ?B/s]"
      ]
     },
     "metadata": {},
     "output_type": "display_data"
    },
    {
     "data": {
      "application/vnd.jupyter.widget-view+json": {
       "model_id": "d0c72c37a7aa43f7b3efb928527ab643",
       "version_major": 2,
       "version_minor": 0
      },
      "text/plain": [
       "shard.00620.mds:   0%|          | 0.00/67.1M [00:00<?, ?B/s]"
      ]
     },
     "metadata": {},
     "output_type": "display_data"
    },
    {
     "data": {
      "application/vnd.jupyter.widget-view+json": {
       "model_id": "8ef930f233a14b71aad745b7c5f96e46",
       "version_major": 2,
       "version_minor": 0
      },
      "text/plain": [
       "shard.00621.mds:   0%|          | 0.00/67.1M [00:00<?, ?B/s]"
      ]
     },
     "metadata": {},
     "output_type": "display_data"
    },
    {
     "data": {
      "application/vnd.jupyter.widget-view+json": {
       "model_id": "f4cba546f0e449e28b0e41a0e8a6b5c6",
       "version_major": 2,
       "version_minor": 0
      },
      "text/plain": [
       "shard.00622.mds:   0%|          | 0.00/67.1M [00:00<?, ?B/s]"
      ]
     },
     "metadata": {},
     "output_type": "display_data"
    },
    {
     "data": {
      "application/vnd.jupyter.widget-view+json": {
       "model_id": "f0d5cb4611684bdba45208d45adf4d14",
       "version_major": 2,
       "version_minor": 0
      },
      "text/plain": [
       "shard.00623.mds:   0%|          | 0.00/67.1M [00:00<?, ?B/s]"
      ]
     },
     "metadata": {},
     "output_type": "display_data"
    },
    {
     "data": {
      "application/vnd.jupyter.widget-view+json": {
       "model_id": "e682d26fbf6b4ed08e8fd3343447bc98",
       "version_major": 2,
       "version_minor": 0
      },
      "text/plain": [
       "shard.00624.mds:   0%|          | 0.00/67.1M [00:00<?, ?B/s]"
      ]
     },
     "metadata": {},
     "output_type": "display_data"
    },
    {
     "data": {
      "application/vnd.jupyter.widget-view+json": {
       "model_id": "71c11b2d8b0b43c2b506f8b1c4f05695",
       "version_major": 2,
       "version_minor": 0
      },
      "text/plain": [
       "shard.00625.mds:   0%|          | 0.00/67.1M [00:00<?, ?B/s]"
      ]
     },
     "metadata": {},
     "output_type": "display_data"
    },
    {
     "data": {
      "application/vnd.jupyter.widget-view+json": {
       "model_id": "8e7037f24bdb4b0799a8e42659a1c8f6",
       "version_major": 2,
       "version_minor": 0
      },
      "text/plain": [
       "shard.00626.mds:   0%|          | 0.00/67.1M [00:00<?, ?B/s]"
      ]
     },
     "metadata": {},
     "output_type": "display_data"
    },
    {
     "data": {
      "application/vnd.jupyter.widget-view+json": {
       "model_id": "551ea1f230e24dc68dbc79b1294d972a",
       "version_major": 2,
       "version_minor": 0
      },
      "text/plain": [
       "shard.00627.mds:   0%|          | 0.00/67.1M [00:00<?, ?B/s]"
      ]
     },
     "metadata": {},
     "output_type": "display_data"
    },
    {
     "data": {
      "application/vnd.jupyter.widget-view+json": {
       "model_id": "444caa993418420a83fa385f4731c643",
       "version_major": 2,
       "version_minor": 0
      },
      "text/plain": [
       "shard.00628.mds:   0%|          | 0.00/67.1M [00:00<?, ?B/s]"
      ]
     },
     "metadata": {},
     "output_type": "display_data"
    },
    {
     "data": {
      "application/vnd.jupyter.widget-view+json": {
       "model_id": "210b4fe4e3c94ac8be0305fecd9ac892",
       "version_major": 2,
       "version_minor": 0
      },
      "text/plain": [
       "shard.00629.mds:   0%|          | 0.00/67.1M [00:00<?, ?B/s]"
      ]
     },
     "metadata": {},
     "output_type": "display_data"
    },
    {
     "data": {
      "application/vnd.jupyter.widget-view+json": {
       "model_id": "d609a224c2ab46288e05e305768e5ce7",
       "version_major": 2,
       "version_minor": 0
      },
      "text/plain": [
       "shard.00630.mds:   0%|          | 0.00/67.1M [00:00<?, ?B/s]"
      ]
     },
     "metadata": {},
     "output_type": "display_data"
    },
    {
     "data": {
      "application/vnd.jupyter.widget-view+json": {
       "model_id": "04c686b785a041f5b62cc8e84c53b0b6",
       "version_major": 2,
       "version_minor": 0
      },
      "text/plain": [
       "shard.00631.mds:   0%|          | 0.00/67.1M [00:00<?, ?B/s]"
      ]
     },
     "metadata": {},
     "output_type": "display_data"
    },
    {
     "data": {
      "application/vnd.jupyter.widget-view+json": {
       "model_id": "f06f6710f64e48dfae20fe429df25366",
       "version_major": 2,
       "version_minor": 0
      },
      "text/plain": [
       "shard.00632.mds:   0%|          | 0.00/67.1M [00:00<?, ?B/s]"
      ]
     },
     "metadata": {},
     "output_type": "display_data"
    },
    {
     "data": {
      "application/vnd.jupyter.widget-view+json": {
       "model_id": "6234ed0a378049888df0e42feb099add",
       "version_major": 2,
       "version_minor": 0
      },
      "text/plain": [
       "shard.00633.mds:   0%|          | 0.00/67.1M [00:00<?, ?B/s]"
      ]
     },
     "metadata": {},
     "output_type": "display_data"
    },
    {
     "data": {
      "application/vnd.jupyter.widget-view+json": {
       "model_id": "ff60d5d0d5bf47d1abfa18186f0cc1e5",
       "version_major": 2,
       "version_minor": 0
      },
      "text/plain": [
       "shard.00634.mds:   0%|          | 0.00/67.1M [00:00<?, ?B/s]"
      ]
     },
     "metadata": {},
     "output_type": "display_data"
    },
    {
     "data": {
      "application/vnd.jupyter.widget-view+json": {
       "model_id": "01c209fbd8584a54bd2035ea01d967e1",
       "version_major": 2,
       "version_minor": 0
      },
      "text/plain": [
       "shard.00635.mds:   0%|          | 0.00/67.1M [00:00<?, ?B/s]"
      ]
     },
     "metadata": {},
     "output_type": "display_data"
    },
    {
     "data": {
      "application/vnd.jupyter.widget-view+json": {
       "model_id": "22d0fd0cab754f1ea85028e08535ac36",
       "version_major": 2,
       "version_minor": 0
      },
      "text/plain": [
       "shard.00636.mds:   0%|          | 0.00/67.1M [00:00<?, ?B/s]"
      ]
     },
     "metadata": {},
     "output_type": "display_data"
    },
    {
     "data": {
      "application/vnd.jupyter.widget-view+json": {
       "model_id": "14c5c220a97646af90df0cd2ad7a079b",
       "version_major": 2,
       "version_minor": 0
      },
      "text/plain": [
       "shard.00637.mds:   0%|          | 0.00/67.1M [00:00<?, ?B/s]"
      ]
     },
     "metadata": {},
     "output_type": "display_data"
    },
    {
     "data": {
      "application/vnd.jupyter.widget-view+json": {
       "model_id": "cbca0768fbae4cd69377ce1acb61bb19",
       "version_major": 2,
       "version_minor": 0
      },
      "text/plain": [
       "shard.00638.mds:   0%|          | 0.00/67.1M [00:00<?, ?B/s]"
      ]
     },
     "metadata": {},
     "output_type": "display_data"
    },
    {
     "data": {
      "application/vnd.jupyter.widget-view+json": {
       "model_id": "149913377b164f24b7909bec11ed0339",
       "version_major": 2,
       "version_minor": 0
      },
      "text/plain": [
       "shard.00639.mds:   0%|          | 0.00/67.1M [00:00<?, ?B/s]"
      ]
     },
     "metadata": {},
     "output_type": "display_data"
    },
    {
     "data": {
      "application/vnd.jupyter.widget-view+json": {
       "model_id": "5b6be313329d4f43b6fe2b0ae1da7daa",
       "version_major": 2,
       "version_minor": 0
      },
      "text/plain": [
       "shard.00640.mds:   0%|          | 0.00/67.1M [00:00<?, ?B/s]"
      ]
     },
     "metadata": {},
     "output_type": "display_data"
    },
    {
     "data": {
      "application/vnd.jupyter.widget-view+json": {
       "model_id": "0617a29832c54080a9b08ba7af9c2a80",
       "version_major": 2,
       "version_minor": 0
      },
      "text/plain": [
       "shard.00641.mds:   0%|          | 0.00/67.1M [00:00<?, ?B/s]"
      ]
     },
     "metadata": {},
     "output_type": "display_data"
    },
    {
     "data": {
      "application/vnd.jupyter.widget-view+json": {
       "model_id": "6050d6146b2f4ce186a32e2ba55ed5b8",
       "version_major": 2,
       "version_minor": 0
      },
      "text/plain": [
       "shard.00642.mds:   0%|          | 0.00/67.1M [00:00<?, ?B/s]"
      ]
     },
     "metadata": {},
     "output_type": "display_data"
    },
    {
     "data": {
      "application/vnd.jupyter.widget-view+json": {
       "model_id": "623ad8a068fa4f0b968be13bb70a68d6",
       "version_major": 2,
       "version_minor": 0
      },
      "text/plain": [
       "shard.00643.mds:   0%|          | 0.00/67.1M [00:00<?, ?B/s]"
      ]
     },
     "metadata": {},
     "output_type": "display_data"
    },
    {
     "data": {
      "application/vnd.jupyter.widget-view+json": {
       "model_id": "e2079db988274ddcb9df8ac4152ecfff",
       "version_major": 2,
       "version_minor": 0
      },
      "text/plain": [
       "shard.00644.mds:   0%|          | 0.00/67.1M [00:00<?, ?B/s]"
      ]
     },
     "metadata": {},
     "output_type": "display_data"
    },
    {
     "data": {
      "application/vnd.jupyter.widget-view+json": {
       "model_id": "6c8dafed29034d38819d411206f3e17c",
       "version_major": 2,
       "version_minor": 0
      },
      "text/plain": [
       "shard.00645.mds:   0%|          | 0.00/67.1M [00:00<?, ?B/s]"
      ]
     },
     "metadata": {},
     "output_type": "display_data"
    },
    {
     "data": {
      "application/vnd.jupyter.widget-view+json": {
       "model_id": "9b21043280b147cab07dc7c39b77299a",
       "version_major": 2,
       "version_minor": 0
      },
      "text/plain": [
       "shard.00646.mds:   0%|          | 0.00/67.1M [00:00<?, ?B/s]"
      ]
     },
     "metadata": {},
     "output_type": "display_data"
    },
    {
     "data": {
      "application/vnd.jupyter.widget-view+json": {
       "model_id": "8e00d0a9523e49d0a8238f2891db46e6",
       "version_major": 2,
       "version_minor": 0
      },
      "text/plain": [
       "shard.00647.mds:   0%|          | 0.00/67.1M [00:00<?, ?B/s]"
      ]
     },
     "metadata": {},
     "output_type": "display_data"
    },
    {
     "data": {
      "application/vnd.jupyter.widget-view+json": {
       "model_id": "ffd3102736784ea09eb2761a985ecbb0",
       "version_major": 2,
       "version_minor": 0
      },
      "text/plain": [
       "shard.00648.mds:   0%|          | 0.00/67.1M [00:00<?, ?B/s]"
      ]
     },
     "metadata": {},
     "output_type": "display_data"
    },
    {
     "data": {
      "application/vnd.jupyter.widget-view+json": {
       "model_id": "7fafd6c2b410416cb9238e4edcb72a26",
       "version_major": 2,
       "version_minor": 0
      },
      "text/plain": [
       "shard.00649.mds:   0%|          | 0.00/67.1M [00:00<?, ?B/s]"
      ]
     },
     "metadata": {},
     "output_type": "display_data"
    },
    {
     "data": {
      "application/vnd.jupyter.widget-view+json": {
       "model_id": "7377a0a9b5ca4269ab7482ec5146d03f",
       "version_major": 2,
       "version_minor": 0
      },
      "text/plain": [
       "shard.00650.mds:   0%|          | 0.00/67.1M [00:00<?, ?B/s]"
      ]
     },
     "metadata": {},
     "output_type": "display_data"
    },
    {
     "data": {
      "application/vnd.jupyter.widget-view+json": {
       "model_id": "c407d7d452cf4169a8c7b778f37212c6",
       "version_major": 2,
       "version_minor": 0
      },
      "text/plain": [
       "shard.00651.mds:   0%|          | 0.00/67.1M [00:00<?, ?B/s]"
      ]
     },
     "metadata": {},
     "output_type": "display_data"
    },
    {
     "data": {
      "application/vnd.jupyter.widget-view+json": {
       "model_id": "526de3ae55f74fd4b89836d92520b5af",
       "version_major": 2,
       "version_minor": 0
      },
      "text/plain": [
       "shard.00652.mds:   0%|          | 0.00/67.1M [00:00<?, ?B/s]"
      ]
     },
     "metadata": {},
     "output_type": "display_data"
    },
    {
     "data": {
      "application/vnd.jupyter.widget-view+json": {
       "model_id": "7c636575a3234b20acb5ad25a1b472e5",
       "version_major": 2,
       "version_minor": 0
      },
      "text/plain": [
       "shard.00653.mds:   0%|          | 0.00/67.1M [00:00<?, ?B/s]"
      ]
     },
     "metadata": {},
     "output_type": "display_data"
    },
    {
     "data": {
      "application/vnd.jupyter.widget-view+json": {
       "model_id": "3f00ddba787947ea813e1626f53bbc25",
       "version_major": 2,
       "version_minor": 0
      },
      "text/plain": [
       "shard.00654.mds:   0%|          | 0.00/67.1M [00:00<?, ?B/s]"
      ]
     },
     "metadata": {},
     "output_type": "display_data"
    },
    {
     "data": {
      "application/vnd.jupyter.widget-view+json": {
       "model_id": "299af51854424345899aa2479d82ff08",
       "version_major": 2,
       "version_minor": 0
      },
      "text/plain": [
       "shard.00655.mds:   0%|          | 0.00/67.1M [00:00<?, ?B/s]"
      ]
     },
     "metadata": {},
     "output_type": "display_data"
    },
    {
     "data": {
      "application/vnd.jupyter.widget-view+json": {
       "model_id": "3260e849d89d45e083729cb27c2023ca",
       "version_major": 2,
       "version_minor": 0
      },
      "text/plain": [
       "shard.00656.mds:   0%|          | 0.00/67.1M [00:00<?, ?B/s]"
      ]
     },
     "metadata": {},
     "output_type": "display_data"
    },
    {
     "data": {
      "application/vnd.jupyter.widget-view+json": {
       "model_id": "b381012ac4bf48538f52ccd9d20d9519",
       "version_major": 2,
       "version_minor": 0
      },
      "text/plain": [
       "shard.00657.mds:   0%|          | 0.00/67.1M [00:00<?, ?B/s]"
      ]
     },
     "metadata": {},
     "output_type": "display_data"
    },
    {
     "data": {
      "application/vnd.jupyter.widget-view+json": {
       "model_id": "90b549c75ecb43bbb5418c96557f1a5e",
       "version_major": 2,
       "version_minor": 0
      },
      "text/plain": [
       "shard.00658.mds:   0%|          | 0.00/67.1M [00:00<?, ?B/s]"
      ]
     },
     "metadata": {},
     "output_type": "display_data"
    },
    {
     "data": {
      "application/vnd.jupyter.widget-view+json": {
       "model_id": "a59324515500439d8ef0fbe784ed999f",
       "version_major": 2,
       "version_minor": 0
      },
      "text/plain": [
       "shard.00659.mds:   0%|          | 0.00/67.1M [00:00<?, ?B/s]"
      ]
     },
     "metadata": {},
     "output_type": "display_data"
    },
    {
     "data": {
      "application/vnd.jupyter.widget-view+json": {
       "model_id": "1986981a659741b689824ae0b9db06ed",
       "version_major": 2,
       "version_minor": 0
      },
      "text/plain": [
       "shard.00660.mds:   0%|          | 0.00/67.1M [00:00<?, ?B/s]"
      ]
     },
     "metadata": {},
     "output_type": "display_data"
    },
    {
     "data": {
      "application/vnd.jupyter.widget-view+json": {
       "model_id": "311f54de09f44efdbe54157d6d10dfdf",
       "version_major": 2,
       "version_minor": 0
      },
      "text/plain": [
       "shard.00661.mds:   0%|          | 0.00/67.1M [00:00<?, ?B/s]"
      ]
     },
     "metadata": {},
     "output_type": "display_data"
    },
    {
     "data": {
      "application/vnd.jupyter.widget-view+json": {
       "model_id": "74b3ad98fb5f49d5aac613c1b24ad934",
       "version_major": 2,
       "version_minor": 0
      },
      "text/plain": [
       "shard.00662.mds:   0%|          | 0.00/67.1M [00:00<?, ?B/s]"
      ]
     },
     "metadata": {},
     "output_type": "display_data"
    },
    {
     "data": {
      "application/vnd.jupyter.widget-view+json": {
       "model_id": "d781b127f25344bcbcb32657d7c0221d",
       "version_major": 2,
       "version_minor": 0
      },
      "text/plain": [
       "shard.00663.mds:   0%|          | 0.00/67.1M [00:00<?, ?B/s]"
      ]
     },
     "metadata": {},
     "output_type": "display_data"
    },
    {
     "data": {
      "application/vnd.jupyter.widget-view+json": {
       "model_id": "2774c1182ab04da9b6bf70bb4c703e3e",
       "version_major": 2,
       "version_minor": 0
      },
      "text/plain": [
       "shard.00664.mds:   0%|          | 0.00/67.1M [00:00<?, ?B/s]"
      ]
     },
     "metadata": {},
     "output_type": "display_data"
    },
    {
     "data": {
      "application/vnd.jupyter.widget-view+json": {
       "model_id": "471bada815de444088eb4661006c8e48",
       "version_major": 2,
       "version_minor": 0
      },
      "text/plain": [
       "shard.00665.mds:   0%|          | 0.00/67.1M [00:00<?, ?B/s]"
      ]
     },
     "metadata": {},
     "output_type": "display_data"
    },
    {
     "data": {
      "application/vnd.jupyter.widget-view+json": {
       "model_id": "eb75ccf6651941e5877e28f6d51b2a9e",
       "version_major": 2,
       "version_minor": 0
      },
      "text/plain": [
       "shard.00666.mds:   0%|          | 0.00/67.1M [00:00<?, ?B/s]"
      ]
     },
     "metadata": {},
     "output_type": "display_data"
    },
    {
     "data": {
      "application/vnd.jupyter.widget-view+json": {
       "model_id": "13bc7c3cd86c4a1aab16dd8905af154b",
       "version_major": 2,
       "version_minor": 0
      },
      "text/plain": [
       "shard.00667.mds:   0%|          | 0.00/67.1M [00:00<?, ?B/s]"
      ]
     },
     "metadata": {},
     "output_type": "display_data"
    },
    {
     "data": {
      "application/vnd.jupyter.widget-view+json": {
       "model_id": "18dc6a420a8b4ae0b618fb96b4a8e54f",
       "version_major": 2,
       "version_minor": 0
      },
      "text/plain": [
       "shard.00668.mds:   0%|          | 0.00/67.1M [00:00<?, ?B/s]"
      ]
     },
     "metadata": {},
     "output_type": "display_data"
    },
    {
     "data": {
      "application/vnd.jupyter.widget-view+json": {
       "model_id": "d0cda7ef393c4b318dd467da0e7f33ca",
       "version_major": 2,
       "version_minor": 0
      },
      "text/plain": [
       "shard.00669.mds:   0%|          | 0.00/67.1M [00:00<?, ?B/s]"
      ]
     },
     "metadata": {},
     "output_type": "display_data"
    },
    {
     "data": {
      "application/vnd.jupyter.widget-view+json": {
       "model_id": "ec2ba7036a564daface1169951ba5fc4",
       "version_major": 2,
       "version_minor": 0
      },
      "text/plain": [
       "shard.00670.mds:   0%|          | 0.00/67.1M [00:00<?, ?B/s]"
      ]
     },
     "metadata": {},
     "output_type": "display_data"
    },
    {
     "data": {
      "application/vnd.jupyter.widget-view+json": {
       "model_id": "cf6984a45db74d47add73073b28bda55",
       "version_major": 2,
       "version_minor": 0
      },
      "text/plain": [
       "shard.00671.mds:   0%|          | 0.00/67.1M [00:00<?, ?B/s]"
      ]
     },
     "metadata": {},
     "output_type": "display_data"
    },
    {
     "data": {
      "application/vnd.jupyter.widget-view+json": {
       "model_id": "967322ea1dcc49a895239bb865979c17",
       "version_major": 2,
       "version_minor": 0
      },
      "text/plain": [
       "shard.00672.mds:   0%|          | 0.00/67.1M [00:00<?, ?B/s]"
      ]
     },
     "metadata": {},
     "output_type": "display_data"
    },
    {
     "data": {
      "application/vnd.jupyter.widget-view+json": {
       "model_id": "abb020ba11624148bd7130c6abfa9a86",
       "version_major": 2,
       "version_minor": 0
      },
      "text/plain": [
       "shard.00673.mds:   0%|          | 0.00/67.1M [00:00<?, ?B/s]"
      ]
     },
     "metadata": {},
     "output_type": "display_data"
    },
    {
     "data": {
      "application/vnd.jupyter.widget-view+json": {
       "model_id": "e42fd116c11844f8a2238d71f009c526",
       "version_major": 2,
       "version_minor": 0
      },
      "text/plain": [
       "shard.00674.mds:   0%|          | 0.00/67.1M [00:00<?, ?B/s]"
      ]
     },
     "metadata": {},
     "output_type": "display_data"
    },
    {
     "data": {
      "application/vnd.jupyter.widget-view+json": {
       "model_id": "5aba0debd9f5479e83181d7bd674ca3d",
       "version_major": 2,
       "version_minor": 0
      },
      "text/plain": [
       "shard.00675.mds:   0%|          | 0.00/67.1M [00:00<?, ?B/s]"
      ]
     },
     "metadata": {},
     "output_type": "display_data"
    },
    {
     "data": {
      "application/vnd.jupyter.widget-view+json": {
       "model_id": "5a519952b6b14592937256cb13923d39",
       "version_major": 2,
       "version_minor": 0
      },
      "text/plain": [
       "shard.00676.mds:   0%|          | 0.00/67.1M [00:00<?, ?B/s]"
      ]
     },
     "metadata": {},
     "output_type": "display_data"
    },
    {
     "data": {
      "application/vnd.jupyter.widget-view+json": {
       "model_id": "63f9eb36c67e4158a6c387501463b4ea",
       "version_major": 2,
       "version_minor": 0
      },
      "text/plain": [
       "shard.00677.mds:   0%|          | 0.00/67.1M [00:00<?, ?B/s]"
      ]
     },
     "metadata": {},
     "output_type": "display_data"
    },
    {
     "data": {
      "application/vnd.jupyter.widget-view+json": {
       "model_id": "0f3d22a6f2c74e8384c00e1e624140bf",
       "version_major": 2,
       "version_minor": 0
      },
      "text/plain": [
       "shard.00678.mds:   0%|          | 0.00/67.1M [00:00<?, ?B/s]"
      ]
     },
     "metadata": {},
     "output_type": "display_data"
    },
    {
     "data": {
      "application/vnd.jupyter.widget-view+json": {
       "model_id": "f41711b69fac434fb5b971e46e05e9ee",
       "version_major": 2,
       "version_minor": 0
      },
      "text/plain": [
       "shard.00679.mds:   0%|          | 0.00/67.1M [00:00<?, ?B/s]"
      ]
     },
     "metadata": {},
     "output_type": "display_data"
    },
    {
     "data": {
      "application/vnd.jupyter.widget-view+json": {
       "model_id": "e5d088359f3d43bda6d528f2f6e70925",
       "version_major": 2,
       "version_minor": 0
      },
      "text/plain": [
       "shard.00680.mds:   0%|          | 0.00/67.1M [00:00<?, ?B/s]"
      ]
     },
     "metadata": {},
     "output_type": "display_data"
    },
    {
     "data": {
      "application/vnd.jupyter.widget-view+json": {
       "model_id": "58594beee82045d3b5de847b78109e91",
       "version_major": 2,
       "version_minor": 0
      },
      "text/plain": [
       "shard.00681.mds:   0%|          | 0.00/1.74M [00:00<?, ?B/s]"
      ]
     },
     "metadata": {},
     "output_type": "display_data"
    },
    {
     "data": {
      "text/plain": [
       "CommitInfo(commit_url='https://huggingface.co/datasets/mesolitica/malaysian-translation-v2-multipack-2048/commit/a05a0803969aa5b4720b825d1f5cd7a15e0e11a4', commit_message='Upload folder using huggingface_hub', commit_description='', oid='a05a0803969aa5b4720b825d1f5cd7a15e0e11a4', pr_url=None, pr_revision=None, pr_num=None)"
      ]
     },
     "execution_count": 7,
     "metadata": {},
     "output_type": "execute_result"
    }
   ],
   "source": [
    "from huggingface_hub import HfApi\n",
    "api = HfApi()\n",
    "\n",
    "api.upload_folder(\n",
    "    folder_path=\"packing\",\n",
    "    repo_id=\"mesolitica/malaysian-translation-v2-multipack-2048\",\n",
    "    repo_type=\"dataset\",\n",
    ")"
   ]
  }
 ],
 "metadata": {
  "kernelspec": {
   "display_name": "python3.10",
   "language": "python",
   "name": "python3.10"
  },
  "language_info": {
   "codemirror_mode": {
    "name": "ipython",
    "version": 3
   },
   "file_extension": ".py",
   "mimetype": "text/x-python",
   "name": "python",
   "nbconvert_exporter": "python",
   "pygments_lexer": "ipython3",
   "version": "3.10.14"
  }
 },
 "nbformat": 4,
 "nbformat_minor": 5
}
