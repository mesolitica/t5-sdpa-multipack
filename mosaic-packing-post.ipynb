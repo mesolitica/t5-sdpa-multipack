{
 "cells": [
  {
   "cell_type": "code",
   "execution_count": 1,
   "id": "ba947cb9",
   "metadata": {},
   "outputs": [],
   "source": [
    "# !pip3.10 install --pre torch==2.5.0.dev20240912+cu121 --index-url https://download.pytorch.org/whl/nightly/cu121"
   ]
  },
  {
   "cell_type": "code",
   "execution_count": 2,
   "id": "b3a352af",
   "metadata": {},
   "outputs": [],
   "source": [
    "# !pip3.10 install torch -U"
   ]
  },
  {
   "cell_type": "code",
   "execution_count": 3,
   "id": "1da3bf03",
   "metadata": {},
   "outputs": [],
   "source": [
    "# !pip3.10 uninstall transformers -y"
   ]
  },
  {
   "cell_type": "code",
   "execution_count": 4,
   "id": "2f7a6217",
   "metadata": {},
   "outputs": [],
   "source": [
    "# !pip3.10 install -e . --no-deps"
   ]
  },
  {
   "cell_type": "code",
   "execution_count": 5,
   "id": "3e0b726d",
   "metadata": {},
   "outputs": [],
   "source": [
    "import json\n",
    "import torch\n",
    "import torch.nn.functional as F\n",
    "import math\n",
    "from glob import glob"
   ]
  },
  {
   "cell_type": "code",
   "execution_count": 6,
   "id": "a22bc36e",
   "metadata": {},
   "outputs": [
    {
     "name": "stderr",
     "output_type": "stream",
     "text": [
      "Special tokens have been added in the vocabulary, make sure the associated word embeddings are fine-tuned or trained.\n"
     ]
    }
   ],
   "source": [
    "from transformers import AutoTokenizer, T5ForConditionalGeneration\n",
    "\n",
    "tokenizer = AutoTokenizer.from_pretrained('mesolitica/nanot5-small-malaysian-cased', local_files_only = True)"
   ]
  },
  {
   "cell_type": "code",
   "execution_count": 7,
   "id": "2e029640",
   "metadata": {},
   "outputs": [],
   "source": [
    "model = T5ForConditionalGeneration.from_pretrained('mesolitica/nanot5-small-malaysian-cased',local_files_only = True).to(torch.bfloat16)"
   ]
  },
  {
   "cell_type": "code",
   "execution_count": 8,
   "id": "6efb62bd",
   "metadata": {
    "scrolled": true
   },
   "outputs": [
    {
     "data": {
      "text/plain": [
       "<All keys matched successfully>"
      ]
     },
     "execution_count": 8,
     "metadata": {},
     "output_type": "execute_result"
    }
   ],
   "source": [
    "encoder_emb = torch.nn.Embedding(\n",
    "    model.config.relative_attention_num_buckets, \n",
    "    model.config.num_heads\n",
    ")\n",
    "encoder_emb.load_state_dict(\n",
    "    model.encoder.block[0].layer[0].SelfAttention.relative_attention_bias.state_dict()\n",
    ")\n",
    "\n",
    "decoder_emb = torch.nn.Embedding(\n",
    "    model.config.relative_attention_num_buckets, \n",
    "    model.config.num_heads\n",
    ")\n",
    "decoder_emb.load_state_dict(\n",
    "    model.decoder.block[0].layer[0].SelfAttention.relative_attention_bias.state_dict()\n",
    ")"
   ]
  },
  {
   "cell_type": "code",
   "execution_count": 9,
   "id": "44ec705e",
   "metadata": {},
   "outputs": [
    {
     "data": {
      "text/plain": [
       "61"
      ]
     },
     "execution_count": 9,
     "metadata": {},
     "output_type": "execute_result"
    }
   ],
   "source": [
    "files = glob('/home/husein/ssd4/translation/post-translation.json*.splitted')\n",
    "files.extend(glob('/home/husein/ssd4/translation/post-translation-part2.json*.splitted'))\n",
    "files.extend(glob('/home/husein/ssd4/translation/post-translation-part5.json*.splitted'))\n",
    "len(files)"
   ]
  },
  {
   "cell_type": "code",
   "execution_count": 10,
   "id": "0bd31c24",
   "metadata": {},
   "outputs": [],
   "source": [
    "from streaming import MDSWriter\n",
    "from streaming.base.format.mds.encodings import Encoding, _encodings\n",
    "from streaming import LocalDataset\n",
    "import streaming\n",
    "import numpy as np\n",
    "from tqdm import tqdm\n",
    "from glob import glob\n",
    "import os\n",
    "import json\n",
    "\n",
    "class UInt32(Encoding):\n",
    "    def encode(self, obj) -> bytes:\n",
    "        return obj.tobytes()\n",
    "\n",
    "    def decode(self, data: bytes):\n",
    "        return np.frombuffer(data, np.uint32)\n",
    "\n",
    "_encodings['uint32'] = UInt32\n",
    "\n",
    "columns = {\n",
    "    'data': 'str',\n",
    "}\n",
    "hashes = 'sha1', 'xxh64'"
   ]
  },
  {
   "cell_type": "code",
   "execution_count": 11,
   "id": "6a492b56",
   "metadata": {},
   "outputs": [],
   "source": [
    "def _relative_position_bucket(relative_position, bidirectional=True, num_buckets=32, max_distance=128):\n",
    "    \"\"\"\n",
    "    Adapted from Mesh Tensorflow:\n",
    "    https://github.com/tensorflow/mesh/blob/0cb87fe07da627bf0b7e60475d59f95ed6b5be3d/mesh_tensorflow/transformer/transformer_layers.py#L593\n",
    "\n",
    "    Translate relative position to a bucket number for relative attention. The relative position is defined as\n",
    "    memory_position - query_position, i.e. the distance in tokens from the attending position to the attended-to\n",
    "    position. If bidirectional=False, then positive relative positions are invalid. We use smaller buckets for\n",
    "    small absolute relative_position and larger buckets for larger absolute relative_positions. All relative\n",
    "    positions >=max_distance map to the same bucket. All relative positions <=-max_distance map to the same bucket.\n",
    "    This should allow for more graceful generalization to longer sequences than the model has been trained on\n",
    "\n",
    "    Args:\n",
    "        relative_position: an int32 Tensor\n",
    "        bidirectional: a boolean - whether the attention is bidirectional\n",
    "        num_buckets: an integer\n",
    "        max_distance: an integer\n",
    "\n",
    "    Returns:\n",
    "        a Tensor with the same shape as relative_position, containing int32 values in the range [0, num_buckets)\n",
    "    \"\"\"\n",
    "    relative_buckets = 0\n",
    "    if bidirectional:\n",
    "        num_buckets //= 2\n",
    "        relative_buckets += (relative_position > 0).to(torch.long) * num_buckets\n",
    "        relative_position = torch.abs(relative_position)\n",
    "    else:\n",
    "        relative_position = -torch.min(relative_position, torch.zeros_like(relative_position))\n",
    "    # now relative_position is in the range [0, inf)\n",
    "\n",
    "    # half of the buckets are for exact increments in positions\n",
    "    max_exact = num_buckets // 2\n",
    "    is_small = relative_position < max_exact\n",
    "\n",
    "    # The other half of the buckets are for logarithmically bigger bins in positions up to max_distance\n",
    "    relative_position_if_large = max_exact + (\n",
    "        torch.log(relative_position.float() / max_exact)\n",
    "        / math.log(max_distance / max_exact)\n",
    "        * (num_buckets - max_exact)\n",
    "    ).to(torch.long)\n",
    "    relative_position_if_large = torch.min(\n",
    "        relative_position_if_large, torch.full_like(relative_position_if_large, num_buckets - 1)\n",
    "    )\n",
    "\n",
    "    relative_buckets += torch.where(is_small, relative_position, relative_position_if_large)\n",
    "    return relative_buckets\n",
    "\n",
    "def compute_bias(\n",
    "    query_length, \n",
    "    key_length,\n",
    "    relative_attention_bias,\n",
    "    bidirectional = True, \n",
    "    num_buckets = 32, \n",
    "    max_distance = 128, \n",
    "    device=None,\n",
    "):\n",
    "    \"\"\"Compute binned relative position bias\"\"\"\n",
    "    if device is None:\n",
    "        device = relative_attention_bias.weight.device\n",
    "    context_position = torch.arange(query_length, dtype=torch.long, device=device)[:, None]\n",
    "    memory_position = torch.arange(key_length, dtype=torch.long, device=device)[None, :]\n",
    "    relative_position = memory_position - context_position  # shape (query_length, key_length)\n",
    "    relative_position_bucket = _relative_position_bucket(\n",
    "        relative_position,  # shape (query_length, key_length)\n",
    "        bidirectional=bidirectional,\n",
    "        num_buckets=num_buckets,\n",
    "        max_distance=max_distance,\n",
    "    )\n",
    "    values = relative_attention_bias(relative_position_bucket)  # shape (query_length, key_length, num_heads)\n",
    "    values = values.permute([2, 0, 1]).unsqueeze(0)  # shape (1, num_heads, query_length, key_length)\n",
    "    return values\n",
    "\n",
    "def block_diagonal_concat_inverted(*masks, dtype=torch.bfloat16):\n",
    "    total_size = sum(mask.size(0) for mask in masks)\n",
    "    combined_mask = torch.zeros(total_size, total_size, dtype=dtype)\n",
    "\n",
    "    current_pos = 0\n",
    "\n",
    "    for mask in masks:\n",
    "        size = mask.size(0)\n",
    "        combined_mask[current_pos:current_pos + size, current_pos:current_pos + size] = mask\n",
    "        current_pos += size\n",
    "\n",
    "    min_value = torch.finfo(dtype).min if dtype.is_floating_point else torch.iinfo(dtype).min\n",
    "    inverted_mask = torch.where(combined_mask == 1, torch.tensor(0, dtype=dtype), min_value)\n",
    "    return inverted_mask.unsqueeze(0)\n",
    "\n",
    "def pad_attention_mask(attention_mask, maxlen = 2048):\n",
    "    maxlen_right = maxlen\n",
    "    maxlen_bottom = maxlen\n",
    "    attention_mask = [\n",
    "        F.pad(\n",
    "            attention_mask[i],\n",
    "            (0, maxlen_right - attention_mask[i].shape[1], 0, maxlen_bottom - attention_mask[i].shape[0])) for i in range(\n",
    "            len(attention_mask))]\n",
    "    return torch.stack(attention_mask)\n",
    "\n",
    "def pad_attention_mask_4d(attention_mask, maxlen = 2048):\n",
    "    maxlen_right = maxlen\n",
    "    maxlen_bottom = maxlen\n",
    "    attention_mask = [\n",
    "        F.pad(\n",
    "            attention_mask[i],\n",
    "            (0, maxlen_right - attention_mask[i].shape[-2], 0, maxlen_bottom - attention_mask[i].shape[-1])) for i in range(\n",
    "            len(attention_mask))]\n",
    "    return torch.stack(attention_mask)\n",
    "\n",
    "def block_diagonal_concat(*masks, dtype=torch.bfloat16):\n",
    "    total_size = sum(mask.size(0) for mask in masks)\n",
    "    combined_mask = torch.zeros(total_size, total_size, dtype=dtype)\n",
    "\n",
    "    current_pos = 0\n",
    "\n",
    "    for mask in masks:\n",
    "        size = mask.size(0)\n",
    "        combined_mask[current_pos:current_pos + size, current_pos:current_pos + size] = mask\n",
    "        current_pos += size\n",
    "\n",
    "    return combined_mask\n",
    "\n",
    "def block_diagonal_concat_4d(*masks, dtype=torch.bfloat16):\n",
    "    total_size = sum(mask.size(1) for mask in masks)\n",
    "    combined_mask = torch.zeros(masks[0].shape[0], \n",
    "                                total_size, total_size, dtype=dtype)\n",
    "\n",
    "    current_pos = 0\n",
    "\n",
    "    for mask in masks:\n",
    "        size = mask.size(1)\n",
    "        combined_mask[:, current_pos:current_pos + size, current_pos:current_pos + size] = mask\n",
    "        current_pos += size\n",
    "\n",
    "    return combined_mask\n",
    "\n",
    "def block_diagonal_concat_cross(*masks, dtype=torch.bfloat16):\n",
    "    total_rows = sum(mask.size(0) for mask in masks)\n",
    "    total_cols = sum(mask.size(1) for mask in masks)\n",
    "    \n",
    "    combined_mask = torch.zeros((total_rows, total_cols), dtype=dtype)\n",
    "    \n",
    "    current_row, current_col = 0, 0\n",
    "\n",
    "    for mask in masks:\n",
    "        rows, cols = mask.size()\n",
    "        combined_mask[current_row:current_row + rows, current_col:current_col + cols] = mask\n",
    "        current_row += rows\n",
    "        current_col += cols\n",
    "        \n",
    "    return combined_mask\n",
    "\n",
    "def collator(batch, pad_token_id = 1, label_pad = -100, maxlen = 2048):\n",
    "    max_length = maxlen\n",
    "    results = {}\n",
    "    results['input_ids'] = [\n",
    "        b['input_ids'] + [pad_token_id] * (max_length - len(b['input_ids']))\n",
    "        for b in batch\n",
    "    ]\n",
    "    results['input_ids'] = torch.tensor(results['input_ids'], dtype = torch.int64)\n",
    "    \n",
    "    max_length = maxlen\n",
    "    results['labels'] = [\n",
    "        b['labels'] + [label_pad] * (max_length - len(b['labels']))\n",
    "        for b in batch\n",
    "    ]\n",
    "    results['labels'] = torch.tensor(results['labels'], dtype = torch.int64)\n",
    "    \n",
    "    results['position_bias'] = pad_attention_mask_4d([b['position_bias'] for b in batch])\n",
    "    results['decoder_position_bias'] = pad_attention_mask_4d([b['decoder_position_bias'] for b in batch])\n",
    "    \n",
    "    attention_mask = [b['attention_mask'] for b in batch]\n",
    "    results['attention_mask'] = pad_attention_mask(attention_mask)\n",
    "    encoder_attention_mask = [b['encoder_attention_mask'] for b in batch]\n",
    "    results['encoder_attention_mask'] = pad_attention_mask(encoder_attention_mask)\n",
    "    decoder_attention_mask = [b['decoder_attention_mask'] for b in batch]\n",
    "    results['decoder_attention_mask'] = pad_attention_mask(decoder_attention_mask)\n",
    "    \n",
    "    dtype = results['attention_mask'].dtype\n",
    "    encoder_extended_attention_mask = results['attention_mask'][:, None, :, :]\n",
    "    encoder_extended_attention_mask = encoder_extended_attention_mask\n",
    "    encoder_extended_attention_mask = (1.0 - encoder_extended_attention_mask) * torch.finfo(dtype).min\n",
    "    results['position_bias'] = results['position_bias'] + encoder_extended_attention_mask\n",
    "    \n",
    "    dtype = results['decoder_attention_mask'].dtype\n",
    "    encoder_extended_attention_mask = results['decoder_attention_mask'][:, None, :, :]\n",
    "    encoder_extended_attention_mask = encoder_extended_attention_mask\n",
    "    encoder_extended_attention_mask = (1.0 - encoder_extended_attention_mask) * torch.finfo(dtype).min\n",
    "    results['decoder_position_bias'] = results['decoder_position_bias'] + encoder_extended_attention_mask\n",
    "    \n",
    "    return results"
   ]
  },
  {
   "cell_type": "code",
   "execution_count": 12,
   "id": "a3b8ed3f",
   "metadata": {},
   "outputs": [],
   "source": [
    "!rm -rf tokenized-post\n",
    "!mkdir tokenized-post"
   ]
  },
  {
   "cell_type": "code",
   "execution_count": 13,
   "id": "95e6f315",
   "metadata": {},
   "outputs": [],
   "source": [
    "def loop(files, block_size = 2048):\n",
    "    files, index = files\n",
    "    \n",
    "    out_root = f'tokenized-post/tokenized-{index}'\n",
    "    os.system(f'rm -rf {out_root}')\n",
    "    \n",
    "    count_input_ids = 0\n",
    "    count_labels = 0\n",
    "    input_ids = []\n",
    "    labels = []\n",
    "    lengths = []\n",
    "    found = False\n",
    "    with MDSWriter(out=out_root, columns=columns, compression=None, hashes=hashes) as out:\n",
    "        for f in files:\n",
    "            with open(f) as fopen:\n",
    "                for l in tqdm(fopen):\n",
    "                    try:\n",
    "                        l = json.loads(l)['translation']\n",
    "                        \n",
    "                        left = len(l['src'].split())\n",
    "                        right = len(l['src'].split())\n",
    "                        \n",
    "                        if left < 1:\n",
    "                            continue\n",
    "                            \n",
    "                        if right < 1:\n",
    "                            continue\n",
    "                        \n",
    "                        if (left / right) < 0.5:\n",
    "                            continue\n",
    "                        \n",
    "                        if (right / left) < 0.5:\n",
    "                            continue\n",
    "                            \n",
    "                        left = l['prefix'] + l['src'] + tokenizer.eos_token\n",
    "                        right = l['tgt'] + tokenizer.eos_token\n",
    "\n",
    "                        left = tokenizer(left)['input_ids']\n",
    "                        right = tokenizer(right)['input_ids']\n",
    "                        \n",
    "                        if len(left) > block_size or len(right) > block_size:\n",
    "                            continue\n",
    "                    except:\n",
    "                        continue\n",
    "\n",
    "                    if count_input_ids + len(left) >= block_size or count_labels + len(right) >= block_size:\n",
    "                        \n",
    "                        if len(input_ids) and len(labels):\n",
    "                            d = {\n",
    "                                'input_ids': input_ids,\n",
    "                                'labels': labels,\n",
    "                                'lengths': lengths\n",
    "                            }\n",
    "                            count_input_ids = len(left)\n",
    "                            count_labels = len(right)\n",
    "                            input_ids = left\n",
    "                            labels = right\n",
    "                            lengths = [(len(left), len(right))]\n",
    "                            # print(input_ids, '\\n\\n', labels, '\\n\\n', lengths, d)\n",
    "\n",
    "                            d = json.dumps(d)\n",
    "\n",
    "                            out.write({\n",
    "                                'data': d,\n",
    "                            })\n",
    "                            # break\n",
    "\n",
    "                    else:\n",
    "                        count_input_ids += len(left)\n",
    "                        count_labels += len(right)\n",
    "                        input_ids.extend(left)\n",
    "                        labels.extend(right)\n",
    "                        lengths.append((len(left), len(right)))\n",
    "        \n",
    "        if len(input_ids) and len(labels):\n",
    "            d = {\n",
    "                'input_ids': input_ids,\n",
    "                'labels': labels,\n",
    "                'lengths': lengths\n",
    "            }\n",
    "            \n",
    "            d = json.dumps(d)\n",
    "            \n",
    "            out.write({\n",
    "                'data': d,\n",
    "            })"
   ]
  },
  {
   "cell_type": "code",
   "execution_count": 14,
   "id": "205eec9c",
   "metadata": {},
   "outputs": [],
   "source": [
    "# !wget https://gist.githubusercontent.com/huseinzol05/98974ae8c6c7a65d4bc0af9f5003786a/raw/2e06e71ef7349a57bc58cc9913ae6bae1f9f8447/mp.py"
   ]
  },
  {
   "cell_type": "code",
   "execution_count": 15,
   "id": "7bd2ad88",
   "metadata": {},
   "outputs": [],
   "source": [
    "# loop((files[:1], 0))"
   ]
  },
  {
   "cell_type": "code",
   "execution_count": 16,
   "id": "2d9688c4",
   "metadata": {},
   "outputs": [],
   "source": [
    "import mp"
   ]
  },
  {
   "cell_type": "code",
   "execution_count": 17,
   "id": "aedee178",
   "metadata": {},
   "outputs": [
    {
     "data": {
      "text/plain": [
       "61"
      ]
     },
     "execution_count": 17,
     "metadata": {},
     "output_type": "execute_result"
    }
   ],
   "source": [
    "len(files)"
   ]
  },
  {
   "cell_type": "code",
   "execution_count": 18,
   "id": "eb6025b5",
   "metadata": {},
   "outputs": [],
   "source": [
    "# loop((files[-1:], 0))"
   ]
  },
  {
   "cell_type": "code",
   "execution_count": null,
   "id": "baa99e45",
   "metadata": {
    "scrolled": true
   },
   "outputs": [
    {
     "name": "stderr",
     "output_type": "stream",
     "text": [
      "201170it [00:35, 5725.23it/s]\n",
      "500000it [01:07, 7406.28it/s]]\n",
      "500000it [01:25, 5868.10it/s] \n",
      "500000it [02:20, 3557.34it/s]\n",
      "500000it [01:47, 4629.94it/s]\n",
      "353508it [00:58, 6413.03it/s]\n",
      "500000it [01:20, 6221.59it/s]]\n",
      "213365it [00:53, 808.09it/s]] \n",
      "500000it [01:18, 6338.11it/s] \n",
      "411036it [04:03, 1449.84it/s] \n",
      "500000it [01:04, 7703.55it/s] \n",
      "258234it [02:02, 2116.26it/s]\n",
      "500000it [04:39, 1789.88it/s] \n",
      "500000it [02:18, 3612.69it/s]]\n",
      "500000it [04:43, 1762.79it/s] \n",
      "39325it [00:06, 5818.09it/s]] \n",
      "500000it [04:52, 1709.24it/s]\n",
      "500000it [01:29, 5617.53it/s] \n",
      "500000it [01:07, 7402.54it/s] \n",
      "500000it [01:23, 5992.95it/s] \n",
      "500000it [01:40, 4965.33it/s]]\n",
      "160984it [01:38, 1641.81it/s]]\n",
      "500000it [01:05, 7668.47it/s] \n",
      "500000it [07:00, 1189.20it/s] \n",
      "500000it [02:51, 2919.98it/s] \n",
      "500000it [01:09, 7191.82it/s] \n",
      "500000it [00:55, 9075.74it/s] \n",
      "500000it [01:47, 4663.53it/s]\n",
      "500000it [02:08, 3879.38it/s]]\n",
      "500000it [04:42, 1769.56it/s] \n",
      "500000it [02:01, 4121.69it/s] \n",
      "500000it [00:51, 9653.03it/s] \n",
      "500000it [09:25, 884.75it/s] \n",
      "500000it [03:59, 2088.45it/s]\n",
      "500000it [05:28, 1523.85it/s]\n",
      "500000it [01:27, 5711.84it/s]]\n",
      "500000it [00:49, 10134.84it/s]\n",
      "500000it [02:27, 3393.41it/s]\n",
      "500000it [03:08, 2650.76it/s]\n",
      "93142it [03:15, 471.59it/s]s]\n",
      "500000it [06:48, 1224.21it/s]\n",
      "500000it [03:50, 2169.39it/s]]\n",
      "500000it [02:05, 3974.59it/s] \n",
      "500000it [09:27, 880.89it/s]]\n",
      "500000it [02:35, 3217.87it/s]\n",
      "500000it [03:32, 2356.92it/s]\n",
      "500000it [04:12, 1979.85it/s]\n",
      "500000it [15:04, 552.90it/s]]\n",
      "500000it [09:40, 862.02it/s]  \n",
      "500000it [11:54, 699.82it/s] \n",
      "500000it [06:27, 1291.23it/s] \n",
      "500000it [02:04, 4019.57it/s]\n",
      "500000it [07:34, 1100.87it/s]\n",
      "500000it [08:27, 985.89it/s] \n",
      "153415it [00:46, 3355.50it/s]]"
     ]
    }
   ],
   "source": [
    "mp.multiprocessing(files, loop, cores = 10, returned = False)"
   ]
  },
  {
   "cell_type": "code",
   "execution_count": null,
   "id": "cb405c37",
   "metadata": {},
   "outputs": [],
   "source": [
    "folders = sorted(glob('tokenized-post/tokenized-*'), key = lambda x: int(x.split('-')[-1]))\n",
    "folders"
   ]
  },
  {
   "cell_type": "code",
   "execution_count": null,
   "id": "c097d884",
   "metadata": {
    "scrolled": true
   },
   "outputs": [],
   "source": [
    "!rm -rf packing-post"
   ]
  },
  {
   "cell_type": "code",
   "execution_count": null,
   "id": "c654363e",
   "metadata": {},
   "outputs": [],
   "source": [
    "with MDSWriter(out='packing-post', columns=columns, compression=None, hashes=hashes) as out:\n",
    "    for f in folders:\n",
    "        try:\n",
    "            dataset = LocalDataset(local=f)\n",
    "            for i in tqdm(range(len(dataset))):\n",
    "                out.write(dataset[i])\n",
    "        except Exception as e:\n",
    "            print(e)\n",
    "            pass"
   ]
  },
  {
   "cell_type": "code",
   "execution_count": null,
   "id": "212bffdb",
   "metadata": {},
   "outputs": [],
   "source": [
    "dataset = LocalDataset('packing-post')"
   ]
  },
  {
   "cell_type": "code",
   "execution_count": null,
   "id": "ad45eb8c",
   "metadata": {
    "scrolled": true
   },
   "outputs": [],
   "source": [
    "len(dataset) * 2048"
   ]
  },
  {
   "cell_type": "code",
   "execution_count": null,
   "id": "f31df40e",
   "metadata": {},
   "outputs": [],
   "source": [
    "!du -hs packing-post"
   ]
  },
  {
   "cell_type": "code",
   "execution_count": null,
   "id": "1076c5a0",
   "metadata": {},
   "outputs": [],
   "source": [
    "# d = json.loads(dataset[0]['data'])\n",
    "# b = multipack(**d)\n",
    "# d = json.loads(dataset[1]['data'])\n",
    "# b1 = multipack(**d)"
   ]
  },
  {
   "cell_type": "code",
   "execution_count": null,
   "id": "6a38a9f0",
   "metadata": {
    "scrolled": true
   },
   "outputs": [],
   "source": [
    "# %%time\n",
    "\n",
    "# input_ids = collator([b, b1])"
   ]
  },
  {
   "cell_type": "code",
   "execution_count": null,
   "id": "8e3cf75e",
   "metadata": {},
   "outputs": [],
   "source": [
    "model.config.vocab_size"
   ]
  },
  {
   "cell_type": "code",
   "execution_count": null,
   "id": "55de22af",
   "metadata": {},
   "outputs": [],
   "source": [
    "for i in tqdm(range(len(dataset))):\n",
    "    d = json.loads(dataset[i]['data'])\n",
    "    c = (np.array(d['input_ids']) > model.config.vocab_size).sum()\n",
    "    if c > 0:\n",
    "        print(i)\n",
    "    c = (np.array(d['labels']) > model.config.vocab_size).sum()\n",
    "    if c > 0:\n",
    "        print(i)"
   ]
  },
  {
   "cell_type": "code",
   "execution_count": null,
   "id": "05468b4d",
   "metadata": {},
   "outputs": [],
   "source": [
    "(np.array(d['labels']) > model.config.vocab_size).sum()"
   ]
  },
  {
   "cell_type": "code",
   "execution_count": null,
   "id": "44d24583",
   "metadata": {
    "scrolled": true
   },
   "outputs": [],
   "source": [
    "input_ids['input_ids']"
   ]
  },
  {
   "cell_type": "code",
   "execution_count": null,
   "id": "bf65c0fd",
   "metadata": {},
   "outputs": [],
   "source": [
    "input_ids['decoder_attention_mask'].shape"
   ]
  },
  {
   "cell_type": "code",
   "execution_count": null,
   "id": "c8493ed0",
   "metadata": {},
   "outputs": [],
   "source": [
    "from huggingface_hub import create_repo, delete_repo\n",
    "\n",
    "try:\n",
    "    delete_repo(repo_id=\"mesolitica/malaysian-translation-v2-multipack-2048-post\", repo_type=\"dataset\")\n",
    "except:\n",
    "    pass\n",
    "create_repo(\"mesolitica/malaysian-translation-v2-multipack-2048-post\", repo_type=\"dataset\", private = True)"
   ]
  },
  {
   "cell_type": "code",
   "execution_count": null,
   "id": "327c86f5",
   "metadata": {},
   "outputs": [],
   "source": [
    "!du -hs packing-post"
   ]
  },
  {
   "cell_type": "code",
   "execution_count": null,
   "id": "0c7cffa0",
   "metadata": {},
   "outputs": [],
   "source": [
    "(len(dataset) * 2048) / 1e9"
   ]
  },
  {
   "cell_type": "code",
   "execution_count": null,
   "id": "0d2ef89a",
   "metadata": {},
   "outputs": [],
   "source": [
    "from huggingface_hub import HfApi\n",
    "api = HfApi()\n",
    "\n",
    "api.upload_folder(\n",
    "    folder_path=\"packing-post\",\n",
    "    repo_id=\"mesolitica/malaysian-translation-v2-multipack-2048-post\",\n",
    "    repo_type=\"dataset\",\n",
    ")"
   ]
  },
  {
   "cell_type": "code",
   "execution_count": null,
   "id": "304b2006",
   "metadata": {},
   "outputs": [],
   "source": [
    "len(b['labels'])"
   ]
  },
  {
   "cell_type": "code",
   "execution_count": null,
   "id": "620849f2",
   "metadata": {},
   "outputs": [],
   "source": []
  }
 ],
 "metadata": {
  "kernelspec": {
   "display_name": "python3.10",
   "language": "python",
   "name": "python3.10"
  },
  "language_info": {
   "codemirror_mode": {
    "name": "ipython",
    "version": 3
   },
   "file_extension": ".py",
   "mimetype": "text/x-python",
   "name": "python",
   "nbconvert_exporter": "python",
   "pygments_lexer": "ipython3",
   "version": "3.10.15"
  }
 },
 "nbformat": 4,
 "nbformat_minor": 5
}
