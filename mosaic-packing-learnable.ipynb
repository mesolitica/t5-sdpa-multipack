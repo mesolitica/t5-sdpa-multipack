{
 "cells": [
  {
   "cell_type": "code",
   "execution_count": 1,
   "id": "ba947cb9",
   "metadata": {},
   "outputs": [],
   "source": [
    "# !pip3.10 install --pre torch==2.5.0.dev20240912+cu121 --index-url https://download.pytorch.org/whl/nightly/cu121"
   ]
  },
  {
   "cell_type": "code",
   "execution_count": 2,
   "id": "b3a352af",
   "metadata": {},
   "outputs": [],
   "source": [
    "# !pip3.10 install torch -U"
   ]
  },
  {
   "cell_type": "code",
   "execution_count": 3,
   "id": "1da3bf03",
   "metadata": {},
   "outputs": [],
   "source": [
    "# !pip3.10 uninstall transformers -y"
   ]
  },
  {
   "cell_type": "code",
   "execution_count": 4,
   "id": "2f7a6217",
   "metadata": {},
   "outputs": [],
   "source": [
    "# !pip3.10 install -e . --no-deps"
   ]
  },
  {
   "cell_type": "code",
   "execution_count": 5,
   "id": "3e0b726d",
   "metadata": {},
   "outputs": [],
   "source": [
    "import json\n",
    "import torch\n",
    "import torch.nn.functional as F\n",
    "import math\n",
    "from glob import glob"
   ]
  },
  {
   "cell_type": "code",
   "execution_count": 6,
   "id": "a22bc36e",
   "metadata": {},
   "outputs": [
    {
     "name": "stderr",
     "output_type": "stream",
     "text": [
      "Special tokens have been added in the vocabulary, make sure the associated word embeddings are fine-tuned or trained.\n"
     ]
    }
   ],
   "source": [
    "from transformers import AutoTokenizer, T5ForConditionalGeneration\n",
    "\n",
    "tokenizer = AutoTokenizer.from_pretrained('mesolitica/nanot5-small-malaysian-cased', local_files_only = True)"
   ]
  },
  {
   "cell_type": "code",
   "execution_count": 7,
   "id": "2e029640",
   "metadata": {},
   "outputs": [],
   "source": [
    "model = T5ForConditionalGeneration.from_pretrained('mesolitica/nanot5-small-malaysian-translation-v2',\n",
    "                                                  attn_implementation = 'sdpa', local_files_only = True).to(torch.bfloat16)"
   ]
  },
  {
   "cell_type": "code",
   "execution_count": 8,
   "id": "0bd31c24",
   "metadata": {},
   "outputs": [],
   "source": [
    "from streaming import MDSWriter\n",
    "from streaming.base.format.mds.encodings import Encoding, _encodings\n",
    "from streaming import LocalDataset\n",
    "import streaming\n",
    "import numpy as np\n",
    "from tqdm import tqdm\n",
    "from glob import glob\n",
    "import os\n",
    "import json\n",
    "\n",
    "class UInt32(Encoding):\n",
    "    def encode(self, obj) -> bytes:\n",
    "        return obj.tobytes()\n",
    "\n",
    "    def decode(self, data: bytes):\n",
    "        return np.frombuffer(data, np.uint32)\n",
    "\n",
    "_encodings['uint32'] = UInt32\n",
    "\n",
    "columns = {\n",
    "    'data': 'str',\n",
    "}\n",
    "hashes = 'sha1', 'xxh64'"
   ]
  },
  {
   "cell_type": "code",
   "execution_count": 9,
   "id": "6a492b56",
   "metadata": {},
   "outputs": [],
   "source": [
    "def block_diagonal_concat_inverted(*masks, dtype=torch.bfloat16):\n",
    "    total_size = sum(mask.size(0) for mask in masks)\n",
    "    combined_mask = torch.zeros(total_size, total_size, dtype=dtype)\n",
    "\n",
    "    current_pos = 0\n",
    "\n",
    "    for mask in masks:\n",
    "        size = mask.size(0)\n",
    "        combined_mask[current_pos:current_pos + size, current_pos:current_pos + size] = mask\n",
    "        current_pos += size\n",
    "\n",
    "    min_value = torch.finfo(dtype).min if dtype.is_floating_point else torch.iinfo(dtype).min\n",
    "    inverted_mask = torch.where(combined_mask == 1, torch.tensor(0, dtype=dtype), min_value)\n",
    "    return inverted_mask.unsqueeze(0)\n",
    "\n",
    "def pad_attention_mask(attention_mask):\n",
    "    maxlen_right = max([attention_mask[i].shape[1] for i in range(len(attention_mask))])\n",
    "    maxlen_bottom = max([attention_mask[i].shape[0] for i in range(len(attention_mask))])\n",
    "    attention_mask = [\n",
    "        F.pad(\n",
    "            attention_mask[i],\n",
    "            (0, maxlen_right - attention_mask[i].shape[1], 0, maxlen_bottom - attention_mask[i].shape[0])) for i in range(\n",
    "            len(attention_mask))]\n",
    "    return torch.stack(attention_mask)\n",
    "\n",
    "def pad_attention_mask_4d(attention_mask):\n",
    "    maxlen_right = max([attention_mask[i].shape[-2] for i in range(len(attention_mask))])\n",
    "    maxlen_bottom = max([attention_mask[i].shape[-1] for i in range(len(attention_mask))])\n",
    "    attention_mask = [\n",
    "        F.pad(\n",
    "            attention_mask[i],\n",
    "            (0, maxlen_right - attention_mask[i].shape[-2], 0, maxlen_bottom - attention_mask[i].shape[-1])) for i in range(\n",
    "            len(attention_mask))]\n",
    "    return torch.stack(attention_mask)\n",
    "\n",
    "def block_diagonal_concat(*masks, dtype=torch.bfloat16):\n",
    "    total_size = sum(mask.size(0) for mask in masks)\n",
    "    combined_mask = torch.zeros(total_size, total_size, dtype=dtype)\n",
    "\n",
    "    current_pos = 0\n",
    "\n",
    "    for mask in masks:\n",
    "        size = mask.size(0)\n",
    "        combined_mask[current_pos:current_pos + size, current_pos:current_pos + size] = mask\n",
    "        current_pos += size\n",
    "\n",
    "    return combined_mask\n",
    "\n",
    "def block_diagonal_concat_4d(*masks, dtype=torch.bfloat16):\n",
    "    total_size = sum(mask.size(1) for mask in masks)\n",
    "    combined_mask = torch.zeros(masks[0].shape[0], \n",
    "                                total_size, total_size, dtype=dtype)\n",
    "\n",
    "    current_pos = 0\n",
    "\n",
    "    for mask in masks:\n",
    "        size = mask.size(1)\n",
    "        combined_mask[:, current_pos:current_pos + size, current_pos:current_pos + size] = mask\n",
    "        current_pos += size\n",
    "\n",
    "    return combined_mask\n",
    "\n",
    "def block_diagonal_concat_cross(*masks, dtype=torch.bfloat16):\n",
    "    total_rows = sum(mask.size(0) for mask in masks)\n",
    "    total_cols = sum(mask.size(1) for mask in masks)\n",
    "    \n",
    "    combined_mask = torch.zeros((total_rows, total_cols), dtype=dtype)\n",
    "    \n",
    "    current_row, current_col = 0, 0\n",
    "\n",
    "    for mask in masks:\n",
    "        rows, cols = mask.size()\n",
    "        combined_mask[current_row:current_row + rows, current_col:current_col + cols] = mask\n",
    "        current_row += rows\n",
    "        current_col += cols\n",
    "        \n",
    "    return combined_mask\n",
    "\n",
    "def multipack(input_ids, labels, lengths):\n",
    "    results = {\n",
    "        'input_ids': input_ids,\n",
    "        'labels': labels,\n",
    "    }\n",
    "    attention_mask = []\n",
    "    encoder_attention_mask = []\n",
    "    decoder_attention_mask = []\n",
    "    encoder_lengths = []\n",
    "    decoder_lengths = []\n",
    "    \n",
    "    for length in lengths:\n",
    "        left_len = length[0]\n",
    "        right_len = length[1]\n",
    "        \n",
    "        attention_mask.append(torch.ones(left_len, left_len))\n",
    "        encoder_attention_mask.append(torch.ones(right_len, left_len))\n",
    "        decoder_attention_mask.append(torch.tril(torch.ones(right_len, right_len)))\n",
    "        \n",
    "        encoder_lengths.append([left_len, left_len])\n",
    "        decoder_lengths.append([right_len, right_len])\n",
    "        \n",
    "    results['attention_mask'] = block_diagonal_concat(*attention_mask)\n",
    "    results['encoder_attention_mask'] = block_diagonal_concat_cross(*encoder_attention_mask)\n",
    "    results['decoder_attention_mask'] = block_diagonal_concat(*decoder_attention_mask)\n",
    "    \n",
    "    results['encoder_lengths'] = torch.tensor(encoder_lengths)\n",
    "    results['decoder_lengths'] = torch.tensor(decoder_lengths)\n",
    "    \n",
    "    return results\n",
    "\n",
    "def collator(batch, pad_token_id = 1, label_pad = -100):\n",
    "    max_length = max(len(l['input_ids']) for l in batch)\n",
    "    results = {}\n",
    "    results['input_ids'] = [\n",
    "        b['input_ids'] + [pad_token_id] * (max_length - len(b['input_ids']))\n",
    "        for b in batch\n",
    "    ]\n",
    "    results['input_ids'] = torch.tensor(results['input_ids'], dtype = torch.int64)\n",
    "    \n",
    "    max_length = max(len(l['labels']) for l in batch)\n",
    "    results['labels'] = [\n",
    "        b['labels'] + [label_pad] * (max_length - len(b['labels']))\n",
    "        for b in batch\n",
    "    ]\n",
    "    results['labels'] = torch.tensor(results['labels'], dtype = torch.int64)\n",
    "    \n",
    "    attention_mask = [b['attention_mask'] for b in batch]\n",
    "    results['attention_mask'] = pad_attention_mask(attention_mask)\n",
    "    encoder_attention_mask = [b['encoder_attention_mask'] for b in batch]\n",
    "    results['encoder_attention_mask'] = pad_attention_mask(encoder_attention_mask)\n",
    "    decoder_attention_mask = [b['decoder_attention_mask'] for b in batch]\n",
    "    results['decoder_attention_mask'] = pad_attention_mask(decoder_attention_mask)\n",
    "    \n",
    "    results['encoder_lengths'] = torch.concat([b['encoder_lengths'] for b in batch])\n",
    "    results['decoder_lengths'] = torch.concat([b['decoder_lengths'] for b in batch])\n",
    "\n",
    "    return results"
   ]
  },
  {
   "cell_type": "code",
   "execution_count": 10,
   "id": "212bffdb",
   "metadata": {},
   "outputs": [],
   "source": [
    "dataset = LocalDataset('/home/husein/mesolitica/t5-sdpa-multipack/packing')"
   ]
  },
  {
   "cell_type": "code",
   "execution_count": 11,
   "id": "ad45eb8c",
   "metadata": {},
   "outputs": [
    {
     "data": {
      "text/plain": [
       "2390857"
      ]
     },
     "execution_count": 11,
     "metadata": {},
     "output_type": "execute_result"
    }
   ],
   "source": [
    "len(dataset)"
   ]
  },
  {
   "cell_type": "code",
   "execution_count": 12,
   "id": "1076c5a0",
   "metadata": {},
   "outputs": [],
   "source": [
    "d = json.loads(dataset[0]['data'])\n",
    "b = multipack(**d)\n",
    "d = json.loads(dataset[1]['data'])\n",
    "b1 = multipack(**d)"
   ]
  },
  {
   "cell_type": "code",
   "execution_count": 14,
   "id": "6a38a9f0",
   "metadata": {
    "scrolled": true
   },
   "outputs": [
    {
     "name": "stdout",
     "output_type": "stream",
     "text": [
      "CPU times: user 206 ms, sys: 21.9 ms, total: 228 ms\n",
      "Wall time: 22.3 ms\n"
     ]
    }
   ],
   "source": [
    "%%time\n",
    "\n",
    "input_ids = collator([b])"
   ]
  },
  {
   "cell_type": "code",
   "execution_count": 15,
   "id": "8b9c1d46",
   "metadata": {
    "scrolled": true
   },
   "outputs": [
    {
     "data": {
      "text/plain": [
       "torch.Size([1, 2001])"
      ]
     },
     "execution_count": 15,
     "metadata": {},
     "output_type": "execute_result"
    }
   ],
   "source": [
    "input_ids['input_ids'].shape"
   ]
  },
  {
   "cell_type": "code",
   "execution_count": 16,
   "id": "a107e7b7",
   "metadata": {},
   "outputs": [],
   "source": [
    "_ = model.cuda()"
   ]
  },
  {
   "cell_type": "code",
   "execution_count": 17,
   "id": "103b0ed0",
   "metadata": {},
   "outputs": [],
   "source": [
    "for k in input_ids.keys():\n",
    "    input_ids[k] = input_ids[k].cuda()"
   ]
  },
  {
   "cell_type": "code",
   "execution_count": 19,
   "id": "bdc7ec34",
   "metadata": {
    "scrolled": true
   },
   "outputs": [
    {
     "name": "stdout",
     "output_type": "stream",
     "text": [
      "position_bias torch.Size([1, 8, 2001, 2001])\n",
      "position_bias torch.Size([1, 8, 1756, 1756])\n"
     ]
    }
   ],
   "source": [
    "o = model(**input_ids)"
   ]
  },
  {
   "cell_type": "code",
   "execution_count": null,
   "id": "c8493ed0",
   "metadata": {},
   "outputs": [],
   "source": [
    "from huggingface_hub import create_repo, delete_repo\n",
    "\n",
    "try:\n",
    "    delete_repo(repo_id=\"mesolitica/malaysian-translation-v2-multipack-2048\", repo_type=\"dataset\")\n",
    "except:\n",
    "    pass\n",
    "create_repo(\"mesolitica/malaysian-translation-v2-multipack-2048\", repo_type=\"dataset\", private = True)"
   ]
  },
  {
   "cell_type": "code",
   "execution_count": null,
   "id": "327c86f5",
   "metadata": {},
   "outputs": [],
   "source": [
    "!du -hs packing"
   ]
  },
  {
   "cell_type": "code",
   "execution_count": null,
   "id": "0d2ef89a",
   "metadata": {},
   "outputs": [],
   "source": [
    "from huggingface_hub import HfApi\n",
    "api = HfApi()\n",
    "\n",
    "api.upload_folder(\n",
    "    folder_path=\"packing\",\n",
    "    repo_id=\"mesolitica/malaysian-translation-v2-multipack-2048\",\n",
    "    repo_type=\"dataset\",\n",
    ")"
   ]
  }
 ],
 "metadata": {
  "kernelspec": {
   "display_name": "python3.10",
   "language": "python",
   "name": "python3.10"
  },
  "language_info": {
   "codemirror_mode": {
    "name": "ipython",
    "version": 3
   },
   "file_extension": ".py",
   "mimetype": "text/x-python",
   "name": "python",
   "nbconvert_exporter": "python",
   "pygments_lexer": "ipython3",
   "version": "3.10.14"
  }
 },
 "nbformat": 4,
 "nbformat_minor": 5
}
